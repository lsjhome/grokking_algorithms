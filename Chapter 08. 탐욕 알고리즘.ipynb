{
 "cells": [
  {
   "cell_type": "markdown",
   "metadata": {},
   "source": [
    "# Chapter 08. 탐욕 알고리즘"
   ]
  },
  {
   "cell_type": "markdown",
   "metadata": {},
   "source": [
    "## 01. 수업 시간표 짜기 문제"
   ]
  },
  {
   "cell_type": "markdown",
   "metadata": {},
   "source": [
    "<img src='./images/08_greedy_algorithms/081_the_classroom_scheduling_problem/classes_overlapping.png' width=70%>"
   ]
  },
  {
   "cell_type": "markdown",
   "metadata": {},
   "source": [
    "최대한 많은 수업을 들으려먼 어떻게 할까?"
   ]
  },
  {
   "cell_type": "markdown",
   "metadata": {},
   "source": [
    "**1. 가장 빨리 끝나는 과목을 고른다. 이 과목이 처음으로 신청할 과목이다.** <br>\n",
    "**2. 이제는 첫 번째 과목이 끝난 후에 시작하는 과목을 고른다. 마찬가지로 가장 빨리 끝나는 과목을 고른다.**"
   ]
  },
  {
   "cell_type": "markdown",
   "metadata": {},
   "source": [
    "<img src='./images/08_greedy_algorithms/081_the_classroom_scheduling_problem/classes_final.png' width=60%>"
   ]
  },
  {
   "cell_type": "markdown",
   "metadata": {},
   "source": [
    "이렇게 간단한 것이 탐욕 알고리즘(greedy algorithm)의 장점이다. 각각의 단계에서 최적의 수를 찾아내면 된다. 각 단계에서 국소 최적해(locally optimal soultion)을 찾음으로써 최종적으로는 전역 최적해(globally optimal solution)을 찾게 되는 것이다.\n",
    "\n",
    "물론 탐욕 알고리즘이 항상 성공하는 것은 아니다. 하지만 구현하기 간단하다는 장점이 있다."
   ]
  },
  {
   "cell_type": "markdown",
   "metadata": {},
   "source": [
    "## 02. 배낭 채우기 문제"
   ]
  },
  {
   "cell_type": "markdown",
   "metadata": {},
   "source": [
    "<img src='./images/08_greedy_algorithms/082_the_knapsack_problem/35_lbs_bag.png' width=20%>"
   ]
  },
  {
   "cell_type": "markdown",
   "metadata": {},
   "source": [
    "35파운드(lbs)를 채울 가방을 가지고 있는 도둑이 있다고 가정하자. 배낭에 넣을 물건의 가격의 합을 최대한 크게 하고자 한다. 어떤 알고리즘을 사용해야 할까?"
   ]
  },
  {
   "cell_type": "markdown",
   "metadata": {},
   "source": [
    "** 1. 가방에 들어갈 수 있는 것 중에서 가장 비싼 물걸을 고른다. ** <br>\n",
    "** 2. 그 다음으로 가방에 들어갈 수 있는 물건 중에서 가장 비싼 것을 고른다.**"
   ]
  },
  {
   "cell_type": "markdown",
   "metadata": {},
   "source": [
    "<img src='./images/08_greedy_algorithms/082_the_knapsack_problem/items_and_prices.png' width=60%>"
   ]
  },
  {
   "cell_type": "markdown",
   "metadata": {},
   "source": [
    "이 경우 가장 비싼 스테레오를 훔치면 3,000달러치를 훔치지만 5lbs가 비게 된다. 반면 노트북과 기타를 같이 훔치면 총 가치는 3,500달러가 된다."
   ]
  },
  {
   "cell_type": "markdown",
   "metadata": {},
   "source": [
    "이렇듯 탐욕 알고리즘은 올바른 답은 내놓지 못하더라도 정답에 상당히 가까운 답을 낸다. 이토록 구현이 간단하면서도 보통은 정답에 상당히 가까운 답을 줄 때에는 탐욕 알고리즘이 상당히 좋다."
   ]
  },
  {
   "cell_type": "markdown",
   "metadata": {},
   "source": [
    "## 03. 집합 커버링 문제"
   ]
  },
  {
   "cell_type": "markdown",
   "metadata": {},
   "source": [
    "전국의 모든 사람들이 최소한 한 번은 들을 수 있도록 쇼를 하는 것이 목적이다. 이를 위해서 어떤 방송국을 방문할지 계산해야 한다. 방송국을 방문하는 것은 돈과 시간이 들기 때문에 최대한 적은 수의 방송국을 돌아야 한다. 일단 방송국 목록은 아래와 같다."
   ]
  },
  {
   "cell_type": "markdown",
   "metadata": {},
   "source": [
    "<img src='./images/08_greedy_algorithms/083_the_set_covering_problem/radio_station_list.png' width=20%>"
   ]
  },
  {
   "cell_type": "markdown",
   "metadata": {},
   "source": [
    "각 방송국마다 커버할 수 있는 지역이 서로 다르고 겹치는 지역이 있을수도 있다."
   ]
  },
  {
   "cell_type": "markdown",
   "metadata": {},
   "source": [
    "<img src='./images/08_greedy_algorithms/083_the_set_covering_problem/overlaps.png' width=30%>"
   ]
  },
  {
   "cell_type": "markdown",
   "metadata": {},
   "source": [
    "50개주 전체를 커버하는 가장 적은 수의 방송국의 집합은 어떻게 구할 수 있을까? 이는 생각보다 어렵다."
   ]
  },
  {
   "cell_type": "markdown",
   "metadata": {},
   "source": [
    "** 1. 가능한 모든 방송국의 부분 집합을 나열한다. 이것을 멱집합(Power set)이라 한다. 가능한 부분 집합의 수는 $2^{n}$ 개이다. **"
   ]
  },
  {
   "cell_type": "markdown",
   "metadata": {},
   "source": [
    "<img src='./images/08_greedy_algorithms/083_the_set_covering_problem/sets.png' width=50%>"
   ]
  },
  {
   "cell_type": "markdown",
   "metadata": {},
   "source": [
    "** 2. 이 부분 집합 중에서 50개주 전체를 커버할 수 있으면서 가장 원소의 수가 적은 부분 집합을 고른다. **"
   ]
  },
  {
   "cell_type": "markdown",
   "metadata": {},
   "source": [
    "<u>문제는 모두 가능한 부분 집합을 계산하는데 시간이 너무 많이 걸린다.</u> 부분 집합의 수가 $2^{n}$ 이기 때문에 O($2^{n}$) 시간이 걸린다. 방송국의 수가 늘여나면 전체 실행 시간이 급격히 증가한다. 가령 초당 10개의 부분 집합을 확인할 수 있다 가정하면 전체 실행 시간은 다음과 같다."
   ]
  },
  {
   "cell_type": "markdown",
   "metadata": {},
   "source": [
    "<img src='./images/08_greedy_algorithms/083_the_set_covering_problem/time_taken.png' width=40%>"
   ]
  },
  {
   "cell_type": "markdown",
   "metadata": {},
   "source": [
    "### 근사 알고리즘\n",
    "<hr>"
   ]
  },
  {
   "cell_type": "markdown",
   "metadata": {},
   "source": [
    "**1. 아직 방송하지 않은 지역 중 가장 많은 지역에 방송할 수 있는 방송국을 고른다. 이미 방송되고 있는 지역이 일부 포함되어 있어도 상관없다.** <br>\n",
    "**2. 모든 주에 방송이 될 때까지 선택을 반복한다.**"
   ]
  },
  {
   "cell_type": "markdown",
   "metadata": {},
   "source": [
    "이를 근사 알고리즘(approximation algorithm)이라 한다. 정확한 답을 계산하는데 시간이 너무 많이 걸린다면 근사 알고리즘을 사용할 수 있다. 근사 알고리즘의 성능은 다음 두 가지로 판단한다."
   ]
  },
  {
   "cell_type": "markdown",
   "metadata": {},
   "source": [
    "* 얼마나 빠른가\n",
    "* 최적해에 얼마나 가까운가"
   ]
  },
  {
   "cell_type": "markdown",
   "metadata": {},
   "source": [
    "탐욕 알고리즘은 그 단순함으로 인해 실행 속도가 빠르다. 탐욕 알고리즘의 실행 속도는 O($n^{2}$) 시간이며 여기서 n은 방송국의 수를 뜻한다."
   ]
  },
  {
   "cell_type": "markdown",
   "metadata": {},
   "source": [
    "#### 준비 코드"
   ]
  },
  {
   "cell_type": "markdown",
   "metadata": {},
   "source": [
    "문제를 단순화하기 위해 50개 주 중 일부만 사용하자."
   ]
  },
  {
   "cell_type": "code",
   "execution_count": 3,
   "metadata": {},
   "outputs": [],
   "source": [
    "states_needed = set(['mt', 'wa', 'or', 'id', 'nv', 'ut','ca' ,'az'])"
   ]
  },
  {
   "cell_type": "markdown",
   "metadata": {},
   "source": [
    "선택된 방송국의 목록도 필요하다. 이 목록을 저장하기 위해 해시 테이블을 사용하자."
   ]
  },
  {
   "cell_type": "code",
   "execution_count": 8,
   "metadata": {},
   "outputs": [],
   "source": [
    "stations = {}\n",
    "stations['kone'] = set(['id', 'nv', 'ut'])\n",
    "stations['ktwo'] = set(['wa', 'id', 'mt'])\n",
    "stations['kthree'] = set(['or', 'nv', 'ca'])\n",
    "stations['kfour'] = set(['nv', 'ut'])\n",
    "stations['kfive'] = set(['ca', 'az'])"
   ]
  },
  {
   "cell_type": "markdown",
   "metadata": {},
   "source": [
    "마지막으로 방문할 방송국의 목록을 저장할 집합이 필요하다."
   ]
  },
  {
   "cell_type": "code",
   "execution_count": 9,
   "metadata": {},
   "outputs": [],
   "source": [
    "final_stations = set()"
   ]
  },
  {
   "cell_type": "markdown",
   "metadata": {},
   "source": [
    "정답은 하나만 있는 것은 아니다. 몯느 방송국을 하나씩 보면서 아직 방송이 되지 않은 주 중에서 가장 많은 주를 커버하고 있는 방송국을 고른다. 이 방송국을 best_station이라고 한다."
   ]
  },
  {
   "cell_type": "code",
   "execution_count": 10,
   "metadata": {},
   "outputs": [],
   "source": [
    "best_station = None\n",
    "states_covered = set()\n",
    "for station, states_for_station in station.items():"
   ]
  },
  {
   "cell_type": "markdown",
   "metadata": {},
   "source": [
    "states_covered는 아직 방송되지 않은 주 중에서 해당 방송국이 커버하는 주의 집합이다. for 반복문을 사용하여 어떤 것이 최선의 선택인지 알아본다. for 반복문의 내부는 아래와 같다."
   ]
  },
  {
   "cell_type": "code",
   "execution_count": null,
   "metadata": {},
   "outputs": [],
   "source": [
    "covered = states_needed & states_for_station\n",
    "if len(covered) > len(states_covered):\n",
    "    best_station = station\n",
    "    states_covered = covered"
   ]
  },
  {
   "cell_type": "markdown",
   "metadata": {},
   "source": [
    "집합에서 &는 교집합, |는 합집합이다. -는 차집합이다."
   ]
  },
  {
   "cell_type": "markdown",
   "metadata": {},
   "source": [
    "covered는 states_needed와 states_for_station에 모두 포함된 주의 집합이다. 즉, 아직 방송되지 않은 주 중에서 현재 고려하고 있는 방송국이 커버하고 있는 집합이다. 다음으로는 이 방송국이 현재의 best_station보다 더 많은 주를 커버하는지 확인한다."
   ]
  },
  {
   "cell_type": "code",
   "execution_count": null,
   "metadata": {},
   "outputs": [],
   "source": [
    "len(covered) > len(states_covered):\n",
    "    best_station = station\n",
    "    states_covered = covered"
   ]
  },
  {
   "cell_type": "markdown",
   "metadata": {},
   "source": [
    "이 방송국이 새로운 best_station이 되어야 한다. 마지막으로 for반복문이 끝나면 best_station을 방송국 목록에 추가한다."
   ]
  },
  {
   "cell_type": "code",
   "execution_count": null,
   "metadata": {},
   "outputs": [],
   "source": [
    "final_stations.add(best_station)"
   ]
  },
  {
   "cell_type": "markdown",
   "metadata": {},
   "source": [
    "states_needed도 갱신해야 한다. 왜냐하면 이 방송국에서 커버하는 주는 이제 더 이상 고려할 필요가 없기 때문이다."
   ]
  },
  {
   "cell_type": "code",
   "execution_count": null,
   "metadata": {},
   "outputs": [],
   "source": [
    "states_needed -= states_covered"
   ]
  },
  {
   "cell_type": "markdown",
   "metadata": {},
   "source": [
    "이제 states_needed가 완전히 빌 때까지 반복한다."
   ]
  },
  {
   "cell_type": "code",
   "execution_count": 13,
   "metadata": {},
   "outputs": [
    {
     "data": {
      "text/plain": [
       "{'az', 'ca', 'id', 'mt', 'nv', 'or', 'ut', 'wa'}"
      ]
     },
     "execution_count": 13,
     "metadata": {},
     "output_type": "execute_result"
    }
   ],
   "source": [
    "states_needed"
   ]
  },
  {
   "cell_type": "code",
   "execution_count": 15,
   "metadata": {},
   "outputs": [
    {
     "data": {
      "text/plain": [
       "[('kfive', {'az', 'ca'}),\n",
       " ('ktwo', {'id', 'mt', 'wa'}),\n",
       " ('kthree', {'ca', 'nv', 'or'}),\n",
       " ('kone', {'id', 'nv', 'ut'}),\n",
       " ('kfour', {'nv', 'ut'})]"
      ]
     },
     "execution_count": 15,
     "metadata": {},
     "output_type": "execute_result"
    }
   ],
   "source": [
    "stations.items()"
   ]
  },
  {
   "cell_type": "code",
   "execution_count": 16,
   "metadata": {},
   "outputs": [
    {
     "data": {
      "text/plain": [
       "set()"
      ]
     },
     "execution_count": 16,
     "metadata": {},
     "output_type": "execute_result"
    }
   ],
   "source": [
    "final_stations"
   ]
  },
  {
   "cell_type": "code",
   "execution_count": 17,
   "metadata": {},
   "outputs": [],
   "source": [
    "while states_needed:\n",
    "    best_station = None\n",
    "    states_covered = set()\n",
    "    \n",
    "    for station, states in stations.items():\n",
    "        covered = states_needed & states\n",
    "    \n",
    "        if len(covered) > len(states_covered):\n",
    "            best_station = station\n",
    "            states_covered = covered            \n",
    "    \n",
    "    states_needed -= states_covered\n",
    "    final_stations.add(best_station)"
   ]
  },
  {
   "cell_type": "code",
   "execution_count": 18,
   "metadata": {},
   "outputs": [
    {
     "name": "stdout",
     "output_type": "stream",
     "text": [
      "set(['ktwo', 'kthree', 'kone', 'kfive'])\n"
     ]
    }
   ],
   "source": [
    "print final_stations"
   ]
  },
  {
   "cell_type": "markdown",
   "metadata": {},
   "source": [
    "1, 2, 3, 5번 방송국 대신에 2, 3, 4, 5번 방송국이 올 수도 있다. 탐욕 알고리즘과 정확한 알고리즘의 실행 시간을 비교해 보자."
   ]
  },
  {
   "cell_type": "markdown",
   "metadata": {},
   "source": [
    "<img src='./images/08_greedy_algorithms/083_the_set_covering_problem/time_comparison.png' width=50%>"
   ]
  },
  {
   "cell_type": "markdown",
   "metadata": {},
   "source": [
    "## 04. NP-완전 문제\n",
    "<hr>"
   ]
  },
  {
   "cell_type": "markdown",
   "metadata": {},
   "source": [
    "집합 커버링 문제(set-covering problem)을 풀기 위해서는 가능한 모든 집합을 계산해야 한다."
   ]
  },
  {
   "cell_type": "markdown",
   "metadata": {},
   "source": [
    "### 단계별로 풀어보는 외판원 문제\n",
    "<hr>"
   ]
  },
  {
   "cell_type": "markdown",
   "metadata": {},
   "source": [
    "<img src='./images/08_greedy_algorithms/084_np_complete_problems/two_possible_routes.png' width=40%>"
   ]
  },
  {
   "cell_type": "markdown",
   "metadata": {},
   "source": [
    "미리 정해진 출발점이 없는 경우가 더 쉬운 문제이므로 이 경우부터 시작하도록 한다."
   ]
  },
  {
   "cell_type": "markdown",
   "metadata": {},
   "source": [
    "** 도시가 두 개인 경우 = 가능한 경로는 두개 **"
   ]
  },
  {
   "cell_type": "markdown",
   "metadata": {},
   "source": [
    "### 도시가 세 개인 경우"
   ]
  },
  {
   "cell_type": "markdown",
   "metadata": {},
   "source": [
    "만약 버클리에서 출발한다면 방문해야 할 도시가 두 개가 된다."
   ]
  },
  {
   "cell_type": "markdown",
   "metadata": {},
   "source": [
    "<img src='./images/08_greedy_algorithms/084_np_complete_problems/starting_at_berkeley.png' width=40%>"
   ]
  },
  {
   "cell_type": "markdown",
   "metadata": {},
   "source": [
    "전체 6개의 경로가 있고, 각각의 도시에서 출발하는 방법은 2가지이다."
   ]
  },
  {
   "cell_type": "markdown",
   "metadata": {},
   "source": [
    "<img src='./images/08_greedy_algorithms/084_np_complete_problems/six_possible_routes.png' width=80%>"
   ]
  },
  {
   "cell_type": "markdown",
   "metadata": {},
   "source": [
    "** 3개의 도시 = 6개의 경로 **"
   ]
  },
  {
   "cell_type": "markdown",
   "metadata": {},
   "source": [
    "### 도시가 네 개인 경우"
   ]
  },
  {
   "cell_type": "markdown",
   "metadata": {},
   "source": [
    "<img src='./images/08_greedy_algorithms/084_np_complete_problems/num_routes_factorial.png' width=95%>"
   ]
  },
  {
   "cell_type": "markdown",
   "metadata": {},
   "source": [
    "만약 도시가 6개이면 가능한 경로는 몇 개일까? 720개이다. 그리고 도시가 7개이면 경로는 5,040개, 도시가 8개이면 40,320개이다. 이토록 도시의 수가 많을수록 외판원 문제에 대한 정확한 해답을 구하는 것이 어렵게 된다."
   ]
  },
  {
   "cell_type": "markdown",
   "metadata": {},
   "source": [
    "이러한 외판원 문제와 집합 커버링 문제 모두 가능한 경우를 다 따져서 최단/최소를 구해야 한다. 이런 문제를 NP-완전 문제라고 한다."
   ]
  },
  {
   "cell_type": "markdown",
   "metadata": {},
   "source": [
    "**TIP 근사화**\n",
    "> 짧은 거리를 찾는 간단한 방법 중 하나는 일단 아무 도시나 고르고, 그리고 아직 방문하지 않은 가장 가까운 도시를 다음 방문지로 선택하는 것이다. <img src='./images/08_greedy_algorithms/083_the_set_covering_problem/tsp_path.png' width=30%>"
   ]
  },
  {
   "cell_type": "markdown",
   "metadata": {},
   "source": [
    "### 어떤 문제가 NP-완전 문제인지 알 수 있을까?"
   ]
  },
  {
   "cell_type": "markdown",
   "metadata": {},
   "source": [
    "조나는 풋볼 팀 선수를 고르고 있다. 조나에게는 선수 목록이 있는데, 각기 다른 자질들을 보유하고 있다. "
   ]
  },
  {
   "cell_type": "markdown",
   "metadata": {},
   "source": [
    "<img src='./images/08_greedy_algorithms/083_the_set_covering_problem/players_list.png' width=40%>"
   ]
  },
  {
   "cell_type": "markdown",
   "metadata": {},
   "source": [
    "이 모든 능력을 가진 팀원들로 팀을 채우고 싶지만, 인원은 제한되어 있다. 이는 집합 커버링 문제이다. 이를 위해 근사 알고리즘을 사용할 수 있다."
   ]
  },
  {
   "cell_type": "markdown",
   "metadata": {},
   "source": [
    "<img src='./images/08_greedy_algorithms/083_the_set_covering_problem/players_visual.png' width=30%>"
   ]
  },
  {
   "cell_type": "markdown",
   "metadata": {},
   "source": [
    "** 1. 아직 채워지지 않은 능력 중에서 가장 능력이 많은 선수를 찾는다. ** <br>\n",
    "** 2. 반복해서 나머지 선수들을 찾는다. (팀의 인원이 다 찰 때까지) **"
   ]
  },
  {
   "cell_type": "markdown",
   "metadata": {},
   "source": [
    "풀려는 문제가 NP-완전 문제라는 것을 알아내면, 문제를 완벽하게 풀려는 노력을 멈추고 대신 근사 알고리즘을 사용한다. 하지만 어떤 문제가 NP-완전 문제인지 아는 것은 쉽지 않다. 가령 최단 경로 문제만 하더라도 몇 개의 지점을 연결하는 최단 경로를 찾으려 하면 NP-완전 문제인 외판원 문제가 되어버린다."
   ]
  },
  {
   "cell_type": "markdown",
   "metadata": {},
   "source": [
    "**NP 외판원 문제일 가능성이 있는 경우**\n",
    "> - 항목이 적을 때는 알고리즘이 빠른데, 항목이 늘어나면서 갑자기 느려진다.\n",
    "- 'X의 모든 조합' 이라고 하면 보통 NP-완전 문제이다.\n",
    "- 더 작은 하위 문제로 변환할 수 없어서 X의 가능한 모든 버전을 계산해야 한다면 아마도 NP-완전 문제일 것이다.\n",
    "- 문제가 수열(외판원 문제와 같이 순서같이)을 포함하고 풀기가 어려우면 NP-완전 문제일 수 있다.\n",
    "- 만약 문제에 집합(라디오 방송국 집합처럼)이 있고 풀기가 어려우면 NP-완전 문제일 수 있다.\n",
    "- 문제를 집합 커버링 문제나 외판원 문제로 재정의할 수 있다면, 명백한 NP-완전 문제이다."
   ]
  },
  {
   "cell_type": "markdown",
   "metadata": {},
   "source": [
    "## 8장에서 배운 내용\n",
    "<hr>"
   ]
  },
  {
   "cell_type": "markdown",
   "metadata": {},
   "source": [
    "> - 탐욕 알고리즘은 전역 최적화를 목표로 하지만, 실제로는 국소 최적화를 한다.\n",
    "- NP-완전 문제는 빠른 해답이 알려지지 않았다.\n",
    "- 만약 NP-완전 문제가 주어지면 근사 알고리즘을 쓰는 것이 최선이다.\n",
    "- 탐욕 알고리즘은 작성하기도 쉽고 빠르기 때문에 좋은 근사 알고리즘이 될 수 있다."
   ]
  },
  {
   "cell_type": "markdown",
   "metadata": {},
   "source": [
    "## 연습문제"
   ]
  },
  {
   "cell_type": "markdown",
   "metadata": {},
   "source": [
    "### 8-1. 트럭에 가구를의 박스를 가득 채워야 한다. 트럭의 공간을 최대한 가득 채우려면 어떻게 상자를 골라야 할까? 탐욕 알고리즘을 사용해 보자. 이렇게 나온 답이 최적의 답일까?"
   ]
  },
  {
   "cell_type": "markdown",
   "metadata": {},
   "source": [
    "> 탐욕 알고리즘은 남은 공간을 채울 수 있는 가장 큰 박스를 고르는 방법이다. 이런 선택을 더 이상 넣을 수 있는 박스가 없을 때까지 반복한다. 하지만, 이렇게 나온 답이 최적의 답은 아니다."
   ]
  },
  {
   "cell_type": "markdown",
   "metadata": {},
   "source": [
    "### 8-2. 7일동안 어디든지 갈 수 있는 유럽 여행을 떠나고자 한다. 각 장소마다 얼마나 보고 싶어하는지를 숫자로 가지고 있다. 여행하는 동안의 총 방문 가치를 최대화하려면 어떻게 해야 할까? 탐욕 알고리즘을 사용해 보자. 이것이 과연 최적의 답일까?"
   ]
  },
  {
   "cell_type": "markdown",
   "metadata": {},
   "source": [
    "> 남은 시간 동안 갈 수 있는 곳 중 가장 가치가 높은 방문지를 고르는 것을 반복하면 된다. 더 이상 아무곳도 고를 수 없다면 끝이다. 하지만 이 방법은 최적의 답을 주지는 못한다."
   ]
  },
  {
   "cell_type": "markdown",
   "metadata": {},
   "source": [
    "### 다음의 알고리즘이 탐욕 알고리즘인지 아닌지 여부를 판별하라"
   ]
  },
  {
   "cell_type": "markdown",
   "metadata": {},
   "source": [
    "### 8-3. 퀵 정렬"
   ]
  },
  {
   "cell_type": "markdown",
   "metadata": {},
   "source": [
    "> 탐욕 알고리즘이 아니다"
   ]
  },
  {
   "cell_type": "markdown",
   "metadata": {},
   "source": [
    "### 8-4. 너비 우선 탐색"
   ]
  },
  {
   "cell_type": "markdown",
   "metadata": {},
   "source": [
    "> 탐욕 알고리즘이다."
   ]
  },
  {
   "cell_type": "markdown",
   "metadata": {},
   "source": [
    "### 8-5. 다이스트라 알고리즘"
   ]
  },
  {
   "cell_type": "markdown",
   "metadata": {},
   "source": [
    "> 탐욕 알고리즘이다."
   ]
  },
  {
   "cell_type": "markdown",
   "metadata": {},
   "source": [
    "### 8-6. 집배원이 20채의 집을 방문해야 한다. 모든 집을 방문하는 최단 거리를 찾아야 한다면 NP-완전 문제인가?"
   ]
  },
  {
   "cell_type": "markdown",
   "metadata": {},
   "source": [
    "> NP-완전 문제이다"
   ]
  },
  {
   "cell_type": "markdown",
   "metadata": {},
   "source": [
    "### 8-7. 어떤 사람들의 집합 중에서 가장 큰 모임(서로를 아는 사람들의 집합)을 찾는 문제는 NP-완전 문제인가?"
   ]
  },
  {
   "cell_type": "markdown",
   "metadata": {},
   "source": [
    "> NP-완전 문제이다"
   ]
  },
  {
   "cell_type": "markdown",
   "metadata": {},
   "source": [
    "### 8-8. 미국 지도를 만들고 있는데, 인접한 주는 서로 다른 색상을 칠하고 싶다. 인접한 주에 다른 색을 칠하면서 전체를 칠하는 가장 적은 수의 책을 찾고 싶다. 이는 NP-완전 문제일까?"
   ]
  },
  {
   "cell_type": "markdown",
   "metadata": {},
   "source": [
    "> NP-완전 문제이다"
   ]
  }
 ],
 "metadata": {
  "kernelspec": {
   "display_name": "Python 2",
   "language": "python",
   "name": "python2"
  },
  "language_info": {
   "codemirror_mode": {
    "name": "ipython",
    "version": 2
   },
   "file_extension": ".py",
   "mimetype": "text/x-python",
   "name": "python",
   "nbconvert_exporter": "python",
   "pygments_lexer": "ipython2",
   "version": "2.7.12"
  }
 },
 "nbformat": 4,
 "nbformat_minor": 2
}

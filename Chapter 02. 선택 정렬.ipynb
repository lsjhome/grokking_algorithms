{
 "cells": [
  {
   "cell_type": "markdown",
   "metadata": {},
   "source": [
    "# Chapter 02 선택 정렬(selection sort)"
   ]
  },
  {
   "cell_type": "markdown",
   "metadata": {},
   "source": [
    "## 01. 메모리가 동작하는 방법"
   ]
  },
  {
   "cell_type": "markdown",
   "metadata": {},
   "source": [
    "무언가를 저장해야 할 때마다 컴퓨터에게 메모리의 공간을 요청한다. 그러면 컴퓨터는 무언가를 저장할 수 있는 주소를 알려준다. (예 주소 : fe0ffeeb) 만약 여러 개의 원소를 저장해야 한다면 배열과 리스트라는 두 가지 방법 중 하나를 사용해야 한다."
   ]
  },
  {
   "cell_type": "markdown",
   "metadata": {},
   "source": [
    "<img src=\"../grokking_algorithms_original/images/02_selection_sort/021_how_memory_works/address.png\",width=450,height=450>"
   ]
  },
  {
   "cell_type": "markdown",
   "metadata": {},
   "source": [
    "## 02. 배열과 연결 리스트"
   ]
  },
  {
   "cell_type": "markdown",
   "metadata": {},
   "source": [
    "할 일 목록을 메모리 안에 목록으로 저장해야 한다고 가정하자. 할 일 목록이 3개밖에 없어도 만일을 대비해서 10개까지 컴퓨터에게 자리를 요청한다면 아래와 같은 문제가 생긴다."
   ]
  },
  {
   "cell_type": "markdown",
   "metadata": {},
   "source": [
    "- 만약 추가할 일이 생기지 않는다면 메모리를 쓸데없이 낭비한 게 된다. \n",
    "- 만약 목록의 크기가 10개보다 커진다면 어차피 자리를 또 옮겨야 한다."
   ]
  },
  {
   "cell_type": "markdown",
   "metadata": {},
   "source": [
    "<img src=\"../grokking_algorithms_original/images/02_selection_sort/022_arrays_and_linked_lists/already_occupied.png\",width=450,height=450>"
   ]
  },
  {
   "cell_type": "markdown",
   "metadata": {},
   "source": [
    "### 연결 리스트(linked list)"
   ]
  },
  {
   "cell_type": "markdown",
   "metadata": {},
   "source": [
    "각 원소에는 목록의 다음 원소에 대한 주소가 저장되어 있다. 그러니까 여러 가지 임의의 메모리 주소들이 하나의 목록으로 연결되어 있다."
   ]
  },
  {
   "cell_type": "markdown",
   "metadata": {},
   "source": [
    "<img src=\"../grokking_algorithms_original/images/02_selection_sort/022_arrays_and_linked_lists/todos_linked.png\",width=300,height=300>\n",
    "\n",
    "<center> 연결된 메모리 주소 </center>"
   ]
  },
  {
   "cell_type": "markdown",
   "metadata": {},
   "source": [
    "연결 리스트를 사용하면 원소를 추가하는 일이 쉽다. 그냥 메모리의 아무 곳에나 원소를 넣고, 그 주소를 바로 앞의 원소에 저장해 놓으면 된다. 연결 리스트를 사용하면 원소를 옮길 일이 없다. 배열을 만들 공간은 없어도, 연결 리스트를 만들 공간은 있는 것이다."
   ]
  },
  {
   "cell_type": "markdown",
   "metadata": {},
   "source": [
    "### 배열"
   ]
  },
  {
   "cell_type": "markdown",
   "metadata": {},
   "source": [
    "연결 리스트에서 마지막 원소를 보고 싶다면 바로 읽을 수 없다. 왜냐하면 그 주소를 바로 알 수 없기 때문이다. 2번 주소가 적혀있는 1번 원소의 주소로 가야하고, 다음에는 2번 원소의 주소를 알아내어 3번 원소의 주소가 적힌 2번 원소의 주소로 가야한다. 이런 식으로 마지막 원소의 위치까지 가야 한다. 만약 모든 원소의 값을 한 번에 읽어야 한다면 연결 리스트가 좋지만, 특정한 원소만 알고 싶다면 연결 리스트는 최악이다."
   ]
  },
  {
   "cell_type": "markdown",
   "metadata": {},
   "source": [
    "배열(array)은 모든 원소의 주소를 다 알고 있기 때문에 임의의 원소의 값을 읽는데 최고이다. 반면 연결 리스트에서는 원소가 이웃하고 있지 않아서 몇 번째 원소가 어디에 있는지 바로 계산할 수 없다. 두 번째 원소의 주소를 알려면 첫 번째 워노로 가야 하고, 세 번째 원소의 주소를 알려면 두 번째 원소로 가야 한다. 원하는 원소에 도착할 때 까지 이것을 반복해야 한다."
   ]
  },
  {
   "cell_type": "markdown",
   "metadata": {},
   "source": [
    "### 용어"
   ]
  },
  {
   "cell_type": "markdown",
   "metadata": {},
   "source": [
    "<img src=\"../grokking_algorithms_original/images/02_selection_sort/022_arrays_and_linked_lists/summary01.png\",width=300,height=300>"
   ]
  },
  {
   "cell_type": "markdown",
   "metadata": {},
   "source": [
    "### 리스트의 가운데에 삽입하기"
   ]
  },
  {
   "cell_type": "markdown",
   "metadata": {},
   "source": [
    "리스트는 이전 원소가 무엇을 가리키는지 바꾸기만 하면 되므로 리스트에 삽입하는 것이 훨씬 쉽다."
   ]
  },
  {
   "cell_type": "markdown",
   "metadata": {},
   "source": [
    "<img src=\"../grokking_algorithms_original/images/02_selection_sort/022_arrays_and_linked_lists/insert_middle_list.png\",width=750,height=750>"
   ]
  },
  {
   "cell_type": "markdown",
   "metadata": {},
   "source": [
    "하지만 배열에서는 다음에 오는 모든 원소의 위치를 바꾸어야 한다."
   ]
  },
  {
   "cell_type": "markdown",
   "metadata": {},
   "source": [
    "<img src=\"../grokking_algorithms_original/images/02_selection_sort/022_arrays_and_linked_lists/insert_middle_array.png\",width=500,height=500>"
   ]
  },
  {
   "cell_type": "markdown",
   "metadata": {},
   "source": [
    "만약 공간이 부족하면 모든 원소를 새로운 장소로 복사해야 한다. 따라서 중간에 원소를 삽입하려면 리스트가 훨씬 낫다."
   ]
  },
  {
   "cell_type": "markdown",
   "metadata": {},
   "source": [
    "### 삭제하기"
   ]
  },
  {
   "cell_type": "markdown",
   "metadata": {},
   "source": [
    "만약 원소를 삭제하고 싶다면 이번에도 이전 원소가 가리키는 위치만 바꾸면 되기 때문에 리스트가 더 낫다. 배열에서는 원소 하나만 삭제하고 싶을 때도 모든 것을 다 옮겨야 한다.\n",
    "\n",
    "삽입할 때와 달리 삭제할 때는 실패하는 경우가 없다. 삽입할 때는 가끔 메모리에 남아 있는 공간이 없어서 실패할 수 있다."
   ]
  },
  {
   "cell_type": "markdown",
   "metadata": {},
   "source": [
    "<img src=\"../grokking_algorithms_original/images/02_selection_sort/022_arrays_and_linked_lists/summary02.png\",width=500,height=500>"
   ]
  },
  {
   "cell_type": "markdown",
   "metadata": {},
   "source": [
    "여기서 지우고자 하는 원소에 바로 접근할 수 있을 때만 삽입과 삭제가 O(1) 시간이 된다는 점을 명심하자. 연결 리스트에서 첫 번째 원소와 마지막 원소는 보통 바로 접근이 가능하기 때문에 지우는 데 O(1) 시간만 걸린다."
   ]
  },
  {
   "cell_type": "markdown",
   "metadata": {},
   "source": [
    "배열에서는 임의의 원소에 접근하는 것이 가능하기 때문에 배열을 쓰는 경우가 더 많다. 자료에 접근하는 방식에는 임의 접근(random access)와 순차 접근(sequential access) 두 가지 방식이 있다. 연결 리스트는 순차 접근밖에 할 수 없다. 만약 10번째 원소를 읽으려면 그 앞 9개 원소를 전부 읽어서 10번째 원소로 가는 링크를 찾아내야 한다.\n",
    "\n",
    "반면 임의 접근은 10번째 원소로 바로 건너뛸 수 있다. 배열에서는 이 임의 접근이 가능하다. 또한 임의 접근을 필요로 하는 경우가 많기 때문에 배열을 사용하는 경우가 많다. "
   ]
  },
  {
   "cell_type": "markdown",
   "metadata": {},
   "source": [
    "## 03 선택 정렬"
   ]
  },
  {
   "cell_type": "markdown",
   "metadata": {},
   "source": [
    "<img src=\"../grokking_algorithms_original/images/02_selection_sort/023_selection_sort/n_n_time.png\",width=850,height=850>"
   ]
  },
  {
   "cell_type": "markdown",
   "metadata": {},
   "source": [
    "모두 합해서 O(n $\\times$ n) 시간, 즉 O(n$^{2}$) 시간이 걸린다. 이는 다음과 같은 항목에 대해 사용할 수 있다.\n",
    "\n",
    "- 전화번호부의 이름\n",
    "- 여행 날짜\n",
    "- 이메일(새로운 것부터 오래된 순으로)"
   ]
  },
  {
   "cell_type": "markdown",
   "metadata": {},
   "source": [
    "**TIP**\n",
    "\n",
    "\n",
    "처음에는 n개의 항목을 점검하지만 다음에는 n-1, n-2, ..., 2, 1 로 줄어든다. 평균적으로는 1/2 $\\times$ n개의 항목을 점검한다. 실행 시간은 O(n $\\times$ 1/2 $\\times$ n)이 되겠다. 하지만 빅오 표기법에서 1/2와 같은 상수항은 무시하기 때문에 O(n$^{2}$)이라고 표기한다."
   ]
  },
  {
   "cell_type": "markdown",
   "metadata": {},
   "source": [
    "선택 정렬은 깔끔하긴 하지만 빠르지는 않다. 퀵 정렬은 반면 O(n log n)시간 밖에 걸리지 않는 더 빠른 정렬 알고리즘이다."
   ]
  },
  {
   "cell_type": "markdown",
   "metadata": {},
   "source": [
    "### 예제 코드"
   ]
  },
  {
   "cell_type": "markdown",
   "metadata": {},
   "source": [
    "배열에서 가장 작은 원소를 찾는 코드"
   ]
  },
  {
   "cell_type": "code",
   "execution_count": 18,
   "metadata": {
    "collapsed": true
   },
   "outputs": [],
   "source": [
    "def findSmallest(arr):\n",
    "    smallest = arr[0]\n",
    "    smallest_index = 0\n",
    "    \n",
    "    for i in range(1, len(arr)):\n",
    "        \n",
    "        if arr[i] < smallest:\n",
    "            smallest = arr[i]\n",
    "            smallest_index = i\n",
    "    \n",
    "    return smallest_index"
   ]
  },
  {
   "cell_type": "code",
   "execution_count": 17,
   "metadata": {
    "collapsed": true
   },
   "outputs": [],
   "source": [
    "def selectionSort(arr):\n",
    "    newArr = []\n",
    "    \n",
    "    for i in range(len(arr)):\n",
    "    \n",
    "        smallest = findSmallest(arr)\n",
    "        newArr.append(arr.pop(smallest))\n",
    "    \n",
    "    return newArr"
   ]
  },
  {
   "cell_type": "code",
   "execution_count": 23,
   "metadata": {
    "collapsed": false
   },
   "outputs": [
    {
     "name": "stdout",
     "output_type": "stream",
     "text": [
      "[2, 3, 5, 6, 10]\n"
     ]
    }
   ],
   "source": [
    "print (selectionSort([5, 3, 6, 2, 10]))"
   ]
  },
  {
   "cell_type": "markdown",
   "metadata": {},
   "source": [
    "## 2장에서 배운 내용"
   ]
  },
  {
   "cell_type": "markdown",
   "metadata": {},
   "source": [
    "- 컴퓨터 메모리는 거대한 서랍장과 같다.\n",
    "- 여러 개의 항목을 저장하고 싶을 때는 배열이나 리스트를 사용한다.\n",
    "- 배열을 쓰면 모든 항목은 이웃하는 위치에 저장된다.\n",
    "- 리스트를 쓰면 모든 항목은 흩어지지만, 각 항목은 다음 항목의 주소를 저장하고 있다.\n",
    "- 배열은 읽기가 빠르다.\n",
    "- 연결 리스트는 삽입과 삭제가 빠르다.\n",
    "- 배열의 모든 원소는 같은 자료형(예를 들면 모두 정수형이거나 모두 실수형) 이어야 한다."
   ]
  },
  {
   "cell_type": "markdown",
   "metadata": {},
   "source": [
    "# 2장 연습문제"
   ]
  },
  {
   "cell_type": "markdown",
   "metadata": {},
   "source": [
    "### 2-1 돈을 어디에 썼는지 매일 앱에 기록하고 월말이 되면 지출을 되돌아보고 소비 금액의 합계를 계산한다. 배열을 사용해야 할까 리스트를 사용해야 할까?"
   ]
  },
  {
   "cell_type": "markdown",
   "metadata": {},
   "source": [
    "배열은 읽기 속도가 빠르지만 삽입 속도가 느리다. 연결 리스트는 읽기 속도가 느리고 삽입 속도가 빠르다. 여기서는 읽기보다 쓰기를 자주 실행하므로 연결 리스트를 사용하는 편이 낫다. 또 연결 리스트는 임의의 위치를 읽을 때는 느리지만 ***원래의 항목***을 읽어야 하므로 연결 리스트로도 충분하다. 그러니까 이 문제에서는 연결 리스트를 사용하는 편이 좋다."
   ]
  },
  {
   "cell_type": "markdown",
   "metadata": {},
   "source": [
    "### 2-2 서비스 담당 직원은 주문 큐 뒤에 주문을 추가하고, 요리사는 큐의 앞에서 첫 번째 주문을 꺼내어 요리한다. 배열이 나을지 아니면 연결 리스트가 나을까?"
   ]
  },
  {
   "cell_type": "markdown",
   "metadata": {},
   "source": [
    "연결 리스트이다. 삽입(서비스 담당 직원이 주문을 추가)이 많이 발생하는 경우에는 연결 리스트가 훨씬 좋다. 또한, 요리사가 큐의 가장 첫 번째 주문만 처리하므로 임의의 위치를 읽거나 검색(이 경우에는 배열이 훨씬 나음)할 필요가 없으므로 연결 리스트가 좋다."
   ]
  },
  {
   "cell_type": "markdown",
   "metadata": {
    "collapsed": true
   },
   "source": [
    "### 2-3 사람들은 페이스북에 빈번하게 로그인한다. 이에 따라 이름 목록 검색도 지주 이루어진다. 페이스북이 이 목록을 검색하기 위해 이진 탐색을 사용한다고 가정한다면, 이진 탐색을 하기 위해 임의 접근이 가능해야 한다. 즉, 이름 목록 중간에 있는 값도 즉시 읽을 수 있어야 나다. 이 경우에는 목록을 구현하는데 배열을 쓸까? 아니면 연결 리스트를 쓸까?"
   ]
  },
  {
   "cell_type": "markdown",
   "metadata": {},
   "source": [
    "정렬된 배열을 사용한다. 배열을 쓰면 임의의 값에 접근할 수 있다. 즉 배열의 중간에 있는 값도 바로 읽을 수 있다. 연결 리스트에서는 이렇게 할 수 없다. 연결 리스트의 중간에 있는 항목을 읽으려면 처음 항목부터 시작해서 링크를 따라 해당 항목까지 계속 찾아가야 한다."
   ]
  },
  {
   "cell_type": "markdown",
   "metadata": {},
   "source": [
    "### 2-4 페북에서는 새로운 사용자 등록도 자주 발생한다. 만약 사용자 이름 목록을 저장하기 위해 배열을 쓰기로 했다면 삽입을 위한 배열에서 발생하는 단점은 무엇일까? 현재 로그인을 할때 이름을 찾기 위해 이진 탐새을 사용하고 있다고 가정할 때, 이 배열에 새로운 사용자를 추가하면 어떻게 될까?"
   ]
  },
  {
   "cell_type": "markdown",
   "metadata": {},
   "source": [
    "배열에 원소를 삽입하는 것은 느리다. 또, 사용자 이름을 탐색하는 데 이진 탐색을 사용하기 때문에 배열이 정렬되어 있어야 한다. 만약 Adit B라는 사람이 페북에 새로 등록한다면 이 이름은 맨 끝에 추가될 것이다. 즉, 누군가 새로 등록할 때마다 전체 배열을 다시 정렬해야 한다는 단점이 있다."
   ]
  },
  {
   "cell_type": "markdown",
   "metadata": {},
   "source": [
    "### 2-5 26개의 칸이 있는 배열이 있다. 각각의 칸은 각자 다른 연결 리스트를 가리키고 있다. 예를 들어, 배열의 첫 번째 칸은 A로 시작하는 모든 사용자 이름을 담은 연결 리스트를 가리킨다. 마찬가지로 두 번째 칸은 B로 시작하는 모든 사용자 이름을 담은 연결 리스트를 가리킨다.\n",
    "\n",
    "### 예를 들어, \"Adit B\"라는 사용자가 페이스북에 새로 등록하면 이 이름을 리스트에 저장하기를 원할 것이다. 그러면 첫 번째 칸으로 가서 연결 리스트를 찾아 \"Adit B\"라는 이름을 마지막으로 추가한다. 만약 \"Zakhir H\"라는 이름을 검색하고 싶다면, 26번째 칸으로 가서 Z로 시작하는 모든 이름을 가진 연결 리스트로 간다. 이 리스트를 검색하여 \"Zakhir H\"라는 이름을 찾는다.\n",
    "\n",
    "### 이런 복합 자료구조를 배열이나 연결 리스트와 비교해 보자."
   ]
  },
  {
   "cell_type": "markdown",
   "metadata": {},
   "source": [
    "이러한 복합 자료구조는 검색의 경우 배열보다는 느리고 연결 리스트보다는 빠르다. 삽입의 경우 배열보다는 빠르고 연결 리스트와는 같은 시간이 걸린다. 즉 배열보다는 검색 시간 측면에서 느리고 연결 리스트보다는 모든 면에서 좋거나 최소한 같다."
   ]
  },
  {
   "cell_type": "code",
   "execution_count": null,
   "metadata": {
    "collapsed": true
   },
   "outputs": [],
   "source": []
  }
 ],
 "metadata": {
  "kernelspec": {
   "display_name": "Python [py35]",
   "language": "python",
   "name": "Python [py35]"
  },
  "language_info": {
   "codemirror_mode": {
    "name": "ipython",
    "version": 3
   },
   "file_extension": ".py",
   "mimetype": "text/x-python",
   "name": "python",
   "nbconvert_exporter": "python",
   "pygments_lexer": "ipython3",
   "version": "3.5.2"
  }
 },
 "nbformat": 4,
 "nbformat_minor": 0
}

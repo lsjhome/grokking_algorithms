{
 "cells": [
  {
   "cell_type": "markdown",
   "metadata": {},
   "source": [
    "# Chapter 02 선택 정렬(selection sort)"
   ]
  },
  {
   "cell_type": "markdown",
   "metadata": {},
   "source": [
    "## 01. 메모리가 동작하는 방법"
   ]
  },
  {
   "cell_type": "markdown",
   "metadata": {},
   "source": [
    "무언가를 저장해야 할 때마다 컴퓨터에게 메모리의 공간을 요청한다. 그러면 컴퓨터는 무언가를 저장할 수 있는 주소를 알려준다. (예 주소 : fe0ffeeb) 만약 여러 개의 원소를 저장해야 한다면 배열과 리스트라는 두 가지 방법 중 하나를 사용해야 한다."
   ]
  },
  {
   "cell_type": "markdown",
   "metadata": {},
   "source": [
    "<img src=\"../grokking_algorithms_original/images/02_selection_sort/021_how_memory_works/address.png\",width=450,height=450>"
   ]
  },
  {
   "cell_type": "markdown",
   "metadata": {},
   "source": [
    "## 02. 배열과 연결 리스트"
   ]
  },
  {
   "cell_type": "markdown",
   "metadata": {},
   "source": [
    "할 일 목록을 메모리 안에 목록으로 저장해야 한다고 가정하자. 할 일 목록이 3개밖에 없어도 만일을 대비해서 10개까지 컴퓨터에게 자리를 요청한다면 아래와 같은 문제가 생긴다."
   ]
  },
  {
   "cell_type": "markdown",
   "metadata": {},
   "source": [
    "- 만약 추가할 일이 생기지 않는다면 메모리를 쓸데없이 낭비한 게 된다. \n",
    "- 만약 목록의 크기가 10개보다 커진다면 어차피 자리를 또 옮겨야 한다."
   ]
  },
  {
   "cell_type": "markdown",
   "metadata": {},
   "source": [
    "<img src=\"../grokking_algorithms_original/images/02_selection_sort/022_arrays_and_linked_lists/already_occupied.png\",width=450,height=450>"
   ]
  },
  {
   "cell_type": "markdown",
   "metadata": {},
   "source": [
    "### 연결 리스트(linked list)"
   ]
  },
  {
   "cell_type": "markdown",
   "metadata": {},
   "source": [
    "각 원소에는 목록의 다음 원소에 대한 주소가 저장되어 있다. 그러니까 여러 가지 임의의 메모리 주소들이 하나의 목록으로 연결되어 있다."
   ]
  },
  {
   "cell_type": "markdown",
   "metadata": {},
   "source": [
    "<img src=\"../grokking_algorithms_original/images/02_selection_sort/022_arrays_and_linked_lists/todos_linked.png\",width=300,height=300>\n",
    "\n",
    "<center> 연결된 메모리 주소 </center>"
   ]
  },
  {
   "cell_type": "markdown",
   "metadata": {},
   "source": [
    "연결 리스트를 사용하면 원소를 추가하는 일이 쉽다. 그냥 메모리의 아무 곳에나 원소를 넣고, 그 주소를 바로 앞의 원소에 저장해 놓으면 된다. 연결 리스트를 사용하면 원소를 옮길 일이 없다. 배열을 만들 공간은 없어도, 연결 리스트를 만들 공간은 있는 것이다."
   ]
  },
  {
   "cell_type": "markdown",
   "metadata": {},
   "source": [
    "### 배열"
   ]
  },
  {
   "cell_type": "markdown",
   "metadata": {},
   "source": [
    "연결 리스트에서 마지막 원소를 보고 싶다면 바로 읽을 수 없다. 왜냐하면 그 주소를 바로 알 수 없기 때문이다. 2번 주소가 적혀있는 1번 원소의 주소로 가야하고, 다음에는 2번 원소의 주소를 알아내어 3번 원소의 주소가 적힌 2번 원소의 주소로 가야한다. 이런 식으로 마지막 원소의 위치까지 가야 한다. 만약 모든 원소의 값을 한 번에 읽어야 한다면 연결 리스트가 좋지만, 특정한 원소만 알고 싶다면 연결 리스트는 최악이다."
   ]
  },
  {
   "cell_type": "markdown",
   "metadata": {},
   "source": [
    "배열(array)은 모든 원소의 주소를 다 알고 있기 때문에 임의의 원소의 값을 읽는데 최고이다. 반면 연결 리스트에서는 원소가 이웃하고 있지 않아서 몇 번째 원소가 어디에 있는지 바로 계산할 수 없다. 두 번째 원소의 주소를 알려면 첫 번째 워노로 가야 하고, 세 번째 원소의 주소를 알려면 두 번째 원소로 가야 한다. 원하는 원소에 도착할 때 까지 이것을 반복해야 한다."
   ]
  },
  {
   "cell_type": "markdown",
   "metadata": {},
   "source": [
    "### 용어"
   ]
  },
  {
   "cell_type": "markdown",
   "metadata": {},
   "source": [
    "<img src=\"../grokking_algorithms_original/images/02_selection_sort/022_arrays_and_linked_lists/summary01.png\",width=300,height=300>"
   ]
  },
  {
   "cell_type": "markdown",
   "metadata": {},
   "source": [
    "### 리스트의 가운데에 삽입하기"
   ]
  }
 ],
 "metadata": {
  "kernelspec": {
   "display_name": "Python [py35]",
   "language": "python",
   "name": "Python [py35]"
  },
  "language_info": {
   "codemirror_mode": {
    "name": "ipython",
    "version": 3
   },
   "file_extension": ".py",
   "mimetype": "text/x-python",
   "name": "python",
   "nbconvert_exporter": "python",
   "pygments_lexer": "ipython3",
   "version": "3.5.2"
  }
 },
 "nbformat": 4,
 "nbformat_minor": 0
}

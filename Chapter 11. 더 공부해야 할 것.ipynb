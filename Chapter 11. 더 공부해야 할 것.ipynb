{
 "cells": [
  {
   "cell_type": "markdown",
   "metadata": {},
   "source": [
    "## 01. 트리"
   ]
  },
  {
   "cell_type": "markdown",
   "metadata": {},
   "source": [
    "페이스북에 로그인하면 페이스북은 사용자 이름이 들어있는 거대한 배열에서 지금 로그인한 상요자의 이름이 있는지 찾아본다. 이때 가장 빠른 방법은 이진 탐색을 사용하는 것이다. 하지만 새로운 사용자가 등록하면 그 이름을 배열에 넣어야 하고 그러기 위해서는 배열을 다시 정렬해야 한다. **이진 탐색은 정렬된 배열에 대해서만 쓸 수 있기 때문이다.**\n",
    "\n",
    "사용자 이름을 올바른 위치에 바로 넣을 수 있으면 정렬할 필요가 없어서 좋을 것이다 그래서 이진 탐색 트리(binary search tree)라는 자료구조가 만들어지게 되었다.\n",
    "\n",
    "이진 탐색 트리는 다음과 같이 생겼다."
   ]
  },
  {
   "cell_type": "markdown",
   "metadata": {},
   "source": [
    "<img src='./images/11_where_to_go_next/111_trees/bst.png' width=40%>"
   ]
  },
  {
   "cell_type": "markdown",
   "metadata": {},
   "source": [
    "모든 정점(Node)에 대해서는 왼쪽에는 더 작은 값을 가진 정점, 오른쪽에는 더 큰 값을 가진 정점이 온다."
   ]
  },
  {
   "cell_type": "markdown",
   "metadata": {},
   "source": [
    "<img src='./images/11_where_to_go_next/111_trees/bst_info.png' width=40%>"
   ]
  },
  {
   "cell_type": "markdown",
   "metadata": {},
   "source": [
    "Maggie를 찾는다고 해 보자. 루트 정점(root node)에서 시작한다."
   ]
  },
  {
   "cell_type": "markdown",
   "metadata": {},
   "source": [
    "<img src='./images/11_where_to_go_next/111_trees/root.png' width=30%>"
   ]
  },
  {
   "cell_type": "markdown",
   "metadata": {},
   "source": [
    "Maggie는 David 뒤에 오니까 오른쪽으로 간다."
   ]
  },
  {
   "cell_type": "markdown",
   "metadata": {},
   "source": [
    "<img src='./images/11_where_to_go_next/111_trees/david_right.png' width=30%>"
   ]
  },
  {
   "cell_type": "markdown",
   "metadata": {},
   "source": [
    "Maggie는 Manning 앞에 오니까 왼쪽으로 간다."
   ]
  },
  {
   "cell_type": "markdown",
   "metadata": {},
   "source": [
    "<img src='./images/11_where_to_go_next/111_trees/manning_left.png' width=30%>"
   ]
  },
  {
   "cell_type": "markdown",
   "metadata": {},
   "source": [
    "이진 탐색을 사용하는 것과 거의 동일하다. 이진 탐색 트리에서 항목을 찾으려면 평균적으로 O(log n)시간이 걸리고 최악의 경우에 O(n)시간이 걸린다. 정렬된 배열에서는 최악의 경우에도 O(log n)시간이 걸린다. 결과적으로 정렬된 배열이 더 낫지만, 이진 탐색 트리는 항목을 삽입하거나 삭제할 때도 평균적으로 훨씬 빠르다."
   ]
  },
  {
   "cell_type": "markdown",
   "metadata": {},
   "source": [
    "<img src='./images/11_where_to_go_next/111_trees/array_vs_bst_perf.png' width=40%>"
   ]
  },
  {
   "cell_type": "markdown",
   "metadata": {},
   "source": [
    "또한 이진 트리는 임의 접근(random access)를 할 수 없다. 가령 \"트리의 5번째 원소를 주세요\" 와 같은 요청에는 답할 수 없다. 또 평균적인 성능이 트리가 얼마나 균형잡혀 있느냐에 따라 다르다."
   ]
  },
  {
   "cell_type": "markdown",
   "metadata": {},
   "source": [
    "<img src='./images/11_where_to_go_next/111_trees/imbalanced_tree.png' width=30%>"
   ]
  },
  {
   "cell_type": "markdown",
   "metadata": {},
   "source": [
    "오른쪽으로 치우쳐 있는 위와 같은 트리는 균혀이 맞지 않아 성능이 그다지 좋지 않다. 반면에 스스로 균형을 맞추는 특별한 이진 트리인 레드-블랙 트리(red-black tree)도 있다."
   ]
  },
  {
   "cell_type": "markdown",
   "metadata": {},
   "source": [
    "이러한 이진 탐색 트리는 특별한 유형인 B-트리는 데이터베이스에서 데이터를 저장할 때 흔히 사용된다."
   ]
  },
  {
   "cell_type": "markdown",
   "metadata": {},
   "source": [
    "* B-트리(B-trees)\n",
    "* 레드-블랙 트리(red-black trees)\n",
    "* 힙(heaps)\n",
    "* 스플레이 트리(splay trees)"
   ]
  },
  {
   "cell_type": "markdown",
   "metadata": {},
   "source": [
    "## 02. 역 인덱스"
   ]
  },
  {
   "cell_type": "markdown",
   "metadata": {},
   "source": [
    "짧은 내용이 담긴 세 개의 웹 페이지가 있다고 해 보자."
   ]
  },
  {
   "cell_type": "markdown",
   "metadata": {},
   "source": [
    "<img src='./images/11_where_to_go_next/112_inverted_indexes/three_pages.png' width=50%>"
   ]
  },
  {
   "cell_type": "markdown",
   "metadata": {},
   "source": [
    "이 내용으로 해시를 만들어 보자. 해시 테이블의 키는 단어이고, 그 값은 그 단어가 어떤 웹페이지에 있었는지를 나타낸다. 이제 사용자가 \"HI\" 라는 단어를 검색한다고 해 보자. 어떤 웹 페이지에 \"HI\"라는 단어가 있는지 살펴본다."
   ]
  },
  {
   "cell_type": "markdown",
   "metadata": {},
   "source": [
    "<img src='./images/11_where_to_go_next/112_inverted_indexes/inverted_index_hash.png' width=20%>"
   ]
  },
  {
   "cell_type": "markdown",
   "metadata": {},
   "source": [
    "\"A와 B\"라는 웹 페이지에 그 단어가 있다. 만약 사용자가 \"THERE\" 이라는 단어를 검색한다고 하면 이번에는 웹 페이지 A와 C를 보여주면 된다. 해시 테이블은 단어가 어디에서 나타났는지를 알려줄 수 있다. \n",
    "\n",
    "이런 자료구조를 역 인덱스(inverted index)라고 한다. 주로 검색엔진을 만드는데 사용된다. 만약 검색에 관심이 있다면 역 인덱스부터 공부하면 된다."
   ]
  },
  {
   "cell_type": "markdown",
   "metadata": {},
   "source": [
    "## 03. 퓨리에 변환"
   ]
  },
  {
   "cell_type": "markdown",
   "metadata": {},
   "source": [
    "퓨리에 변환(fourier transform)은 스무디가 무슨 성분으로 구성되어 있는지 알아내는 것처럼 하나의 노래를 여러 개의 개별적인 주파수들로 분리 할 수 있다.\n",
    "\n",
    "이를 통해 가령 노래를 주파수별로 분리해서 듣고 싶은 주파수만 들을 수도 있고, 중저음 영역을 확대하고 고음 영역을 가릴 수도 있다. 퓨리에 변환은 신호를 처리하는데 매우 뛰어나다. 음악을 압축하는데도 사용할 수 있다. 우선 음향 파일을 개별 음파로 분리한 다음, 각 음파가 전체 노래에 어느 정도 기여하는지를 계산해서 별로 중요하지 않은 음파를 제거한다. MP3 포멧이 이런 방식으로 동작한다.\n",
    "\n",
    "JPG 포맷도 같은 방식으로 동자갛고, DNA를 분석하는 데도 역시 퓨리에 변환을 사용한다. Shazam과 같이 지금 나오는 음악이 어떤 음악인지 알아맞추는 앱을 사용할 수 있다."
   ]
  },
  {
   "cell_type": "markdown",
   "metadata": {},
   "source": [
    "## 04. 병렬 알고리즘"
   ]
  },
  {
   "cell_type": "markdown",
   "metadata": {},
   "source": [
    "알고리즘을 빨리 동작시키려면 여러 개의 코어에서 동시에 돌아가도록 병렬 실행을 하면 된다. 가령 정렬 알고리즘은 최고 O(n log n) 실행 속도를 가질 수 있다. O(n)시간에 정렬을 할 수 없다는 것은 잘 알려져 있다. 하지만 병렬화된 퀵 정렬 알고리즘을 사용하면 O(n)시간에 배열을 정렬할 수 있다."
   ]
  },
  {
   "cell_type": "markdown",
   "metadata": {},
   "source": [
    "병렬 알고리즘(parallel algorithm)은 설계하기가 어렵고 올바르게 동작하는지 그리고 어느 정도 속도 향상을 얻을 수 있는지 정확하게 파악하기 힘들다. 확실한 것은 속도 향상이 선형적이지 않다는 것이다. 여기에는 몇 가지 이유가 있다."
   ]
  },
  {
   "cell_type": "markdown",
   "metadata": {},
   "source": [
    "- **병렬화를 관리하는데 들어가는 부담 : ** 만약 1,000개의 항목을 가지는 배열을 정렬한다고 할 때, 이 작업을 어떻게 두 코어가 처리하도록 나눌까? 각각의 코어가 500개의 항목을 정렬한 다음 이 두 배열을 다시 합치는 데에도 시간이 걸린다.\n",
    "\n",
    "\n",
    "- ** 로드 밸런싱 : ** 10개의 작업을 두 코어에 5개씩 나누어서 주었는데, A코어는 쉬운 일만 받아서 10초내에 끝내고, B코어는 어려운 일만 받아서 모든 작업을 하는 데 1분이 걸렸다. 이렇게 여러 코어의 일을 균등하게 나누는 것이 쉽지 않다."
   ]
  },
  {
   "cell_type": "markdown",
   "metadata": {},
   "source": [
    "## 05. 맵리듀스"
   ]
  },
  {
   "cell_type": "markdown",
   "metadata": {},
   "source": [
    "수백개의 코어가 필요하다면 여러 대의 컴퓨터에서 돌아가는 분산 알고리즘을 만들면 된다. 맵리듀스 알고리즘은 인기 있는 분산 알고리즘이다. 아파치 하둡(Apache Hadoop)과 같은 오픈 소스 툴을 통해 맵리듀스 알고리즘을 사용할 수 있다."
   ]
  },
  {
   "cell_type": "markdown",
   "metadata": {},
   "source": [
    "### 분산 알고리즘이 유용한 이유는?\n",
    "<hr>"
   ]
  },
  {
   "cell_type": "markdown",
   "metadata": {},
   "source": [
    "실행시간이 10초 정도 소요되는 작업을 총 100만개 처리해야 한다면, 한 대의 컴퓨터에서 진행하면 몇 달이 걸릴 것이다. 하지만 100대의 컴퓨터에서 처리한다면 며칠이면 될 것이다.\n",
    "\n",
    "분산 알고리즘은 이렇게 많은 작업을 하면서 실행 시간을 단축하고 싶을 때 유용하다. 맵리듀슨는 맵 함수(map function)과 리듀스 함수(reduce function)두 개의 간단한 개념을 이용하여 만들어졌다."
   ]
  },
  {
   "cell_type": "markdown",
   "metadata": {},
   "source": [
    "### 맵 함수\n",
    "<hr>"
   ]
  },
  {
   "cell_type": "markdown",
   "metadata": {},
   "source": [
    "### 리듀스 함수\n",
    "<hr>"
   ]
  },
  {
   "cell_type": "markdown",
   "metadata": {},
   "source": [
    "맵 함수는 배열을 입력으로 받아서 모든 원소에 같은 함수를 적용한다. 예를 들어, 배열의 모든 값을 원소로 만드는 경우는 다음과 같다."
   ]
  },
  {
   "cell_type": "code",
   "execution_count": 6,
   "metadata": {},
   "outputs": [
    {
     "data": {
      "text/plain": [
       "[2, 4, 6, 8, 10]"
      ]
     },
     "execution_count": 6,
     "metadata": {},
     "output_type": "execute_result"
    }
   ],
   "source": [
    "arr1 = [1, 2, 3, 4, 5]\n",
    "arr2 = map(lambda x: 2*x, arr1)\n",
    "arr2"
   ]
  },
  {
   "cell_type": "markdown",
   "metadata": {},
   "source": [
    "좀 더 오래 걸리는 의사코드를 작성해 보자"
   ]
  },
  {
   "cell_type": "code",
   "execution_count": 14,
   "metadata": {},
   "outputs": [],
   "source": [
    "def download_page(*args):\n",
    "    # download(*args)\n",
    "    pass"
   ]
  },
  {
   "cell_type": "code",
   "execution_count": 18,
   "metadata": {},
   "outputs": [],
   "source": [
    "arr1 = ['www.google.com', 'www.naver.com', '나머지 1000개']\n",
    "arr2 = map(download_page , arr1)"
   ]
  },
  {
   "cell_type": "markdown",
   "metadata": {},
   "source": [
    "만약 100개 컴퓨터가 있다면 맵 함수는 이 작업을 모든 컴퓨터에 골고루 배분한다. 그러면 한 번에 100개의 페이지를 다운로드 할 수 있고 작업이 훨씬 빨라진다. 이것이 맵리듀스에서 맵 함수의 개념이다."
   ]
  },
  {
   "cell_type": "markdown",
   "metadata": {},
   "source": [
    "### 리듀스 함수\n",
    "<hr>"
   ]
  },
  {
   "cell_type": "markdown",
   "metadata": {},
   "source": [
    "리듀스 함수의 핵심은 리스트 전체의 원소를 하나로 축소(reduce)하는 것이다. 맵 함수에서는 하나의 배열에서 같은 크기의 다른 배열을 얻었다."
   ]
  },
  {
   "cell_type": "markdown",
   "metadata": {},
   "source": [
    "<img src='./images/11_where_to_go_next/115_map_reduce/map.png' width=30%>"
   ]
  },
  {
   "cell_type": "markdown",
   "metadata": {},
   "source": [
    "리듀스에서는 이 배열을 하나의 원소로 변형한다."
   ]
  },
  {
   "cell_type": "markdown",
   "metadata": {},
   "source": [
    "<img src='./images/11_where_to_go_next/115_map_reduce/reduce.png' width=30%>"
   ]
  },
  {
   "cell_type": "markdown",
   "metadata": {},
   "source": [
    "다음과 같다."
   ]
  },
  {
   "cell_type": "code",
   "execution_count": 21,
   "metadata": {},
   "outputs": [
    {
     "data": {
      "text/plain": [
       "15"
      ]
     },
     "execution_count": 21,
     "metadata": {},
     "output_type": "execute_result"
    }
   ],
   "source": [
    "arr1 = [1, 2, 3, 4, 5]\n",
    "reduce(lambda x, y : x+y, arr1)"
   ]
  },
  {
   "cell_type": "markdown",
   "metadata": {},
   "source": [
    "맵리듀스는 이 두가지 간단한 개념을 이용하여서 여러 대의 컴퓨터에 분산되어 있는 데이터에 대한 질의를 수행한다. 맵리듀스는 데이터가 수십억 개의 레코드로 이루어져 있더라도 일반 데이터베이스에서 몇 시간이 걸리는 작업을 몇분만에 수행할 수 있게 해 준다."
   ]
  },
  {
   "cell_type": "markdown",
   "metadata": {},
   "source": [
    "## 06. 블룸 필터와 하이퍼로그로그"
   ]
  },
  {
   "cell_type": "markdown",
   "metadata": {},
   "source": [
    "레딧과 같은 웹 서비스를 운영하고 있다고 가정해 보자. 전에 올라오지 않았떤 이야기라면 좀 더 가치가 있는 것이라고 판단할 수 있기 때문에 링크가 예쩐에 올라왔던 것인지 확인할 필요가 있다.\n",
    "\n",
    "아니면 구글 검색 서비스에서 웹 페이즈들을 크롤링 한다면 이전에 찾아보지 않았던 웹 페이지만 크롤링하기를 원할 수도 있다.\n",
    "\n",
    "비틀리와 같이 URL을 단축해 주는 서비스 또한 마찬가지이다. 사용자가 악성 코드가 있는 웹 사이트로 가지 않도록 악성 웹 사이트 주소를 저장해 놓고, 새로운 URL요청이 왔을때 이 사이트가 악성 사이트 목록에 있는 것인지 확인해야 한다.\n",
    "\n",
    "위의 예는 모두 확인해야 할 집합이 너무 크다는 문제를 공통점으로 갖고 있다."
   ]
  },
  {
   "cell_type": "markdown",
   "metadata": {},
   "source": [
    "새로운 항목이 들어오면 이 항목이 집합에 이미 있는지, 없는지를 확인하고 싶다. 해시 테이블을 사용하면 이 작업을 빨리 할 수 있다. 만약 구글 서비스에서 이미 크롤링된 웹 사이트들을 확인하기 위해 대형 해시 테이블을 사용한다면 키는 크롤링할 웹 페이지의 주소들이 될 것이다."
   ]
  },
  {
   "cell_type": "markdown",
   "metadata": {},
   "source": [
    "<img src='./images/11_where_to_go_next/116_bloom_filters_and_hyperloglog/google_big_hash.png' width=40%>"
   ]
  },
  {
   "cell_type": "markdown",
   "metadata": {},
   "source": [
    "예를 들어, adit.io 라는 웹페이지가 이미 크롤링 된 것인지 아닌지를 확이하려고 해시 테이블을 보면 adiot.io라는 키가 해시 테이블에 있고 값이 YES이므로 이미 크롤링되었다는 것을 알 수 있다. 해시 테이블에 대한 평균 탐색 시간은 O(1)이므로 상수 시간으로 확인할 수 있다.\n",
    "\n",
    "문제는 이 해시 테이블니 너무 커진다는 것이다. 구글은 수조 개의 웹페이지를 인덱싱하는데, 이렇게 인덱싱한 주소를 해시 테이블에 가지고 있다면 어마어마한 저장 공간이 필요할 것이다. 이렇게 데이터가 많으면 더 참신한 방법이 필요하다."
   ]
  },
  {
   "cell_type": "markdown",
   "metadata": {},
   "source": [
    "### 블룸 필터\n",
    "<hr>"
   ]
  },
  {
   "cell_type": "markdown",
   "metadata": {},
   "source": [
    "블룸필터(bloom filter)는 확률론적인 자료구조이다. 거의 대부분 옳은 답을 주지만 항상 그렇지는 않다. 이는 매번 옳은 답을 주는 해시테이블과는 다르다. \n",
    "\n",
    "블룸 필터는 저장 공간을 매우 적게 차지하기 때문에 획기적이다. 해시 테이블이라면 모든 웹 주소를 저장해야 겠지만 블룸 필터는 그렇지 않다. 항상 정답이 필요한 상황이 아니라면 블룸 필터가 아주 유용하다. "
   ]
  },
  {
   "cell_type": "markdown",
   "metadata": {},
   "source": [
    "- 블룸 필터는 맞는 답을 틀렸다고는 하지 않는다. 만약 \"이 사이트는 크롤링되지 않았다\" 라고 답이 나오면 그 사이트는 정말 크롤링하지 않은 것이다.\n",
    "\n",
    "- 하지만 틀린 답을 맞다고 할 때는 있다. 가령 이 사이트는 크롤링되었다고 하지만 실제로는 크롤링하지 않았던 사이트일 수 있다."
   ]
  },
  {
   "cell_type": "markdown",
   "metadata": {},
   "source": [
    "### 하이퍼로그로그\n",
    "<hr>"
   ]
  },
  {
   "cell_type": "markdown",
   "metadata": {},
   "source": [
    "만약 구글에서 사용자의 검색내역 중 특정한 검색에 대한 횟수를 세고 싶다거나, 아마존에서 오늘 사용자가 특정 상품을 몇 번 봤는지 알고 싶다고 해 보자. 이 문제를 풀기 위해서는 엄청나게 많은 저장 공간이 필요하다. 모든 검색에 대해 로그를 남겨야 하기 때문이다.\n",
    "\n",
    "하이퍼로그로그는 집합에 있는 똑같은 원소의 개수를 대략적으로 셀 수 있다. 정확한 값을 주지는 않지만 정확한 값을 주기 위해 필요한 메모리의 아주 일부분만 사용해서 꽤 근사한 값을 줄 수 있다."
   ]
  },
  {
   "cell_type": "markdown",
   "metadata": {},
   "source": [
    "## 07. SHA 알고리즘"
   ]
  },
  {
   "cell_type": "markdown",
   "metadata": {},
   "source": [
    "해시 테이블은 배열에 특정한 키와 관련된 값을 저장할 때 사용한다. 해시 함수를 사용하면 그 값을 어디에 넣을지 알 수 있다. 해시 테이블을 사용하면 상수 시간에 탐색을 할 수 있다. 만약 어떤 키에 대응하는 값을 알고 싶다면 해시 함수를 써서 O(1) 시간에 항목의 위치를 알 수 있다."
   ]
  },
  {
   "cell_type": "markdown",
   "metadata": {},
   "source": [
    "이 경우에는 해시 함수가 좋은 분포(distribution) 특성을 지녀야 한다."
   ]
  },
  {
   "cell_type": "markdown",
   "metadata": {},
   "source": [
    "### 파일 비교\n",
    "<hr>"
   ]
  },
  {
   "cell_type": "markdown",
   "metadata": {},
   "source": [
    "SHA(보안 해시 알고리즘, Secure Hash Algorithm)함수도 해시 함수의 일종이다. SHA 함수는 문자열을 받아 그 문자열에 대한 해시값을 반환한다."
   ]
  },
  {
   "cell_type": "markdown",
   "metadata": {},
   "source": [
    "<img src='./images/11_where_to_go_next/117_the_sha_algorithms/sha_map.png' width=50%>"
   ]
  },
  {
   "cell_type": "markdown",
   "metadata": {},
   "source": [
    "SHA는 해시 함수이지만 출력된 해시값은 숫자가 아니라 짧은 문자열이다. 해시 테이블용 해시 함수는 숫자, 즉 배열 인덱스를 출력하지만 SHA는 문자열을 받아서 문자열을 출력한다.\n",
    "\n",
    "SHA는 각기 다른 문자열에 대해 다른 해시 값을 출력한다."
   ]
  },
  {
   "cell_type": "markdown",
   "metadata": {},
   "source": [
    "<img src='./images/11_where_to_go_next/117_the_sha_algorithms/sha_map_multiple.png' width=50%>"
   ]
  },
  {
   "cell_type": "markdown",
   "metadata": {},
   "source": [
    "**NOTE**\n",
    "> SHA의 해시값은 실제로는 매우 길다."
   ]
  },
  {
   "cell_type": "markdown",
   "metadata": {},
   "source": [
    "두 파일이 같은지를 알아보는데도 SHA를 사용할 수 있다. 가령 4기가 크기의 파일이 있따면 이를 같은파일인지 확인하고 싶을때는 그냥 두 파일에 대한 SHA해시값을 비교하면 된다."
   ]
  },
  {
   "cell_type": "markdown",
   "metadata": {},
   "source": [
    "<img src='./images/11_where_to_go_next/117_the_sha_algorithms/file_comparison.png' width=40%>"
   ]
  },
  {
   "cell_type": "markdown",
   "metadata": {},
   "source": [
    "### 패스워드 확인\n",
    "<hr>"
   ]
  },
  {
   "cell_type": "markdown",
   "metadata": {},
   "source": [
    "SHA는 원래 문자열을 밝히지 않고 두 문자열을 비교할 때 유용하다. 가령 구글은 패스워드 자체를 저장해 놓지 않는다. 패스워드에 대한 SHA 해시값만 저장해 둔다. 패스워드를 입력하면 구글에선느 그 문자열에 대한 해시값을 계산하여 DB에 저장해 놓았던 패스워드의 해시값과 비교한다."
   ]
  },
  {
   "cell_type": "markdown",
   "metadata": {},
   "source": [
    "<img src='./images/11_where_to_go_next/117_the_sha_algorithms/password_verification.png'>"
   ]
  },
  {
   "cell_type": "markdown",
   "metadata": {},
   "source": [
    "구글은 해시값을 비교할 뿐 패스워드 자체를 저장하는 것은 아니다. 또한 SHA는 단반향 해시이기 때문에 문자열에서 해시값을 얻을 수는 있찌만, 해시값에서 문자열을 알 수는 없다."
   ]
  },
  {
   "cell_type": "markdown",
   "metadata": {},
   "source": [
    "<img src='./images/11_where_to_go_next/117_the_sha_algorithms/string_to_hash.png' width=40%>"
   ]
  },
  {
   "cell_type": "markdown",
   "metadata": {},
   "source": [
    "<img src='./images/11_where_to_go_next/117_the_sha_algorithms/hash_to_string.png' width=40%>"
   ]
  },
  {
   "cell_type": "markdown",
   "metadata": {},
   "source": [
    "SHA알고리즘에도 SHA-0, SHA-1, SHA-2, SHA-3 등 여러 가지가 있으며 현재 SHA-0, SHA-1에는 취약점이 있다는 것이 밝혀졌다. 현재 패스워드 해시 함수의 표준은 bcrypt이다. 하지만 어떤 것도 완벽하진 않다."
   ]
  },
  {
   "cell_type": "markdown",
   "metadata": {},
   "source": [
    "## 08. 지역 민감 해싱"
   ]
  },
  {
   "cell_type": "markdown",
   "metadata": {},
   "source": [
    "SHA는 지역 민감적이지 않다. 가령 문자열에서 한 글자만 바꾸어 다시 해시값을 생성하면 완전히 다른 값이 나온다."
   ]
  },
  {
   "cell_type": "markdown",
   "metadata": {},
   "source": [
    "<img src='./images/11_where_to_go_next/118_locality_sensitive_hashing/dog_hash.png' width=30%>"
   ]
  },
  {
   "cell_type": "markdown",
   "metadata": {},
   "source": [
    "<img src='./images/11_where_to_go_next/118_locality_sensitive_hashing/dot_hash.png' width=30%>"
   ]
  },
  {
   "cell_type": "markdown",
   "metadata": {},
   "source": [
    "이는 보안성 측면에서는 좋은 특성이다."
   ]
  },
  {
   "cell_type": "markdown",
   "metadata": {},
   "source": [
    "하지만 어떨 때는 반대로 지역 민감 해시(locally-sensitive hash) 함수가 필요할 때도 있다. 이럴 때는 Simhash를 사용한다. 다음과 같을 때 사용한다."
   ]
  },
  {
   "cell_type": "markdown",
   "metadata": {},
   "source": [
    "- 구글은 Simhash를 사용하여 크롤링할 웹 페이지가 중복되었는지를 판단한다.\n",
    "- 선생님은 Simhash를 사용하여 학생이 작문 숙제를 인터넷에서 베꼈는지 알 수 있다.\n",
    "- Scribd 서비스는 사용자가 문서나 책을 업로드해서 다른 사람들과 공유하도록 한다. 이 서비스는 Siamhash를 사용하여 사용자가 업로드한 내용이 해리포터 책과 같은지 살펴보고 같은 내용이라면 자동으로 업로드를 거절하도록 한다."
   ]
  },
  {
   "cell_type": "markdown",
   "metadata": {},
   "source": [
    "Simhash는 이렇게 비슷한 항목을 찾아낼 때 유용하다."
   ]
  },
  {
   "cell_type": "markdown",
   "metadata": {},
   "source": [
    "## 09. 디피-헬만 키 교환"
   ]
  },
  {
   "cell_type": "markdown",
   "metadata": {},
   "source": [
    "메시지를 받은 사람만 읽을 수 있도록 하려면 메시지를 어떻게 암호화해야 할까?"
   ]
  },
  {
   "cell_type": "markdown",
   "metadata": {},
   "source": [
    "같은 암호 해독 규칙을 가진 사람들끼리 서로 암호 메시지를 보내는 방법이 있다. 하지만 암호가 깨질 수 있다는 단점이 있다."
   ]
  },
  {
   "cell_type": "markdown",
   "metadata": {},
   "source": [
    "디피-헬만 알고리즘을 사용하면 다음과 같은 두 가지 문제를 해결할 수 있다.\n",
    "\n",
    "- 양쪽 모두 암호 해독 규칙을 가질 필요가 없다. 만나서 암호 해독 규칙을 공유할 필요가 없다.\n",
    "\n",
    "- 암호화된 메시지는 해독하기 어려워야 한다."
   ]
  },
  {
   "cell_type": "markdown",
   "metadata": {},
   "source": [
    "디피-헬만 알고리즘은 두 개의 키를 가진다. 하나는 공개 키(Public Key) 이고, 하나는 개인 키(Private Key)이다. 공개키는 공개된다. 웹 사이트에 공개될 수도 있고 무엇을 해도 상관없다. 감출 필요가 없다.\n",
    "\n",
    "하지만 누군가가 나에게 메시지를 보내고 싶다면 이 공개 키를 써서 암호화 해야 한다. 또한 이 암호화된 메시지를 해독하기 위해서는 개인 키가 필요하다. 개인 키를 가진 사람만 이 메시지를 해독할 수 있다.\n",
    "\n",
    "디피-헬만 알고리즘은 후속 알고리즘인 RSA와 함께 지금도 많이 사용되고 있다."
   ]
  },
  {
   "cell_type": "markdown",
   "metadata": {},
   "source": [
    "## 10. 선형 프로그래밍"
   ]
  },
  {
   "cell_type": "markdown",
   "metadata": {},
   "source": [
    "**선형 프로그래밍은 주어진 제한 조건 하에서 무언가를 최대화할때 사용한다.** 가령 셔츠와 가방을 만드는 회사에서, 셔츠를 만드는데는 천 1미터와 단추 5개가 필요하고, 가방을 만드는데는 천 2미터와 단추 2개가 필요한다고 하자.\n",
    "\n",
    "회사에서는 천이 11미터, 단추가 20개 있다. 셔츠와 가방의 가격은 각각 2달러와 3달러이다. 이익을 최대화하려면 셔츠와 가방을 몇 개씩 만들어야 할까? 재료라는 제한 조건하에서 이익을 최대화하려고 한다."
   ]
  },
  {
   "cell_type": "markdown",
   "metadata": {},
   "source": [
    "정치인이 받을 수 있는 표를 최대화하려고 한다. 조서 결과를 보면 샌프란시스코에서는 1시간의 노력으로 1표, 시카고에서는 1.5시간으로 1표를 얻을 수 있다. 샌프란시스코에서는 최소 500명, 시카고에서는 최소 300명의 선거 운동원을 필요로 한다. 투표까지 50일이 남았는데 샌프란시스코의 선거원 일당은 2달러, ㅅ"
   ]
  },
  {
   "cell_type": "code",
   "execution_count": null,
   "metadata": {},
   "outputs": [],
   "source": []
  },
  {
   "cell_type": "code",
   "execution_count": null,
   "metadata": {},
   "outputs": [],
   "source": []
  },
  {
   "cell_type": "code",
   "execution_count": null,
   "metadata": {},
   "outputs": [],
   "source": []
  },
  {
   "cell_type": "code",
   "execution_count": null,
   "metadata": {},
   "outputs": [],
   "source": []
  },
  {
   "cell_type": "code",
   "execution_count": null,
   "metadata": {},
   "outputs": [],
   "source": []
  },
  {
   "cell_type": "code",
   "execution_count": null,
   "metadata": {},
   "outputs": [],
   "source": []
  },
  {
   "cell_type": "code",
   "execution_count": null,
   "metadata": {},
   "outputs": [],
   "source": []
  },
  {
   "cell_type": "code",
   "execution_count": null,
   "metadata": {},
   "outputs": [],
   "source": []
  },
  {
   "cell_type": "code",
   "execution_count": null,
   "metadata": {},
   "outputs": [],
   "source": []
  }
 ],
 "metadata": {
  "kernelspec": {
   "display_name": "Python 2",
   "language": "python",
   "name": "python2"
  },
  "language_info": {
   "codemirror_mode": {
    "name": "ipython",
    "version": 2
   },
   "file_extension": ".py",
   "mimetype": "text/x-python",
   "name": "python",
   "nbconvert_exporter": "python",
   "pygments_lexer": "ipython2",
   "version": "2.7.12"
  }
 },
 "nbformat": 4,
 "nbformat_minor": 2
}

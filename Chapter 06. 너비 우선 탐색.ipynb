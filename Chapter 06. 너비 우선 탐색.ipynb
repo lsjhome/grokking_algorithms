{
 "cells": [
  {
   "cell_type": "markdown",
   "metadata": {},
   "source": [
    "# Chapter 06. 너비 우선 탐색"
   ]
  },
  {
   "cell_type": "markdown",
   "metadata": {},
   "source": [
    "## 01. 시작하기에 앞서"
   ]
  },
  {
   "cell_type": "markdown",
   "metadata": {},
   "source": [
    "너비 우선 탐색을 사용하면 두 항목 간의 최단 경로를 찾을 수 있다. 그런데 이 최단 경로라는 말은 여러 가지를 의미할 수 있다. 예를 들어, 다음과 같은 것을 만드는 데 너비 우선 탐색을 사용할 수 있다.\n",
    "\n",
    "* 체커 게임에서 가장 적은 수로 승리할 수 있는 방버을 계산하는 인공지능\n",
    "* 맞춤법 검사기(실제 단어에서 가장 적은 개수의 글자를 고쳐서 올바른 단어를 만드는 방법을 찾는다)\n",
    "* 자신의 네트워크에서 가장 가까운 의사 선생님 찾기"
   ]
  },
  {
   "cell_type": "markdown",
   "metadata": {},
   "source": [
    "## 02. 그래프의 소개"
   ]
  },
  {
   "cell_type": "markdown",
   "metadata": {},
   "source": [
    "최단 경로(short-path)는 자신이 친구 집까지 가는 최단 경로일 수도 있고, 체스 게임에서 체크 메이트를 만드는데 필요한 최소한의 수일 수도 있다. 이렇게 최단 경로 문제를 푸는 알고리즘을 너비 우선 탐색이라고 한다.\n",
    "\n",
    "** 1. 문제를 그래프로 모형화한다. ** \n",
    "\n",
    "** 2. 너비 우선 탐색으로 문제를 푼다. **"
   ]
  },
  {
   "cell_type": "markdown",
   "metadata": {},
   "source": [
    "### 그래프란 무엇인가\n",
    "<hr>\n",
    "그래프란 연결의 집합을 모형화한 것이다. 가령 포커 게임에서 누가 누구에게 빚을 지고 있는지를 보여주는 그래프는 아래와 같다."
   ]
  },
  {
   "cell_type": "markdown",
   "metadata": {},
   "source": [
    "<img src='./images/06_breadth-first_search/061_introduction_to_graphs/poker_graph.png' width=50%>"
   ]
  },
  {
   "cell_type": "markdown",
   "metadata": {},
   "source": [
    "알렉스는 라마에게 빚을 지고, 톰은 아디트에세 빚을 지고 있다. 그래프는 정점(node)와 간선(edge)로 이루어진다."
   ]
  },
  {
   "cell_type": "markdown",
   "metadata": {},
   "source": [
    "<img src='./images/06_breadth-first_search/061_introduction_to_graphs/nodes_and_edges.png' width=40%>"
   ]
  },
  {
   "cell_type": "markdown",
   "metadata": {},
   "source": [
    "그래프는 항목들이 서로 어떻게 연결되어 있는지를 모형화하는 방법이다."
   ]
  },
  {
   "cell_type": "markdown",
   "metadata": {},
   "source": [
    "## 03. 너비 우선 탐색"
   ]
  },
  {
   "cell_type": "markdown",
   "metadata": {},
   "source": [
    "너비 우선 탐색은 그래프를 대상으로 하는 다른 종류의 탐색 알고리즘이다. 너비 우선 탐색은 다음과 같은 두 가지 종류의 질문에 대답하는 데 도움이 된다."
   ]
  },
  {
   "cell_type": "markdown",
   "metadata": {},
   "source": [
    "- 질문 유형 1: 정점 A에서 정점 B로 가는 경로가 존재하는가?\n",
    "- 질문 유형 2: 정점 A에서 정점 B로 가는 최단 경로란 무엇인가?"
   ]
  },
  {
   "cell_type": "markdown",
   "metadata": {},
   "source": [
    "페이스북 친구 중에서 망고 판매상을 찾아 보자."
   ]
  },
  {
   "cell_type": "markdown",
   "metadata": {},
   "source": [
    "먼저 찾아볼 친구 목록을 만든다."
   ]
  },
  {
   "cell_type": "markdown",
   "metadata": {},
   "source": [
    "<img src='./images/06_breadth-first_search/062_breadth-first_search/search_list1.png' width=25%>"
   ]
  },
  {
   "cell_type": "markdown",
   "metadata": {},
   "source": [
    "이제는 그 목록에서 각각의 사람이 망고 판매상인지, 아닌지 확인해 본다."
   ]
  },
  {
   "cell_type": "markdown",
   "metadata": {},
   "source": [
    "<img src='./images/06_breadth-first_search/062_breadth-first_search/friends_flowchart.png' width=70%>"
   ]
  },
  {
   "cell_type": "markdown",
   "metadata": {},
   "source": [
    "친구 중에 망고 판매상이 없다고 해 보자. 이제는 친구의 친구를 찾아야 한다."
   ]
  },
  {
   "cell_type": "markdown",
   "metadata": {},
   "source": [
    "<img src='./images/06_breadth-first_search/062_breadth-first_search/friends_of_friends.png' width=60%>"
   ]
  },
  {
   "cell_type": "markdown",
   "metadata": {},
   "source": [
    "목록에서 누군가를 찾아볼 때마다 목록에 그 사람들의 친구도 추가한다."
   ]
  },
  {
   "cell_type": "markdown",
   "metadata": {},
   "source": [
    "<img src='./images/06_breadth-first_search/062_breadth-first_search/friends_of_friends_flowchart.png' width=100%>"
   ]
  },
  {
   "cell_type": "markdown",
   "metadata": {},
   "source": [
    "이런 식으로 망고 판매상에 도착할 때까지 전체 네트워크를 탐색하게 된다. 이러한 알고리즘이 바로 너비 우선 탐색이다."
   ]
  },
  {
   "cell_type": "markdown",
   "metadata": {},
   "source": [
    "### 최단 경로 찾기\n",
    "<hr>"
   ]
  },
  {
   "cell_type": "markdown",
   "metadata": {},
   "source": [
    "- 질문 유형 1: 정점 A에서 정점 B로 가는 경로가 존재하는가? (내 네트워크에 망고 판매상이 있는가?)\n",
    "- 질문 유형 2: 정점 A에서 정점 B로 가는 최단 경로란 무엇인가? (누가 가장 가까운 망고 판매상인가?)"
   ]
  },
  {
   "cell_type": "markdown",
   "metadata": {},
   "source": [
    "너비 우선 탐색이 진행될수록 탐색 범위는 출발점에서 멀어진다. 따라서 2촌 관계를 확인하기 전에 1촌 관계부터 확인해야 한다."
   ]
  },
  {
   "cell_type": "markdown",
   "metadata": {},
   "source": [
    "또 다른 방법은 탐색 목록에 2촌 관계를 추가하기 전에 1촌 관계부터 모두 추가하는 것이다."
   ]
  },
  {
   "cell_type": "markdown",
   "metadata": {},
   "source": [
    "<img src='./images/06_breadth-first_search/062_breadth-first_search/list_degrees.png' width=30%>"
   ]
  },
  {
   "cell_type": "markdown",
   "metadata": {},
   "source": [
    "이 방법은 목록에 추가한 순서대로 사람을 찾을 때만 가능하다. 이를 위한 자료구조가 큐(queue)또는 대기열이라고 불리는 자료구조이다."
   ]
  },
  {
   "cell_type": "markdown",
   "metadata": {},
   "source": [
    "### 큐\n",
    "<hr>"
   ]
  },
  {
   "cell_type": "markdown",
   "metadata": {},
   "source": [
    "큐는 선입 선출(FIFO, First In First Out)자료구조라고도 한다. 반대로 스택은 후입 선출(LIFO, Last In First Out)자료구조이다."
   ]
  },
  {
   "cell_type": "markdown",
   "metadata": {},
   "source": [
    "<img src='./images/06_breadth-first_search/062_breadth-first_search/fifo_and_lifo.png' width=50%>"
   ]
  },
  {
   "cell_type": "markdown",
   "metadata": {},
   "source": [
    "## 04. 그래프의 구현"
   ]
  },
  {
   "cell_type": "markdown",
   "metadata": {},
   "source": [
    "그래프는 몇 개의 정점으로 이루어져 있다. 그리고 각각의 정점은 이웃하는 정점과 연결된다. \"나->Bob\"과 같은 관계를 어떻게 표현할까? 여기서 해시 테이블을 사용하면 된다."
   ]
  },
  {
   "cell_type": "markdown",
   "metadata": {},
   "source": [
    "<img src='./images/06_breadth-first_search/063_implementing_the_graph/you_hash_table.png', width=30%>"
   ]
  },
  {
   "cell_type": "markdown",
   "metadata": {},
   "source": [
    "파이썬 코드는 다음과 같다."
   ]
  },
  {
   "cell_type": "code",
   "execution_count": 3,
   "metadata": {},
   "outputs": [],
   "source": [
    "graph = {}\n",
    "graph['you'] = ['alice', 'bob', 'claire']"
   ]
  },
  {
   "cell_type": "markdown",
   "metadata": {},
   "source": [
    "graph['you'] 라고 하면 나의 모든 이웃이 나온다."
   ]
  },
  {
   "cell_type": "code",
   "execution_count": 4,
   "metadata": {},
   "outputs": [
    {
     "data": {
      "text/plain": [
       "['alice', 'bob', 'claire']"
      ]
     },
     "execution_count": 4,
     "metadata": {},
     "output_type": "execute_result"
    }
   ],
   "source": [
    "graph['you']"
   ]
  },
  {
   "cell_type": "markdown",
   "metadata": {},
   "source": [
    "그래프는 여러 개의 정점과 간선이 모여 있는 것에 불과하다. 그러니까 이것이 파이썬으로 그래프를 표현하는데 필요한 모든 것이다."
   ]
  },
  {
   "cell_type": "markdown",
   "metadata": {},
   "source": [
    "<img src='./images/06_breadth-first_search/062_breadth-first_search/friends_of_friends.png' width=60%>"
   ]
  },
  {
   "cell_type": "code",
   "execution_count": 27,
   "metadata": {},
   "outputs": [],
   "source": [
    "graph = {}\n",
    "graph['you'] = ['alice', 'bob', 'claire']\n",
    "graph['bob'] = ['anju', 'peggy']\n",
    "graph['alice'] = ['peggy']\n",
    "graph['claire'] = ['thom', 'jonny']\n",
    "graph['anju'] = []\n",
    "graph['peggy'] = []\n",
    "graph['thom'] = []\n",
    "graph['jonny'] = []"
   ]
  },
  {
   "cell_type": "markdown",
   "metadata": {},
   "source": [
    "아누지, 페기, 톰, 그리고 조니는 이웃이 없다. 그러니까 이들을 향한 화살표는 있어도 이들로부터 누군가를 향해 나아가는 화살표는 없다. 이렇게 방향을 가지는 그래프를 방향 그래프(directed graph)라고 한다. 관계에는 방향성이 있다. 그러니까 아누지는 밥의 이웃이지만, 밥은 아누지는 이웃이 아니다.\n",
    "\n",
    "무방향 그래프(undirected graph)는 화살표(방향성)을 가지지 않기 때문에 이어진 두 정점은 서로 이웃이 된다."
   ]
  },
  {
   "cell_type": "markdown",
   "metadata": {},
   "source": [
    "<img src='./images/06_breadth-first_search/062_breadth-first_search/directed_vs_undirected.png' width=60%>"
   ]
  },
  {
   "cell_type": "markdown",
   "metadata": {},
   "source": [
    "## 05. 알고리즘의 구현"
   ]
  },
  {
   "cell_type": "markdown",
   "metadata": {},
   "source": [
    "<img src='./images/06_breadth-first_search/064_implementing_the_algorithm/instructions.png' width=60%>"
   ]
  },
  {
   "cell_type": "markdown",
   "metadata": {},
   "source": [
    "> 큐를 갱신 할 때 삽입과 삭제는 푸시(push), 팝(pop)을 사용하여도 된다. 거의 같은 의미이다."
   ]
  },
  {
   "cell_type": "code",
   "execution_count": 7,
   "metadata": {},
   "outputs": [],
   "source": [
    "from collections import deque\n",
    "search_queue = deque() # 새 큐를 생성\n",
    "search_queue += graph['you'] # 모든 이웃을 탐색 큐에 추가"
   ]
  },
  {
   "cell_type": "code",
   "execution_count": 9,
   "metadata": {},
   "outputs": [
    {
     "data": {
      "text/plain": [
       "deque(['alice', 'bob', 'claire'])"
      ]
     },
     "execution_count": 9,
     "metadata": {},
     "output_type": "execute_result"
    }
   ],
   "source": [
    "search_queue"
   ]
  },
  {
   "cell_type": "markdown",
   "metadata": {},
   "source": [
    "```\n",
    "while search_queue: # 큐가 비어있지 않은 한 계속 실행\n",
    "    person = search_queue.popleft() # 큐의 첫 번째 사람을 꺼냄\n",
    "    if person_is_seller(person): # 망고 판매상인지 확인\n",
    "        print person + \" is a mango seller!\" # 망고 판매상이 맞음\n",
    "        return True\n",
    "    else:\n",
    "        search_queue += graph[person] # 망고 판매상이 아님. 모든 이웃을 탐색 목록에 추가\n",
    "return False # 여기 도달했다는 것은 망고 판매상이 아무도 없다는 의미\n",
    "```"
   ]
  },
  {
   "cell_type": "markdown",
   "metadata": {},
   "source": [
    "person_is_seller는 다음과 같이 정의하자. 만약 m자로 끝난다면 그 사람이 망고 판매상이다."
   ]
  },
  {
   "cell_type": "code",
   "execution_count": 22,
   "metadata": {},
   "outputs": [],
   "source": [
    "def person_is_seller(name):\n",
    "    return name[-1] == 'm'"
   ]
  },
  {
   "cell_type": "markdown",
   "metadata": {},
   "source": [
    "<img src='./images/06_breadth-first_search/064_implementing_the_algorithm/step_by_step.png' width=100%>"
   ]
  },
  {
   "cell_type": "markdown",
   "metadata": {},
   "source": [
    "이런 식으로 계속 진행된다. 알고리즘은 다음과 같은 두 가지 경우에 종료된다."
   ]
  },
  {
   "cell_type": "markdown",
   "metadata": {},
   "source": [
    "* 망고 판매상을 발견하거나\n",
    "* 큐가 비게 되는 경우(이 경우는 망고 판매상이 존재하지 않는 경우이다.)"
   ]
  },
  {
   "cell_type": "markdown",
   "metadata": {},
   "source": [
    "앨리스와 밥은 모두 패기라는 친구가 있다. 그래스 페기는 큐에 두번 들어간다. 앨리스의 친구로 한 번 들어가고 밥의 친구로 다시 들어간다. 그러니까 탐색 큐에는 페기가 둘이 된다."
   ]
  },
  {
   "cell_type": "markdown",
   "metadata": {},
   "source": [
    "<img src='./images/06_breadth-first_search/064_implementing_the_algorithm/peggy_search_queue_twice.png' width=40%>"
   ]
  },
  {
   "cell_type": "markdown",
   "metadata": {},
   "source": [
    "때문에 어떤 사람을 확인하고 나면 그 사람이 다시 탐색되지 않도록 표시를 해야 한다. 그렇게 하지 않으면 망고 판매상 그래프가 다음과 같을때 무한 루프에 빠질 수도 있다."
   ]
  },
  {
   "cell_type": "markdown",
   "metadata": {},
   "source": [
    "<img src='./images/06_breadth-first_search/064_implementing_the_algorithm/infinite_loop.png' width=30%>"
   ]
  },
  {
   "cell_type": "markdown",
   "metadata": {},
   "source": [
    "이것까지 고려한 너비 우선 탐색의 최종 코드는 다음과 같다."
   ]
  },
  {
   "cell_type": "code",
   "execution_count": 28,
   "metadata": {},
   "outputs": [],
   "source": [
    "def search(name):\n",
    "    search_queue = deque()\n",
    "    search_queue += graph[name]\n",
    "    searched = [] # 이미 확인한 사람을 추적하기 위한 것\n",
    "    while search_queue:\n",
    "        person = search_queue.popleft()\n",
    "        if not person in searched: # 이전에 확인하지 않은 사람만 확인\n",
    "            if person_is_seller(person):\n",
    "                print person + \" is a mango seller!\"\n",
    "                return True\n",
    "            else:\n",
    "                search_queue += graph[person]\n",
    "                searched.append(person)\n",
    "    return False"
   ]
  },
  {
   "cell_type": "code",
   "execution_count": 29,
   "metadata": {},
   "outputs": [
    {
     "name": "stdout",
     "output_type": "stream",
     "text": [
      "thom is a mango seller!\n"
     ]
    },
    {
     "data": {
      "text/plain": [
       "True"
      ]
     },
     "execution_count": 29,
     "metadata": {},
     "output_type": "execute_result"
    }
   ],
   "source": [
    "search('you')"
   ]
  },
  {
   "cell_type": "markdown",
   "metadata": {},
   "source": [
    "### 실행 시간\n",
    "<hr>"
   ]
  },
  {
   "cell_type": "markdown",
   "metadata": {},
   "source": [
    "망고 판매상을 찾기 위해 네트워크 전체를 탐색한다는 것은 모든 정점을 따라서 움직인다는 뜻이 된다. 그리고 간선이 어떤 사람과 다른 사람을 연결하는 화살표라는 것을 기억한다면 실행 시간은 최소한 O(간선의 개수)가 된다."
   ]
  },
  {
   "cell_type": "markdown",
   "metadata": {},
   "source": [
    "그리고 탐색할 사람을 저장하는 큐도 있어야 한다. 큐에 사람을 추가하는 데는 상수 시간, 즉 O(1)이 걸린다. 모든 사람에 대해 시간을 적용하면 총 O(사람의 수)시간이 걸린다. 따라서 너비 우선 탐색은 O(사람의 수 + 간선의 수)가 되고, 보통 O(V+E)라고 표기한다."
   ]
  },
  {
   "cell_type": "markdown",
   "metadata": {},
   "source": [
    "## 6장에서 배운 내용"
   ]
  },
  {
   "cell_type": "markdown",
   "metadata": {},
   "source": [
    ">* 너비 우선 탐색은 A에서 B로 가는 경로가 있는지 알려준다.\n",
    ">* 만약 경로가 존재한다면 최단 경로도 찾아준다.\n",
    ">* 만약 X까지 최단 경로를 찾는 문제가 있다면 그 문제를 그래프로 모형화해 보자. 그리고 너비 우선 탐색으로 문제를 풀자.\n",
    ">* 방향 그래프는 화살표를 가지며, 화살표 방향으로 관계를 가진다. (rama ->adit 은 rama가 adit에게 돈을 빚지고 있다는 뜻이다.)\n",
    ">* 무방향 그래프는 화살표가 없고, 둘 간의 상호 관계를 나타낸다. (ross - rachel 은 ross가 rachel과 서로 데이트했다는 뜻이다.)\n",
    ">* 큐는 선입선출이다.\n",
    ">* 스택은 후입선출이다.\n",
    ">* 탐색 목록에 추가된 순서대로 사람을 확인해야 한다. 그래서 탐색 목록은 큐가 되어야 한다. 그렇지 않으면 최단 경로는 구할 수 없다.\n",
    ">* 누군가를 확인한 다음에는 두 번 다시 확인하지 않도록 해야 한다. 그렇지 않으면 무한 반복이 되어 버릴 수도 있기 때문이다."
   ]
  },
  {
   "cell_type": "markdown",
   "metadata": {},
   "source": [
    "만약 작업 A가 작업 B에 의존한다면 목록에서 작업 A가 작업 B보다 나중에 와야 한다. 이런 것을 위상 정렬(topological sort)이라고 하며, 그래프에서 정렬된 리스트 그래프를 만드는 방법의 하나이다. 만약 결혼을 계획하고 있다면 엄청나게 큰 할일 그래프가 있을 것이고, 아마도 위상 정렬을 통해 할 일 순서를 찾을 수 있을 것이다."
   ]
  },
  {
   "cell_type": "markdown",
   "metadata": {},
   "source": [
    "가계도도 정점(사람)과 간선이 있으니 그래프이다. 간선은 각 정점의 부모를 가리킨다. 하지만 모든 간선은 아래로 내려간다. 화살표가 거꾸롣 될 수는 없다. (아빠가 할아버지의 아빠가 될 수는 없기 때문에) 이런 것을 트리라고 한다. 트리는 거꾸로 가는 간선이 없는 특별한 종류의 그래프이다."
   ]
  }
 ],
 "metadata": {
  "kernelspec": {
   "display_name": "Python 2",
   "language": "python",
   "name": "python2"
  },
  "language_info": {
   "codemirror_mode": {
    "name": "ipython",
    "version": 2
   },
   "file_extension": ".py",
   "mimetype": "text/x-python",
   "name": "python",
   "nbconvert_exporter": "python",
   "pygments_lexer": "ipython2",
   "version": "2.7.12"
  }
 },
 "nbformat": 4,
 "nbformat_minor": 2
}

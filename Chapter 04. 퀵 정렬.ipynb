{
 "cells": [
  {
   "cell_type": "markdown",
   "metadata": {},
   "source": [
    "# Chapter 04 퀵 정렬"
   ]
  },
  {
   "cell_type": "markdown",
   "metadata": {},
   "source": [
    "## 01. 분할 정복"
   ]
  },
  {
   "cell_type": "markdown",
   "metadata": {},
   "source": [
    "```\n",
    "농부가 다음과 같은 농장을 가지고 있다고 가정하자\n",
    "```"
   ]
  },
  {
   "cell_type": "markdown",
   "metadata": {},
   "source": [
    "<img src=\"./images/04_quicksort/041_divide_and_conquer/farm.png\" width=600 height=700></img>"
   ]
  },
  {
   "cell_type": "markdown",
   "metadata": {},
   "source": [
    "```\n",
    "이 농장들을 똑같이 생긴 정사각형 토지들로 나누고 싶다. 정사각형 토지는 최대한 크게 한다.\n",
    "```"
   ]
  },
  {
   "cell_type": "markdown",
   "metadata": {},
   "source": [
    "```\n",
    "이 문제를 풀기 위해서는 다음과 같이 두 가지 단계를 거친다.\n",
    "```"
   ]
  },
  {
   "cell_type": "markdown",
   "metadata": {},
   "source": [
    "**1. 기본 단계를 해결한다. 이 부분은 가능한 한 간단한 문제이어야만 한다.**\n",
    "\n",
    "**2. 문제가 기본 단계가 될 때까지 나누거나 작게 만든다. **"
   ]
  },
  {
   "cell_type": "markdown",
   "metadata": {},
   "source": [
    "```\n",
    "가장 쉬운 기본 단계(base case)는 농장의 한 변의 길이가 다른 변의 배수가 되는 경우이다.\n",
    "```"
   ]
  },
  {
   "cell_type": "markdown",
   "metadata": {},
   "source": [
    "<img src=\"./images/04_quicksort/041_divide_and_conquer/base_case.png\" width=700 height=500></img>"
   ]
  },
  {
   "cell_type": "markdown",
   "metadata": {},
   "source": [
    "```\n",
    "한 변의 길이가 25m이고 다른 변의 길이가 50m라고 가정하자. 그러면 가장 큰 적사각형 토지는 25m x 25m 크기이다. 이 땅은 이러한 정사각형 두 개로 나눌 수 있다.\n",
    "```"
   ]
  },
  {
   "cell_type": "markdown",
   "metadata": {},
   "source": [
    "```\n",
    "이제 재귀 단계를 풀어야 한다. 분할 정복에 따르면 재귀 함수 호출을 할 때마다 문제를 작게 나누어야 한다. 조건에 맞는 가장 큰 상자를 알아내는 것 부터 시작한다.\n",
    "```"
   ]
  },
  {
   "cell_type": "markdown",
   "metadata": {},
   "source": [
    "<img src=\"./images/04_quicksort/041_divide_and_conquer/square_640.png\" height=600 width=600></img>"
   ]
  },
  {
   "cell_type": "markdown",
   "metadata": {},
   "source": [
    "```\n",
    "한 변의 길이가 640m인 두 개의 정사각형 토지는 만들 수 있지만, 아직 나누지 못한 토지가 남게 된다. 이제 이 문제를 푸는 핵심 아이디어가 등장한다. 여기서 남은 토지를 나눌 때 똑같은 방법을 사용하는 것이다.\n",
    "```"
   ]
  },
  {
   "cell_type": "markdown",
   "metadata": {},
   "source": [
    "<img src=\"./images/04_quicksort/041_divide_and_conquer/segment_640_400.png\" height=600 width=600>"
   ]
  },
  {
   "cell_type": "markdown",
   "metadata": {},
   "source": [
    "<img src=\"./images/04_quicksort/041_divide_and_conquer/segment_400_240.png\" height=600 width=600></img>"
   ]
  },
  {
   "cell_type": "markdown",
   "metadata": {},
   "source": [
    "<img src=\"./images/04_quicksort/041_divide_and_conquer/segment_240_160.png\" height=600 width=600></img>"
   ]
  },
  {
   "cell_type": "markdown",
   "metadata": {},
   "source": [
    "<img src=\"./images/04_quicksort/041_divide_and_conquer/segment_160_80.png\" height=600 width=600></img>"
   ]
  },
  {
   "cell_type": "markdown",
   "metadata": {},
   "source": [
    "<img src=\"./images/04_quicksort/041_divide_and_conquer/square_80.png\" height=300 width=300></img>"
   ]
  },
  {
   "cell_type": "markdown",
   "metadata": {},
   "source": [
    "그러니까 원래의 농장을 나눌 수 있는 가장 큰 정사각형의 크기는 80m$\\times$80m인 것이다."
   ]
  },
  {
   "cell_type": "markdown",
   "metadata": {},
   "source": [
    "<img src=\"./images/04_quicksort/041_divide_and_conquer/farm_split_up.png\" height=600 width=600></img>"
   ]
  },
  {
   "cell_type": "markdown",
   "metadata": {},
   "source": [
    "분할 정복 전략을 정리하자면\n"
   ]
  },
  {
   "cell_type": "markdown",
   "metadata": {},
   "source": [
    "<ol type='1'>\n",
    "    <li> 가장 간단한 경우로 기본 단계를 찾는다</li>\n",
    "    <li> 여러분에게 주어진 문제를 작게 줄여서 기본 단계까 되도록 만드는 법을 찾아낸다.</li>"
   ]
  },
  {
   "cell_type": "markdown",
   "metadata": {},
   "source": [
    "합을 구하는 예제를 살펴보자"
   ]
  },
  {
   "cell_type": "markdown",
   "metadata": {},
   "source": [
    "이 숫자들을 모두 더하여 합계를 구해 보자. 반복문을 사용해 보자."
   ]
  },
  {
   "cell_type": "markdown",
   "metadata": {},
   "source": [
    "<img src=\"./images/04_quicksort/041_divide_and_conquer/sum_array.png\" width=200 height=200></img>"
   ]
  },
  {
   "cell_type": "code",
   "execution_count": 6,
   "metadata": {},
   "outputs": [],
   "source": [
    "def sum(arr):\n",
    "    total = 0\n",
    "    for x in arr:\n",
    "        total += x\n",
    "    return total"
   ]
  },
  {
   "cell_type": "code",
   "execution_count": 7,
   "metadata": {},
   "outputs": [
    {
     "name": "stdout",
     "output_type": "stream",
     "text": [
      "10\n"
     ]
    }
   ],
   "source": [
    "print sum([1, 2, 3, 4])"
   ]
  },
  {
   "cell_type": "markdown",
   "metadata": {},
   "source": [
    "재귀 함수를 사용하여 합계를 구해 보자"
   ]
  },
  {
   "cell_type": "markdown",
   "metadata": {},
   "source": [
    "<dl>\n",
    "    <dt>1 단계</dt>\n",
    "    <dd>기본 단계를 찾는다. 가장 간단한 배열은 무엇일까? 만약 원소의 개수가 0개이거나 1개인 배열을 받으면 합계를 구하는 것이 간단하다. 아래의 경우가 기본 단계가 된다.</dd>\n",
    "</dl>\n",
    "\n",
    "<img src=\"./images/04_quicksort/041_divide_and_conquer/sum_base_case.png\" width=600 height=600></img>"
   ]
  },
  {
   "cell_type": "markdown",
   "metadata": {},
   "source": [
    "<dl>\n",
    "    <dt>2단계</dt>\n",
    "    <dd>이제 재귀 함수를 호출할 때마다 호출 대상이 되는 배열의 크기가 점차 감소해야 한다. 다음과 같이 계산될 수도 있지만</dd>\n",
    "</dl>"
   ]
  },
  {
   "cell_type": "markdown",
   "metadata": {},
   "source": [
    "<img src=\"./images/04_quicksort/041_divide_and_conquer/sum.png\" width=400 height=400></img>"
   ]
  },
  {
   "cell_type": "markdown",
   "metadata": {},
   "source": [
    "이렇게 계산되어도 된다."
   ]
  },
  {
   "cell_type": "markdown",
   "metadata": {},
   "source": [
    "<img src=\"./images/04_quicksort/041_divide_and_conquer/2_plus_sum.png\" width=400 height=400></img>"
   ]
  },
  {
   "cell_type": "markdown",
   "metadata": {},
   "source": [
    "```\n",
    "두 번째 방법에서 sum함수에 더 작은 배열을 넘겨서 문제의 크기를 줄인 것에 주목하자!\n",
    "```"
   ]
  },
  {
   "cell_type": "markdown",
   "metadata": {},
   "source": [
    "```\n",
    "sum 함수는 다음과 같은 방식으로 동작한다.\n",
    "```"
   ]
  },
  {
   "cell_type": "markdown",
   "metadata": {},
   "source": [
    "<img src=\"./images/04_quicksort/041_divide_and_conquer/sum_flowchart.png\" height=550 width=550></img>"
   ]
  },
  {
   "cell_type": "markdown",
   "metadata": {},
   "source": [
    "```\n",
    "예를 들자면 다음과 같다.\n",
    "```"
   ]
  },
  {
   "cell_type": "markdown",
   "metadata": {},
   "source": [
    "<img src=\"./images/04_quicksort/041_divide_and_conquer/sum_walkthrough.png\" height=850 width=850></img>"
   ]
  },
  {
   "cell_type": "markdown",
   "metadata": {},
   "source": [
    "```\n",
    "재귀에서는 상태를 추적한다는 점을 명심하자\n",
    "```"
   ]
  },
  {
   "cell_type": "markdown",
   "metadata": {},
   "source": [
    "<img src=\"./images/04_quicksort/041_divide_and_conquer/recursion_state.png\" height=850 width=850></img>"
   ]
  },
  {
   "cell_type": "markdown",
   "metadata": {},
   "source": [
    "> **Note** <br>배열을 포함하는 재귀 함수를 만들 때, 기본 단계는 보통 빈 배열이나 원소가 하나뿐인 배열이 된다. 문제를 풀다 막히면 이 방법을 사용해 보자."
   ]
  },
  {
   "cell_type": "markdown",
   "metadata": {},
   "source": [
    "## 02 퀵 정렬"
   ]
  },
  {
   "cell_type": "markdown",
   "metadata": {},
   "source": [
    "```\n",
    "배열을 정렬하기 위해 퀵 정렬을 사용해 보자. 정렬하는데 가장 간단한 배열은 무엇일까? 당연히 정열할 필요도 없는 정렬이 있다.\n",
    "```"
   ]
  },
  {
   "cell_type": "markdown",
   "metadata": {},
   "source": [
    "<img src=\"./images/04_quicksort/042_quicksort/base_case.png\" width=700 height=700></img>"
   ]
  },
  {
   "cell_type": "markdown",
   "metadata": {},
   "source": [
    "```\n",
    "비어 있는 배열이나 원소가 하나인 배열이 기본 단계가 된다. 이때는 배열을 있는 그대로 반환하면 된다. 정렬할 것이 없기 때문이다.\n",
    "```"
   ]
  },
  {
   "cell_type": "markdown",
   "metadata": {},
   "source": [
    "> <pre>def quicksort(array):\n",
    "    if len(array) < 2:\n",
    "        return array </pre>"
   ]
  },
  {
   "cell_type": "code",
   "execution_count": 15,
   "metadata": {},
   "outputs": [],
   "source": [
    "def quicksort(array):\n",
    "    if len(array) < 2:\n",
    "        return array"
   ]
  },
  {
   "cell_type": "markdown",
   "metadata": {},
   "source": [
    "```\n",
    "더 큰 배열을 살펴보자. 원소개 두 개인 배열도 정렬하기 쉽다.\n",
    "```"
   ]
  },
  {
   "cell_type": "markdown",
   "metadata": {},
   "source": [
    "<img src=\"./images/04_quicksort/042_quicksort/two_elements.png\" width=500 height=500></img>"
   ]
  },
  {
   "cell_type": "markdown",
   "metadata": {},
   "source": [
    "```\n",
    "분할 정복 전략을 사용한다는 것을 기억하자. 즉 이 배열을 기본 단계가 될 때까지 나눈다. 퀵 정렬의 동작은 다음과 같다. 우선 배열에서 원소 하나를 고른다. 이 원소를 기준 원소(pivot)라고 한다.\n",
    "```"
   ]
  },
  {
   "cell_type": "markdown",
   "metadata": {},
   "source": [
    "```\n",
    "일단 배열의 첫 번째 원소가 기준 원소라고 하자.\n",
    "```"
   ]
  },
  {
   "cell_type": "markdown",
   "metadata": {},
   "source": [
    "<img src=\"./images/04_quicksort/042_quicksort/grouped.png\" width=600 height=600></img>"
   ]
  },
  {
   "cell_type": "markdown",
   "metadata": {},
   "source": [
    "```\n",
    "이를 분할(partitioning)이라고 한다. 이제 주어진 것을 정리하자면 다음과 같다.\n",
    "```"
   ]
  },
  {
   "cell_type": "markdown",
   "metadata": {},
   "source": [
    "<ul>\n",
    "    <li>기준 원소보다 작은 숫자들로 이루어진 하위 배열</li>\n",
    "    <li>기준 원소</li>\n",
    "    <li>기준 원소보다 큰 숫자들로 이루어진 하위 배열</li>\n",
    "</ul>"
   ]
  },
  {
   "cell_type": "markdown",
   "metadata": {},
   "source": [
    "```\n",
    "이 두 개의 하위 배열(sub-array)는 정렬되어 있지 않다. 만약 이것들이 정렬되어 있다면 전체 배열을 정렬하는 것은 매우 쉽다.\n",
    "```"
   ]
  },
  {
   "cell_type": "markdown",
   "metadata": {},
   "source": [
    "<img src=\"./images/04_quicksort/042_quicksort/grouped_sorted.png\" height=500 width=500></img>"
   ]
  },
  {
   "cell_type": "markdown",
   "metadata": {},
   "source": [
    "만약 하위 배열들이 정렬되어 있으면 **왼쪽 배열 + 기준 원소 + 오른쪽 배열**과 같이 배열들을 합칠 수 있다. 그러면 전체는 정렬된 배열이 된다. 위의 경우에는 [10, 15] + [33] + [ ] = [10, 15, 33] 정렬된 배열이 된다."
   ]
  },
  {
   "cell_type": "markdown",
   "metadata": {},
   "source": [
    "하위 배열에 관해서는 어떻게 할까? 퀵 정렬의 기본 단계에서 원소의 개수가 두개인 배열(왼쪽의 하위 배열)이나 원소가 없는 빈 배열(오른쪽의 하위 배열)을 정렬하는 방법은 이미 알고 있다. 따라서 이 두 개의 하위 배열에 관해서도 퀵 정렬을 호출하고, 그 결과를 합치면 전체 배열이 정렬된다."
   ]
  },
  {
   "cell_type": "markdown",
   "metadata": {},
   "source": [
    "> <pre>quicksort([15, 10]) + [33] + quicksort([])\n",
    "<br>> [10, 15, 33]</pre>"
   ]
  },
  {
   "cell_type": "markdown",
   "metadata": {},
   "source": [
    "이 방법은 기준 원소가 어떤 것이라도 동작한다. 15를 기준 원소로 골랐다고 가정해 보자."
   ]
  },
  {
   "cell_type": "markdown",
   "metadata": {},
   "source": [
    "<img src=\"./images/04_quicksort/042_quicksort/pivot_15.png\" height=300 width=300></img>"
   ]
  },
  {
   "cell_type": "markdown",
   "metadata": {},
   "source": [
    "이렇듯 원소가 세 개인 배열을 정렬하는 방법을 정리해 보자"
   ]
  },
  {
   "cell_type": "markdown",
   "metadata": {},
   "source": [
    "<ol start=1>\n",
    "    <li>기준 원소를 고른다</li>\n",
    "    <li>배열을 기준 원소보다 작은 원소의 배열과 기준 원소보다 큰 원소의 배열, 이렇게 두 개의 하위 배열로 분할한다.</li>\n",
    "    <li>하위 배열에 대해 재귀적으로 퀵 정렬을 호출한다.</li>\n",
    "</ol>"
   ]
  },
  {
   "cell_type": "markdown",
   "metadata": {},
   "source": [
    "원소의 개수가 4개이면 어떨까?"
   ]
  },
  {
   "cell_type": "markdown",
   "metadata": {},
   "source": [
    "<img src=\"./images/04_quicksort/042_quicksort/array_4.png\" width=300 height=300></img>"
   ]
  },
  {
   "cell_type": "markdown",
   "metadata": {},
   "source": [
    "33을 기준 원소로 골랐다고 가정하자."
   ]
  },
  {
   "cell_type": "markdown",
   "metadata": {},
   "source": [
    "<img src=\"./images/04_quicksort/042_quicksort/array_4_with_pivot.png\" width=400 height=400></img>"
   ]
  },
  {
   "cell_type": "markdown",
   "metadata": {},
   "source": [
    "왼쪽의 배열은 원소가 3개이다. 원소의 개수가 3개인 배열은 정렬하는 법을 알고 있으므로 재귀적으로 호출하면 된다."
   ]
  },
  {
   "cell_type": "markdown",
   "metadata": {},
   "source": [
    "<img src=\"./images/04_quicksort/042_quicksort/array_4_recursive.png\" height=500 width=500></img>"
   ]
  },
  {
   "cell_type": "markdown",
   "metadata": {},
   "source": [
    "이렇듯 원소의 개수가 4개인 배열을 정렬할 수 있으면 원소의 개수가 5개인 배열도 정렬할 수 있다."
   ]
  },
  {
   "cell_type": "markdown",
   "metadata": {},
   "source": [
    "<img src=\"./images/04_quicksort/042_quicksort/array_5.png\" width=300 height=300></img>"
   ]
  },
  {
   "cell_type": "markdown",
   "metadata": {},
   "source": [
    "이 배열을 분할하는 방법은 기준 원소(pivot)를 무엇을 고르느냐에 따라 달라진다."
   ]
  },
  {
   "cell_type": "markdown",
   "metadata": {},
   "source": [
    "<img src=\"./images/04_quicksort/042_quicksort/all_possible_partitions.png\" width=400 height=400></img>"
   ]
  },
  {
   "cell_type": "markdown",
   "metadata": {},
   "source": [
    "모든 하위 배열들이 0개부터 4개까지의 원소를 가진 것을 알 수 있따. 그러니까 어떤 기준 원소를 고르든 두 개의 하위 배열에 재귀적으로 퀵 정렬을 호출하면 된다."
   ]
  },
  {
   "cell_type": "markdown",
   "metadata": {},
   "source": [
    "가령 기준원소 3일 경우 다음과 같은 하위 배열에 대해 퀵 정렬을 호출하면 된다."
   ]
  },
  {
   "cell_type": "markdown",
   "metadata": {},
   "source": [
    "<img src=\"./images/04_quicksort/042_quicksort/qsort_pivot_3.png\" width=600 height=600></img>"
   ]
  },
  {
   "cell_type": "markdown",
   "metadata": {},
   "source": [
    "각 하위 배열들이 정렬되면 합쳐서 전체 배열을 정렬한다. 기준 원소로 5를 고르더라도 마찬가지이다."
   ]
  },
  {
   "cell_type": "markdown",
   "metadata": {},
   "source": [
    "<img src=\"./images/04_quicksort/042_quicksort/qsort_pivot_5.png\" height=550 width=550></img>"
   ]
  },
  {
   "cell_type": "markdown",
   "metadata": {},
   "source": [
    "```\n",
    "기준 원소로 무엇을 고르더라도 마찬가지로 동작한다. 따라서 5개의 원소를 가진 배열도 정렬할 수 있따. 이와 같은 논리로 원소가 6개인 배열도, 7개인 배열도 정렬할 수 있다.\n",
    "```"
   ]
  },
  {
   "cell_type": "markdown",
   "metadata": {},
   "source": [
    "퀵 정렬 구현 코드"
   ]
  },
  {
   "cell_type": "code",
   "execution_count": 23,
   "metadata": {},
   "outputs": [],
   "source": [
    "def quicksort(array):\n",
    "    \n",
    "    if len(array) < 2:\n",
    "        return array\n",
    "    \n",
    "    else:\n",
    "        pivot = array[0]\n",
    "        less =[i for i in array[1:] if i <=pivot]\n",
    "        \n",
    "        greater =[i for i in array[1:] if i > pivot]\n",
    "        \n",
    "        return quicksort(less) + [pivot] + quicksort(greater)        "
   ]
  },
  {
   "cell_type": "code",
   "execution_count": 24,
   "metadata": {},
   "outputs": [
    {
     "name": "stdout",
     "output_type": "stream",
     "text": [
      "[2, 3, 5, 10]\n"
     ]
    }
   ],
   "source": [
    "print quicksort([10, 5, 2 ,3])"
   ]
  },
  {
   "cell_type": "markdown",
   "metadata": {},
   "source": [
    "**<h3>Tip</h3>** <h4>귀납적 증명</h4>\n",
    "<hr>\n",
    "귀납적 증명은 알고리즘이 제대로 동작하는지 증명하는 방법 중 하나이다. 귀납적 증명에도 기본 단계(base case)와 귀납 단계(inductive case)라는 두 가지 단계가 필요하다.<br><br>\n",
    "```\n",
    "예를 들어 사다리 끝에 올라가려는 것을 증명하고 싶다고 가정하자. 귀납 단계에서는 내 다리가 사다리의 어떤 계단에 있으면 다음 계단에도 다리를 올려 놓을 수 있다. 즉 두번째 계단에 있으면 세번째 계단에도 오를 수 있는 것이다. 이것이 귀납 단계이다. 기본 단계에서는 내 다리가 첫 번째 계단에 있다고 하는 것이다. 그러니까 한 번에 한 계단씩 모든 계단을 오를 수 있다.\n",
    "\n",
    "퀵 정렬에 대해서도 비슷한 논리를 주장할 수 있다. 기본 단계에서는 알고리즘이 가장 기본적인 경우, 즉 배열의 크기가 0이나 1인 경우에 대해 알고리즘이 동작한다는 것을 보여준다. 귀납 단계에서는 퀵 정렬의 크기가 1인 배열에 대해 동작하면 크기가 2인 배열에 대해서도 동작한다는 것을 보여준다. 마찬가지로 크기가 2인 배열에 대해 동작하면 크기가 3인 배열에 대해서도 동작하고, 이렇게 모든 크기의 배열에 대해 퀵 정렬이 동작한다고 말할 수 있다.\n",
    "```"
   ]
  },
  {
   "cell_type": "markdown",
   "metadata": {},
   "source": [
    "## 03. 빅오 표기법 복습"
   ]
  },
  {
   "cell_type": "markdown",
   "metadata": {},
   "source": [
    "<img src=\"./images/04_quicksort/043_big_O_notation_revisited/common_runtimes.png\"></img>"
   ]
  },
  {
   "cell_type": "markdown",
   "metadata": {},
   "source": [
    "이 추정치는 1초에 10회의 연산을 할 수 있는 느린 컴퓨터를 기준으로 하였다."
   ]
  },
  {
   "cell_type": "markdown",
   "metadata": {},
   "source": [
    "2장에서 공부한 선택 정렬의 경우 실행 시간이 O(n$^{2}$)으로 매우 느리다. 반면 병합 정렬(merge sort)라고 부르는 정렬 알고리즘의 실행 시간은 O(n log n)이다. 또한 퀵 정렬의 실행 시간은 사실 최악의 경우 O(n$^{2}$)이 될 수도 있다. 선택 정렬만큼 느린 것이다. 하지만 이것은 최악의 경우를 뜻하는 것이고 평균적인 경우는 O(n log n)실행 시간을 가진다."
   ]
  },
  {
   "cell_type": "markdown",
   "metadata": {},
   "source": [
    "- 여기에서 최악의 경우와 일반적인 경우란 무엇을 뜻할까?\n",
    "- 만약 퀵 정렬이 평균적으로 O(n log n)이라면 병합 정렬은 항상 O(n log n)일까? 그럼 훨씬 더 빠를 것 같은 병합정렬을 왜 쓰지 않을까?"
   ]
  },
  {
   "cell_type": "markdown",
   "metadata": {},
   "source": [
    "### 병합 정렬과 퀵 정렬 비교\n",
    "<hr>"
   ]
  },
  {
   "cell_type": "code",
   "execution_count": 27,
   "metadata": {},
   "outputs": [],
   "source": [
    "def print_items(list):\n",
    "    for item in list:\n",
    "        print item"
   ]
  },
  {
   "cell_type": "markdown",
   "metadata": {},
   "source": [
    "리스트에 있는 함수를 모두 훑어보고 하나씩 출력한다. 리스트 전체에 대해 반복문을 실행하므로 이 함수의 실행 시간은 O(n)이다."
   ]
  },
  {
   "cell_type": "code",
   "execution_count": 28,
   "metadata": {},
   "outputs": [],
   "source": [
    "from time import sleep\n",
    "def print_items2(list):\n",
    "    for item in list:\n",
    "        sleep(1)\n",
    "        print item"
   ]
  },
  {
   "cell_type": "markdown",
   "metadata": {},
   "source": [
    "두 함수 모두 리스트를 한 번만 훑어보기 때문에 똑같이 O(n) 실행 시간을 가지지만, print_items가 원소 출력 전에 1초동안 기다리지 않기 때문에 훨씬 빠르다. O(n)과 같은 빅오 표기법을 사용한다는 것은 실제로는 이런 의미이다."
   ]
  },
  {
   "cell_type": "markdown",
   "metadata": {},
   "source": [
    "<img src=\"./images/04_quicksort/043_big_O_notation_revisited/c_times_n.png\" width=400 height=400></img>"
   ]
  },
  {
   "cell_type": "markdown",
   "metadata": {},
   "source": [
    "c는 알고리즘이 소비하는 어떤 특정한 시간으로, 상수라 부른다. 예를 들어 첫번째 함수는 10 milliseconds x n 시간이 걸리고, 두번째 함수는 1 second x n 시간이 걸린다. 보통 두개의 알고리즘이 서로 다른 빅오 표기법의 시간을 가지면 상수는 크게 문제가 되지 않으므로 보통 무시한다."
   ]
  },
  {
   "cell_type": "markdown",
   "metadata": {},
   "source": [
    "<img src=\"./images/04_quicksort/043_big_O_notation_revisited/constants_for_search_algorithms.png\" width=500></img>"
   ]
  },
  {
   "cell_type": "markdown",
   "metadata": {},
   "source": [
    "<img src=\"./images/04_quicksort/043_big_O_notation_revisited/search_runtimes.png\" width=700></img>"
   ]
  },
  {
   "cell_type": "markdown",
   "metadata": {},
   "source": [
    "즉 위의 경우 처럼 상수는 전혀 문제가 되지 않는다."
   ]
  },
  {
   "cell_type": "markdown",
   "metadata": {},
   "source": [
    "가끔 상수 때문에 차이가 발생하는데, 퀵 정렬과 병합 정렬이 그 예이다. 퀵 정렬이 병합 정렬보다 더 작은 상수를 가진다. 그래서 실행 시간이 O(n log n)으로 동일하다면 퀵 정렬이 더 빠르다. 그리고 퀵 정렬을 사용할 때 최악의 경우보다는 일반적인 경우가 훨씬 더 많이 발생하기 때문에 현실에서는 퀵 정렬이 더 빠르다.\n",
    "\n",
    "그럼 이제 무엇이 일반적인 경우이고 무엇이 최악의 경우인가 하는 것을 알아보자."
   ]
  },
  {
   "cell_type": "markdown",
   "metadata": {},
   "source": [
    "### 평균적인 경우와 최악의 경우 비교\n",
    "<hr>"
   ]
  },
  {
   "cell_type": "markdown",
   "metadata": {},
   "source": [
    "퀵 정렬의 성능은 선택한 기준 원소에 크게 좌우된다. 만약 첫 번째 원소를 항상 기준원소로 선택한다 가정하자. 그리고 이미 정렬되어 있는 배열에 대해 퀵 정렬을 호출해 보면 퀵 정렬은 입력으로 주어진 배열이 이미 정렬되어 있는지, 아닌지는 확인하지 않기 때문에 그냥 정렬하려고 할 것이다."
   ]
  },
  {
   "cell_type": "markdown",
   "metadata": {},
   "source": [
    "<img src=\"./images/04_quicksort/043_big_O_notation_revisited/quicksort_first_pivot.png\" width=700></img>"
   ]
  },
  {
   "cell_type": "markdown",
   "metadata": {},
   "source": [
    "배열을 절반으로 나누지 않고 진행하는 것을 볼 수 있다. 두 개의 하위 배열 중 하나는 항상 빈 배열이다. 그래서 호출 스택이 아주 길어진다. 이번에는 정 가운데 있는 원소를 항상 기준 원소로 선택한다고 가정해 보자."
   ]
  },
  {
   "cell_type": "markdown",
   "metadata": {},
   "source": [
    "<img src=\"./images/04_quicksort/043_big_O_notation_revisited/quicksort_middle_pivot.png\" width=700></img>"
   ]
  },
  {
   "cell_type": "markdown",
   "metadata": {},
   "source": [
    "정말 짧아졌다. 매번 배열을 절반으로 나누기 때문에 재귀적 호출을 많이 할 필요가 없다. 기본 단계에 더 빨리 도달하기 때문에 호출 스택이 짧아진다."
   ]
  },
  {
   "cell_type": "markdown",
   "metadata": {},
   "source": [
    "첫 번째 예제가 최악의 경우이고 두 번째 경우가 최선의 시나리오다. 최악의 경우 스택의 크기가 O(n)이 되고, 최선의 경우 스택의 크기가 O(log n)이 된다."
   ]
  },
  {
   "cell_type": "markdown",
   "metadata": {},
   "source": [
    "스택의 첫 번째 단계를 살펴보자. 기준 원소 하나를 선택시 나머지 원소들은 두 개의 하위 배열로 나누어 진다. 이렇게 나누기 위해서는 8개의 원소를 모두 기준 원소와 비교해야 하며 이 작업에는 O(n)의 실행 시간이 거린다. 사실 호출 스택의 첫번째 단계 뿐 아니라 이후의 모든 호출 스택에 대해서도 O(n)개의 원소를 비교해야 한다."
   ]
  },
  {
   "cell_type": "markdown",
   "metadata": {},
   "source": [
    "<img src=\"./images/04_quicksort/043_big_O_notation_revisited/tall_call_stack.png\" width=550></img>"
   ]
  },
  {
   "cell_type": "markdown",
   "metadata": {},
   "source": [
    "배열을 다르게 분할한다고 해도 여전히 매번 O(n)개의 원소를 모두 비교해야 하는 것은 마찬가지이다."
   ]
  },
  {
   "cell_type": "markdown",
   "metadata": {},
   "source": [
    "<img src=\"./images/04_quicksort/043_big_O_notation_revisited/short_call_stack.png\" width=700></img>"
   ]
  },
  {
   "cell_type": "markdown",
   "metadata": {},
   "source": [
    "그러니까 각각의 호출 스택 작업이 완료되려면 O(n)시간이 걸린다."
   ]
  },
  {
   "cell_type": "markdown",
   "metadata": {},
   "source": [
    "<img src=\"./images/04_quicksort/043_big_O_notation_revisited/levels.png\" width=800></img>"
   ]
  },
  {
   "cell_type": "markdown",
   "metadata": {},
   "source": [
    "\n",
    "위의 예에서는 O(log n)단계가 있다(정확히 기술적으로 표현하자면 호출 스택의 높이는 O(log n)이다. 그리고 각각의 단계는 O(n)시간이 걸린다. 따라서 전체 알고리즘은 O(n) x O(log n) = O(n log n) 시간이 걸린다. 이것이 최선의 경우이다.\n",
    "\n",
    "최악의 경우에는 O(n)단계가 있으므로 전체 알고리즘은 O(n) x O(n) = O(n$^{2}$)시간이 걸린다."
   ]
  },
  {
   "cell_type": "markdown",
   "metadata": {},
   "source": [
    "```\n",
    "그런데 퀵 정렬에서는 일반적인 경우에도 최선의 경우와 같은 실행 속돌르 가진다. 만약 기준 원소를 전체 배열에서 무작위로 선택한다면 퀵 정렬은 평균적으로 O(n log n) 실행 시간을 가진다. 퀵 정렬은 가장 빠른 정렬 방법 중 하나이고, 분할 정복의 좋은 예이다.\n",
    "```"
   ]
  },
  {
   "cell_type": "markdown",
   "metadata": {},
   "source": [
    "## 4장에서 배운 내용\n",
    "<hr>\n",
    "```\n",
    "* 분할 정복은 문제를 더 작은 조각으로 나누어 푼다. 만약 리스트에 분할 정복을 적용한다면 기본 단계는 원소가 없는 빈 배열이거나 하나의 원소만 가진 배열이 된다.\n",
    "\n",
    "* 퀵 정렬을 구현하려면 기준 원소를 무작위로 선택한다. 퀵 정렬의 평균적인 실행 시간은 O(n log n)이다.\n",
    "\n",
    "* 빅오 표기법에서 가끔씩 상수가 중요해질 때도 있다. 퀵 정렬이 병합 정렬보다 빠른 이유도 상수 때문이다.\n",
    "\n",
    "* 단순 탐색과 이진 탐색을 비교할 때는 상수항이 전혀 문제가 되지 않는다. 왜냐하면 리스트가 길어지면 O(log n)이 O(n)보다 훨씬 빨라지기 때문이다.\n",
    " \n",
    "```"
   ]
  },
  {
   "cell_type": "markdown",
   "metadata": {},
   "source": [
    "## 연습문제"
   ]
  },
  {
   "cell_type": "markdown",
   "metadata": {},
   "source": [
    "### 4-1 처음 나왔던 sum 함수를 작성해 보세요."
   ]
  },
  {
   "cell_type": "code",
   "execution_count": 35,
   "metadata": {},
   "outputs": [],
   "source": [
    "def sum(list):\n",
    "    if list == []:\n",
    "        return 0\n",
    "    return list[0] + sum(list[1:])"
   ]
  },
  {
   "cell_type": "markdown",
   "metadata": {},
   "source": [
    "### 4-2 리스트에 포함된 원소의 숫자를 세는 재귀 함수를 작성해 보세요."
   ]
  },
  {
   "cell_type": "code",
   "execution_count": 36,
   "metadata": {},
   "outputs": [],
   "source": [
    "def count(list):\n",
    "    if list == []:\n",
    "        return 0\n",
    "    return 1 + count(list[1:])"
   ]
  },
  {
   "cell_type": "markdown",
   "metadata": {},
   "source": [
    "### 4-3 리스트에서 가장 큰 수를 찾아 보세요."
   ]
  },
  {
   "cell_type": "code",
   "execution_count": 37,
   "metadata": {},
   "outputs": [],
   "source": [
    "def max(list):\n",
    "    if len(list) == 2:\n",
    "        return list[0] if list[0] > list[1] else list[1]\n",
    "    sub_max = max(list[1:])\n",
    "    return list[0] if list[0] > sub_max else sub_max"
   ]
  },
  {
   "cell_type": "markdown",
   "metadata": {},
   "source": [
    "### 4-4 1장에서 나왔던 이진 탐색을 기억하나요? 그 방법도 역시 분할 정복 전략이었습니다. 이진 탐색에 대해 기본 단계와 재귀 단계를 찾을 수 있나요?"
   ]
  },
  {
   "cell_type": "markdown",
   "metadata": {},
   "source": [
    "```\n",
    "이진 탐색의 기본 단계는 원소가 하나뿐인 배열이다. 만약 이 배열에서 원소를 찾으려면 바로 찾을 수 있다. 그렇지 않으면 배열에 없는 것이다. 이진 탐색의 재귀 단계에서는 배열을 2등분하고 하나씩 이진 탐색을 실행한다.\n",
    "```"
   ]
  },
  {
   "cell_type": "markdown",
   "metadata": {},
   "source": [
    "### 다음 연산들의 실행 시간을 빅오 표기법으로 표시해 보세요."
   ]
  },
  {
   "cell_type": "markdown",
   "metadata": {},
   "source": [
    "### 4-5 배열의 모든 원소의 값을 출력하기"
   ]
  },
  {
   "cell_type": "markdown",
   "metadata": {},
   "source": [
    "> O(n)"
   ]
  },
  {
   "cell_type": "markdown",
   "metadata": {},
   "source": [
    "### 4-6 배열의 모든 원소의 값을 두 배로 만들기"
   ]
  },
  {
   "cell_type": "markdown",
   "metadata": {},
   "source": [
    "> O(n)"
   ]
  },
  {
   "cell_type": "markdown",
   "metadata": {},
   "source": [
    "### 4-7 배열의 첫 번째 원소의 값만 두 배로 만들기"
   ]
  },
  {
   "cell_type": "markdown",
   "metadata": {},
   "source": [
    "> O(1)"
   ]
  },
  {
   "cell_type": "markdown",
   "metadata": {},
   "source": [
    "### 4-8 배열의 모든 원소 조합에 대해 곱셈표 만들기(만약 배열이 [2, 3, 7, 8, 10]이면 처음에는 원소를 각각 2배하고, 그 다음에는 3배, 그 다음에는 7배, 이런 식으로 곱해야 합니다.)"
   ]
  },
  {
   "cell_type": "markdown",
   "metadata": {},
   "source": [
    "> O(n$^2$)"
   ]
  }
 ],
 "metadata": {
  "kernelspec": {
   "display_name": "Python 2",
   "language": "python",
   "name": "python2"
  },
  "language_info": {
   "codemirror_mode": {
    "name": "ipython",
    "version": 2
   },
   "file_extension": ".py",
   "mimetype": "text/x-python",
   "name": "python",
   "nbconvert_exporter": "python",
   "pygments_lexer": "ipython2",
   "version": "2.7.12"
  }
 },
 "nbformat": 4,
 "nbformat_minor": 2
}

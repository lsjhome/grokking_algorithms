{
 "cells": [
  {
   "cell_type": "markdown",
   "metadata": {},
   "source": [
    "# Chapter 07. 다익스트라 알고리즘"
   ]
  },
  {
   "cell_type": "markdown",
   "metadata": {},
   "source": [
    "## 01. 너비 우선 탐색 vs 다익스트라 알고리즘"
   ]
  },
  {
   "cell_type": "markdown",
   "metadata": {},
   "source": [
    "<img src='./images/07_dijkstras_algorithm/071_dijkstras_algorithm/dijkstra_path.png' width=60%>"
   ]
  },
  {
   "cell_type": "markdown",
   "metadata": {},
   "source": [
    "이렇게 가장 빠른 경로를 찾고 싶다면 다익스트라 알고리즘이라고 하는 다른 알고리즘을 사용하면 최단 시간 경로를 구할 수 있다."
   ]
  },
  {
   "cell_type": "markdown",
   "metadata": {},
   "source": [
    "## 02. 너비 우선 탐색 vs 다익스트라 알고리즘"
   ]
  },
  {
   "cell_type": "markdown",
   "metadata": {},
   "source": [
    "다익스트라 알고리즘은 4단계로 이루어진다."
   ]
  },
  {
   "cell_type": "markdown",
   "metadata": {},
   "source": [
    "1. 가장 \"가격\"이 싼 정점을 찾는다. 가장 가격이 싼 정점이란 도달하는데 시간이 갖아 적게 걸리는 정점을 말한다.<br><br>\n",
    "\n",
    "2. 이 정점의 이웃 정점에 대해 현재의 가격보다 더 싼 경로가 존재하는지 확인한다.<br><br>\n",
    "\n",
    "3. 그래프 상의 모든 정점에 대해 이러한 일을 반복한다.<br><br>\n",
    "\n",
    "4. 최종 경로를 계산한다.<br><br>"
   ]
  },
  {
   "cell_type": "markdown",
   "metadata": {},
   "source": [
    "## 03. 용어 설명"
   ]
  },
  {
   "cell_type": "markdown",
   "metadata": {},
   "source": [
    "다익스트라 알고리즘에서 그래프의 각 간선은 어떤 숫자를 가진다. 이 숫자를 가중치(weight)라 한다."
   ]
  },
  {
   "cell_type": "markdown",
   "metadata": {},
   "source": [
    "<img src='./images/07_dijkstras_algorithm/073_cycles/weights.png' width=30%>"
   ]
  },
  {
   "cell_type": "markdown",
   "metadata": {},
   "source": [
    "가중치를 가지는 그래프는 가중 그래프(weighted graph)라고 한다. 가중치가 없는 그래프는 균일 그래프(unweighted graph)라고 한다."
   ]
  },
  {
   "cell_type": "markdown",
   "metadata": {},
   "source": [
    "<img src='./images/07_dijkstras_algorithm/073_cycles/weighted_vs_unweighted.png' width=60%>"
   ]
  },
  {
   "cell_type": "markdown",
   "metadata": {},
   "source": [
    "균일 그래프에서 최단 경로를 계산할때는 너비 우선 탐색을 사용한다. 가중 그래프에서 최단 경로를 계산할 때에는 다잇트라 알고리즘을 사용한다."
   ]
  },
  {
   "cell_type": "markdown",
   "metadata": {},
   "source": [
    "사이클은 그래프가 어떤 정점에서 출발하여 한 바퀴 돌아 같은 정점에서 끝난다는 것이다."
   ]
  },
  {
   "cell_type": "markdown",
   "metadata": {},
   "source": [
    "<img src='./images/07_dijkstras_algorithm/073_cycles/cycle.png' width=30%>"
   ]
  },
  {
   "cell_type": "markdown",
   "metadata": {},
   "source": [
    "<img src='./images/07_dijkstras_algorithm/073_cycles/cycle_path_3.png' width=30%>"
   ]
  },
  {
   "cell_type": "markdown",
   "metadata": {},
   "source": [
    "사이클을 지나면 최단 경로를 얻을 수 없다."
   ]
  },
  {
   "cell_type": "markdown",
   "metadata": {},
   "source": [
    "무방향 그래프는 두 정점이 서로를 향하고 있는 것을 뜻한다. 즉 사이클이다!"
   ]
  },
  {
   "cell_type": "markdown",
   "metadata": {},
   "source": [
    "<img src='./images/07_dijkstras_algorithm/073_cycles/undirected_graph_is_cycle.png' width=50%>"
   ]
  },
  {
   "cell_type": "markdown",
   "metadata": {},
   "source": [
    "무방향 그래프에서는 각 정점에 사이클을 더할 수 있다. **<u>다익스트라 알고리즘은 방향성 비순환 그래프(DAG, Directed Acyclic Graph)</u> 또는 <u>사이클을 가진 경우에는 가중치가 양수일 때만 적용된다.</u>**"
   ]
  },
  {
   "cell_type": "markdown",
   "metadata": {},
   "source": [
    "## 04. 다익스트라 알고리즘을 사용한 물물 교환"
   ]
  },
  {
   "cell_type": "markdown",
   "metadata": {},
   "source": [
    "라마는 적은 돈으로 악보를 피아노와 바꾸고 싶어한다. 라마의 거래를 그래프로 그려보자"
   ]
  },
  {
   "cell_type": "markdown",
   "metadata": {},
   "source": [
    "<img src='./images/07_dijkstras_algorithm/072_another_example/music_graph.png' width=50%>"
   ]
  },
  {
   "cell_type": "markdown",
   "metadata": {},
   "source": [
    "시작하기 전에, 먼저 각 정점에 대한 가격표를 만들자. 여기서 정점의 가격이란 그 정점에 도달하기까지 드는 돈을 말한다."
   ]
  },
  {
   "cell_type": "markdown",
   "metadata": {},
   "source": [
    "<img src='./images/07_dijkstras_algorithm/072_another_example/costs.png' width=40%>"
   ]
  },
  {
   "cell_type": "markdown",
   "metadata": {},
   "source": [
    "그리고 나중에 최종 경로를 계산하기 위해 이 표에 부모 열(parent  column)을 추가하자."
   ]
  },
  {
   "cell_type": "markdown",
   "metadata": {},
   "source": [
    "<img src='./images/07_dijkstras_algorithm/072_another_example/parents.png' width=20%>"
   ]
  },
  {
   "cell_type": "markdown",
   "metadata": {},
   "source": [
    "**1단계:** <u>가장 가격이 싼 정점을 찾는다.</u> 이 경우에는 포스터가 0달러로 가장 싸다. 여기서 포스터를 더 싼 가격에 살 수 있는 경우가 있는지 잘 생각해 본다."
   ]
  },
  {
   "cell_type": "markdown",
   "metadata": {},
   "source": [
    "가령 집에서 회사로 가고 싶다고 가정하자."
   ]
  },
  {
   "cell_type": "markdown",
   "metadata": {},
   "source": [
    "<img src='./images/07_dijkstras_algorithm/072_another_example/home_to_work_graph.png' width=50%>"
   ]
  },
  {
   "cell_type": "markdown",
   "metadata": {},
   "source": [
    "만약 학교로 가는 길을 선택하면 2분이 걸리고 공원 쪽으로 가면 6분이 걸린다. 공원으로 갔다가 학교로 가면서 2분보다 작게 걸리는 경우는 없다.\n",
    "\n",
    "반면 공원을 가는 방법 중에 더 빠른 길은 있다."
   ]
  },
  {
   "cell_type": "markdown",
   "metadata": {},
   "source": [
    "<img src='./images/07_dijkstras_algorithm/072_another_example/shorter_path_to_park.png' width=40%>"
   ]
  },
  {
   "cell_type": "markdown",
   "metadata": {},
   "source": [
    "이렇든 그래프에서 가격이 가장 싼 정점을 찾는 것이 다익스트라 알고리즘의 핵심 아이디어다. 다시 악보 예제로 돌아가 보자."
   ]
  },
  {
   "cell_type": "markdown",
   "metadata": {},
   "source": [
    "**2단계:** 그 이웃까지 도달하는데 걸리는 시간(가격)을 계산한다."
   ]
  },
  {
   "cell_type": "markdown",
   "metadata": {},
   "source": [
    "<img src='./images/07_dijkstras_algorithm/072_another_example/poster_neighbors.png'>"
   ]
  },
  {
   "cell_type": "markdown",
   "metadata": {},
   "source": [
    "이제 베이스 기타와 드럼 세트 가격을 표에 적을 수 있다. 이 가격은 포스터를 지나온 가격이므로 포스터가 부모 정점이 된다. 즉, 베이스 기타에 도달하려면 포스터에서 나온 간선을 따라와야 하며 드럼도 마찬가지이다."
   ]
  },
  {
   "cell_type": "markdown",
   "metadata": {},
   "source": [
    "<img src='./images/07_dijkstras_algorithm/072_another_example/poster_parent.png' width=60%>"
   ]
  },
  {
   "cell_type": "markdown",
   "metadata": {},
   "source": [
    "**다시 1단계:** LP가 5달러로 두번째로 싼 정점이다.<br>\n",
    "**다시 1단계:** 모든 이웃 정점의 가격을 갱신한다."
   ]
  },
  {
   "cell_type": "markdown",
   "metadata": {},
   "source": [
    "<img src='./images/07_dijkstras_algorithm/072_another_example/lp_neighbors.png' width=80%>"
   ]
  },
  {
   "cell_type": "markdown",
   "metadata": {},
   "source": [
    "이제 드럼과 기타의 가격이 바뀌었다. LP로부터 출발해서 드럼과 기타에 도달하는 것이 더 싸다는 뜻이다. 그러니까 이제 LP가 두 악기의 새로운 부모 정점이 된다."
   ]
  },
  {
   "cell_type": "markdown",
   "metadata": {},
   "source": [
    "위를 보면 이제 베이스 기타가 그 다음으로 싼 항목이다. 그 이웃 정점도 갱신한다."
   ]
  },
  {
   "cell_type": "markdown",
   "metadata": {},
   "source": [
    "<img src='./images/07_dijkstras_algorithm/072_another_example/guitar_neighbors.png' width=90%>"
   ]
  },
  {
   "cell_type": "markdown",
   "metadata": {},
   "source": [
    "기타와 피아노를 바꾸면서 이제 피아노의 가격을 알게 되었다. 즉, 기타가 피아노의 부모 정점이다. 이제 마지막 정점인 드럼세트에 대해 알아보자"
   ]
  },
  {
   "cell_type": "markdown",
   "metadata": {},
   "source": [
    "<img src='./images/07_dijkstras_algorithm/072_another_example/drums_neighbors.png' width=90%>"
   ]
  },
  {
   "cell_type": "markdown",
   "metadata": {},
   "source": [
    "드럼 세트를 매매하면 라마는 더 싸게 피아노를 구할 수 이따. 그러므로 라마가 가장 싸게 피아노를 구하는 가격은 35달러이다."
   ]
  },
  {
   "cell_type": "markdown",
   "metadata": {},
   "source": [
    "이제 경로를 계산하기 위해 우선 피아노의 부모 정점을 찾아보면, 피아노의 부모 정점은 드럼이다. 즉 라마는 피아노와 드럼을 바꾼 것이다. 드럼의 부모는 LP이다. 즉 라마는 LP와 드럼을 교환한 것이다. 그리고 그 LP는 악보와 바꾼 것이다. 이렇게 거꾸로 부모 정점을 찾아가면 완전한 경로를 찾을 수 있다."
   ]
  },
  {
   "cell_type": "markdown",
   "metadata": {},
   "source": [
    "<img src='./images/07_dijkstras_algorithm/072_another_example/complete_path.png' width=60%>"
   ]
  },
  {
   "cell_type": "markdown",
   "metadata": {},
   "source": [
    "최단 경로라는 말은 반드시 거리를 최소화한다는 것이 아니다. 최단이라는 말은 무언가를 최소화한다는 의미이다. 이 경우, 라마가 써야 할 돈을 최소화 하고 싶었던 것이다. 이렇듯 다익스트라 알고리즘을 사용하면 최소화가 가능하다."
   ]
  },
  {
   "cell_type": "markdown",
   "metadata": {},
   "source": [
    "## 05. 간선의 가중치가 음수인 경우"
   ]
  },
  {
   "cell_type": "markdown",
   "metadata": {},
   "source": [
    "<img src='./images/07_dijkstras_algorithm/073_negative_weight_edges/trade_for_drums.png' width=60%>"
   ]
  },
  {
   "cell_type": "markdown",
   "metadata": {},
   "source": [
    "두번째 경로를 선택하면 2달러가 절략된다. 하지만 다익스트라 알고리즘을 적용하면 라마는 잘못된 경로를 택하게 된다."
   ]
  },
  {
   "cell_type": "markdown",
   "metadata": {},
   "source": [
    "**음의 가중치가 있으면 다익스트라 알고리즘을 사용할 수 없다.** 음의 가중치 간선이 알고리즘을 망쳐버린다. 우선 다음과 같이 가격표를 만들어 보자."
   ]
  },
  {
   "cell_type": "markdown",
   "metadata": {},
   "source": [
    "<img src='./images/07_dijkstras_algorithm/073_negative_weight_edges/costs.png' width=20%>"
   ]
  },
  {
   "cell_type": "markdown",
   "metadata": {},
   "source": [
    "가장 싼 정점을 찾아서 그 이웃의 가격을 갱신한다. 이 경우에는 포스터가 가장 싼 정점이다. 0달러 보다 싼 경로는 없다.(물론 틀렸다.) 이제 드럼 가격은 35달러이다."
   ]
  },
  {
   "cell_type": "markdown",
   "metadata": {},
   "source": [
    "<img src='./images/07_dijkstras_algorithm/073_negative_weight_edges/poster_neighbors.png' width=60%>"
   ]
  },
  {
   "cell_type": "markdown",
   "metadata": {},
   "source": [
    "이제 처리하지 않은 두 번째로 싼 정점을 찾는다."
   ]
  },
  {
   "cell_type": "markdown",
   "metadata": {},
   "source": [
    "<img src='./images/07_dijkstras_algorithm/073_negative_weight_edges/next_cheapest_node.png' width=30%>"
   ]
  },
  {
   "cell_type": "markdown",
   "metadata": {},
   "source": [
    "이웃 정점의 가격을 갱신한다"
   ]
  },
  {
   "cell_type": "markdown",
   "metadata": {},
   "source": [
    "<img src='./images/07_dijkstras_algorithm/073_negative_weight_edges/lp_neighbors.png' width=60%>"
   ]
  },
  {
   "cell_type": "markdown",
   "metadata": {},
   "source": [
    "이미 포스터 정점을 처리했는데 가격이 바뀌었다. 어떤 정점을 처리하면 그보다 더 싼 경로는 존재하지 않아야 하는데, 포스터에 도달하는 더 싼 길이 발견된 것이다. 드럼에는 이웃이 없으니까 이제 알고리즘은 종료한다."
   ]
  },
  {
   "cell_type": "markdown",
   "metadata": {},
   "source": [
    "<img src='./images/07_dijkstras_algorithm/073_negative_weight_edges/final_costs.png' width=20%>"
   ]
  },
  {
   "cell_type": "markdown",
   "metadata": {},
   "source": [
    "다익스트라 알고리즘에서는 포스터 정점을 이미 처리했기 때문에 그 정점에 도달하는 더 싼 경로는 없다고 가정해 버린다. 그래서 음의 가중치를 가진 간선이 있으면 다익스트라 알고리즘을 사용할 수 없다. 이를 위해서는 벨만-포드 알고리즘을 사용하면 된다."
   ]
  },
  {
   "cell_type": "markdown",
   "metadata": {},
   "source": [
    "## 06. 구현"
   ]
  },
  {
   "cell_type": "markdown",
   "metadata": {},
   "source": [
    "다익스트라 알고리즘을 코드로 어떻게 구현하는지 살펴보자. 예제로 사용할 그래프는 아래와 같다."
   ]
  },
  {
   "cell_type": "markdown",
   "metadata": {},
   "source": [
    "<img src='./images/07_dijkstras_algorithm/073_implementation/graph.png' width=30%>"
   ]
  },
  {
   "cell_type": "markdown",
   "metadata": {},
   "source": [
    "이 예제를 코딩하기 위해서는 3개의 해시 테이블이 필요하다."
   ]
  },
  {
   "cell_type": "markdown",
   "metadata": {},
   "source": [
    "<img src='./images/07_dijkstras_algorithm/073_implementation/all_hash_tables.png' width=50%>"
   ]
  },
  {
   "cell_type": "markdown",
   "metadata": {},
   "source": [
    "알고리즘을 실행하면서 가격 해시 테이블과 부모 해시 테이블을 갱신하게 된다."
   ]
  },
  {
   "cell_type": "markdown",
   "metadata": {},
   "source": [
    "간선들의 가중치 또한 또 다른 해시 테이블을 사용한다."
   ]
  },
  {
   "cell_type": "markdown",
   "metadata": {},
   "source": [
    "<img src='./images/07_dijkstras_algorithm/073_implementation/start_edges.png' width=20%>"
   ]
  },
  {
   "cell_type": "code",
   "execution_count": 1,
   "metadata": {},
   "outputs": [],
   "source": [
    "graph = {}"
   ]
  },
  {
   "cell_type": "code",
   "execution_count": 2,
   "metadata": {},
   "outputs": [],
   "source": [
    "graph['start'] = {}\n",
    "graph['start']['a'] = 6\n",
    "graph['start']['b'] = 2"
   ]
  },
  {
   "cell_type": "markdown",
   "metadata": {},
   "source": [
    "graph\\['start'\\]도 해시 테이블이 되는 것이다."
   ]
  },
  {
   "cell_type": "markdown",
   "metadata": {},
   "source": [
    "모든 출발점의 이웃값은 다음과 같이 얻을 수 있다."
   ]
  },
  {
   "cell_type": "code",
   "execution_count": 3,
   "metadata": {},
   "outputs": [
    {
     "data": {
      "text/plain": [
       "['a', 'b']"
      ]
     },
     "execution_count": 3,
     "metadata": {},
     "output_type": "execute_result"
    }
   ],
   "source": [
    "graph['start'].keys()"
   ]
  },
  {
   "cell_type": "markdown",
   "metadata": {},
   "source": [
    "간선의 가중치는 아래와 같이 알 수 있다."
   ]
  },
  {
   "cell_type": "code",
   "execution_count": 4,
   "metadata": {},
   "outputs": [
    {
     "data": {
      "text/plain": [
       "6"
      ]
     },
     "execution_count": 4,
     "metadata": {},
     "output_type": "execute_result"
    }
   ],
   "source": [
    "graph['start']['a']"
   ]
  },
  {
   "cell_type": "code",
   "execution_count": 5,
   "metadata": {},
   "outputs": [
    {
     "data": {
      "text/plain": [
       "2"
      ]
     },
     "execution_count": 5,
     "metadata": {},
     "output_type": "execute_result"
    }
   ],
   "source": [
    "graph['start']['b']"
   ]
  },
  {
   "cell_type": "markdown",
   "metadata": {},
   "source": [
    "나머지 정점과 그 이웃들도 추가하자."
   ]
  },
  {
   "cell_type": "code",
   "execution_count": 6,
   "metadata": {},
   "outputs": [],
   "source": [
    "graph['a'] = {}\n",
    "graph['a']['fin'] = 1"
   ]
  },
  {
   "cell_type": "code",
   "execution_count": 7,
   "metadata": {},
   "outputs": [],
   "source": [
    "graph['b'] = {}\n",
    "graph['b']['a'] = 3\n",
    "graph['b']['fin'] = 5"
   ]
  },
  {
   "cell_type": "code",
   "execution_count": 8,
   "metadata": {},
   "outputs": [],
   "source": [
    "graph['fin'] = {} # 도착점에는 이웃이 없다."
   ]
  },
  {
   "cell_type": "markdown",
   "metadata": {},
   "source": [
    "전체 그래프의 해시 테이블은 다음과 같다."
   ]
  },
  {
   "cell_type": "markdown",
   "metadata": {},
   "source": [
    "<img src='./images/07_dijkstras_algorithm/073_implementation/graph_hash_table.png' width=30%>"
   ]
  },
  {
   "cell_type": "markdown",
   "metadata": {},
   "source": [
    "정점의 가격을 저장하는 해시 테이블이 필요하다."
   ]
  },
  {
   "cell_type": "markdown",
   "metadata": {},
   "source": [
    "<img src='./images/07_dijkstras_algorithm/073_implementation/costs_table.png' width=20%>"
   ]
  },
  {
   "cell_type": "markdown",
   "metadata": {},
   "source": [
    "가격에 대한 표를 만들어보자"
   ]
  },
  {
   "cell_type": "code",
   "execution_count": 9,
   "metadata": {},
   "outputs": [],
   "source": [
    "infinity = float('inf') # 무한대를 표기하기 위한 변수\n",
    "costs = {}\n",
    "costs['a'] = 6\n",
    "costs['b'] = 2\n",
    "costs['fin'] = infinity"
   ]
  },
  {
   "cell_type": "markdown",
   "metadata": {},
   "source": [
    "부모를 나타내는 추가적인 해시테이블도 필요하다."
   ]
  },
  {
   "cell_type": "markdown",
   "metadata": {},
   "source": [
    "<img src='./images/07_dijkstras_algorithm/073_implementation/parents_table.png' width=20%>"
   ]
  },
  {
   "cell_type": "markdown",
   "metadata": {},
   "source": [
    "부모를 위한 해시 테이블을 만드는 코드는 다음과 같다."
   ]
  },
  {
   "cell_type": "code",
   "execution_count": 10,
   "metadata": {},
   "outputs": [],
   "source": [
    "parents = {}\n",
    "parents['a'] = 'start'\n",
    "parents['b'] = 'start'\n",
    "parents['fin'] = None"
   ]
  },
  {
   "cell_type": "markdown",
   "metadata": {},
   "source": [
    "각 정점은 한 번씩만 처리해야 하므로, 이미 처리한 정점을 추적하기 위한 배열도 있어야 한다."
   ]
  },
  {
   "cell_type": "code",
   "execution_count": 11,
   "metadata": {},
   "outputs": [],
   "source": [
    "processed = []"
   ]
  },
  {
   "cell_type": "markdown",
   "metadata": {},
   "source": [
    "<img src='./images/07_dijkstras_algorithm/073_implementation/flowchart.png' width=40%>"
   ]
  },
  {
   "cell_type": "markdown",
   "metadata": {},
   "source": [
    "가장 싼 정점을 찾는 함수 find_loweset_cost_node 를 정의하자"
   ]
  },
  {
   "cell_type": "code",
   "execution_count": 12,
   "metadata": {},
   "outputs": [],
   "source": [
    "def find_lowest_cost_node(costs):\n",
    "    lowest_cost = float(\"inf\")\n",
    "    lowest_cost_node = None\n",
    "    for node in costs:\n",
    "        cost = costs[node]\n",
    "        if cost < lowest_cost and node not in processed:\n",
    "            lowest_cost = cost\n",
    "            lowest_cost_node = node\n",
    "    return lowest_cost_node"
   ]
  },
  {
   "cell_type": "code",
   "execution_count": 13,
   "metadata": {},
   "outputs": [
    {
     "data": {
      "text/plain": [
       "{'a': 6, 'b': 2, 'fin': inf}"
      ]
     },
     "execution_count": 13,
     "metadata": {},
     "output_type": "execute_result"
    }
   ],
   "source": [
    "costs"
   ]
  },
  {
   "cell_type": "markdown",
   "metadata": {},
   "source": [
    "이제 코드를 살펴보자"
   ]
  },
  {
   "cell_type": "code",
   "execution_count": 14,
   "metadata": {},
   "outputs": [],
   "source": [
    "node = find_lowest_cost_node(costs) # 아직 처리하지 않은 가장 싼 정점을 찾는다.\n",
    "while node is not None: # 모든 정점을 처리하면 반복문이 종료된다.\n",
    "    cost = costs[node]\n",
    "    neighbors = graph[node]\n",
    "    for n in neighbors.keys(): # 모든 이웃에 대해 반복한다.\n",
    "        new_cost = cost + neighbors[n]\n",
    "        if costs[n] > new_cost: # 만약 이 정점을 지나는 것이 가격이 더 싸다면\n",
    "            costs[n] = new_cost # 정점의 가격을 갱신하고\n",
    "            parents[n] = node # 부모를 이 정점으로 새로 설정한다.\n",
    "    processed.append(node) # 정점을 처리한 사실을 기록한다.\n",
    "    node = find_lowest_cost_node(costs) # 다음으로 처리할 정점을 찾아 반복한다."
   ]
  },
  {
   "cell_type": "markdown",
   "metadata": {},
   "source": [
    "우선 가장 싼 정점을 찾자. find_lowest_cost_node 알고리즘 코드가 동작하는 모습을 살펴보자."
   ]
  },
  {
   "cell_type": "markdown",
   "metadata": {},
   "source": [
    "<img src='./images/07_dijkstras_algorithm/073_implementation/find_lowest_cost_node.png' width=80%>"
   ]
  },
  {
   "cell_type": "markdown",
   "metadata": {},
   "source": [
    "B 노드가 나왔다. 이제 이 노드의 이웃의 가격을 구해 보자."
   ]
  },
  {
   "cell_type": "markdown",
   "metadata": {},
   "source": [
    "<img src='./images/07_dijkstras_algorithm/073_implementation/cost_and_neighbors.png' width=70%>"
   ]
  },
  {
   "cell_type": "markdown",
   "metadata": {},
   "source": [
    "이웃 정점들을 살펴보자."
   ]
  },
  {
   "cell_type": "markdown",
   "metadata": {},
   "source": [
    "<img src='./images/07_dijkstras_algorithm/073_implementation/loop_through_neighbors.png' width=60%>"
   ]
  },
  {
   "cell_type": "markdown",
   "metadata": {},
   "source": [
    "각 정점은 가격을 가지고 있고, 이 가격은 출발점에서 그 정점까지 걸리는 시간이다. 여기서는 '출발점 > 정점 A'로 가는 경로(가격 6)가 아니라 '출발점 > 정점 B > 정점 A'로 가는 경로(B의 가격2 + B에서 A까지의 거리3) 중에서 어느 것이 더 빠른지를 계산한다."
   ]
  },
  {
   "cell_type": "markdown",
   "metadata": {},
   "source": [
    "<img src='./images/07_dijkstras_algorithm/073_implementation/new_cost.png' width=70%>"
   ]
  },
  {
   "cell_type": "markdown",
   "metadata": {},
   "source": [
    "두 가격을 비교한다."
   ]
  },
  {
   "cell_type": "markdown",
   "metadata": {},
   "source": [
    "<img src='./images/07_dijkstras_algorithm/073_implementation/compare_costs.png' width=50%>"
   ]
  },
  {
   "cell_type": "markdown",
   "metadata": {},
   "source": [
    "이제 정점 A로 가는 더 짧은 경로를 발견했으니, 가격 해시 테이블을 갱신한다."
   ]
  },
  {
   "cell_type": "markdown",
   "metadata": {},
   "source": [
    "<img src='./images/07_dijkstras_algorithm/073_implementation/update_cost_a.png' width=50%>"
   ]
  },
  {
   "cell_type": "markdown",
   "metadata": {},
   "source": [
    "새 경로는 B를 통과하기 때문에 B가 새로운 부모 정점이 된다."
   ]
  },
  {
   "cell_type": "markdown",
   "metadata": {},
   "source": [
    "<img src='./images/07_dijkstras_algorithm/073_implementation/update_parent_a.png' width=50%>"
   ]
  },
  {
   "cell_type": "markdown",
   "metadata": {},
   "source": [
    "이제 반복문으로 다시 돌아가 보면, 다음 이웃은 도착점이다."
   ]
  },
  {
   "cell_type": "markdown",
   "metadata": {},
   "source": [
    "<img src='./images/07_dijkstras_algorithm/073_implementation/b_neighbor_fin.png' width=40%>"
   ]
  },
  {
   "cell_type": "markdown",
   "metadata": {},
   "source": [
    "정점 B를 통과해서 도착점으로 가는 시간을 알아보자"
   ]
  },
  {
   "cell_type": "markdown",
   "metadata": {},
   "source": [
    "<img src='./images/07_dijkstras_algorithm/073_implementation/new_cost_b_fin.png' width=50%>"
   ]
  },
  {
   "cell_type": "markdown",
   "metadata": {},
   "source": [
    "7분이 걸린다. 이전에는 무한대였기 때문에 갱신 되어야 한다."
   ]
  },
  {
   "cell_type": "markdown",
   "metadata": {},
   "source": [
    "<img src='./images/07_dijkstras_algorithm/073_implementation/compare_costs_b_fin.png' width=50%>"
   ]
  },
  {
   "cell_type": "markdown",
   "metadata": {},
   "source": [
    "도착점에 대한 새로운 가격과 부모를 설정한다."
   ]
  },
  {
   "cell_type": "markdown",
   "metadata": {},
   "source": [
    "<img src='./images/07_dijkstras_algorithm/073_implementation/cost_and_parent.png' width=50%>"
   ]
  },
  {
   "cell_type": "markdown",
   "metadata": {},
   "source": [
    "이제 정점B의 모든 이웃에 대한 가격을 갱신하였으므로, 정점 B를 처리 완료했다고 기록한다."
   ]
  },
  {
   "cell_type": "markdown",
   "metadata": {},
   "source": [
    "<img src='./images/07_dijkstras_algorithm/073_implementation/node_b_processed.png' width=50%>"
   ]
  },
  {
   "cell_type": "markdown",
   "metadata": {},
   "source": [
    "다음으로 처리할 정점을 찾는다. 아직 처리되지 않은 정점 중 가장 가격이 싼건 A 정점이다."
   ]
  },
  {
   "cell_type": "markdown",
   "metadata": {},
   "source": [
    "<img src='./images/07_dijkstras_algorithm/073_implementation/next_lowest_cost_node.png' width=60%>"
   ]
  },
  {
   "cell_type": "markdown",
   "metadata": {},
   "source": [
    "정점 A의 가격과 이웃을 구한다."
   ]
  },
  {
   "cell_type": "markdown",
   "metadata": {},
   "source": [
    "<img src='./images/07_dijkstras_algorithm/073_implementation/cost_and_neighbors_a.png' width=40%>"
   ]
  },
  {
   "cell_type": "markdown",
   "metadata": {},
   "source": [
    "정점 A에는 이웃이 하나, 도착점 밖에 없다."
   ]
  },
  {
   "cell_type": "markdown",
   "metadata": {},
   "source": [
    "<img src='./images/07_dijkstras_algorithm/073_implementation/for_loop_a.png' width=40%>"
   ]
  },
  {
   "cell_type": "markdown",
   "metadata": {},
   "source": [
    "현재는 도착점까지 7분이 걸린다. 만약 정점 A를 지나면 얼마나 걸리게 될까?"
   ]
  },
  {
   "cell_type": "markdown",
   "metadata": {},
   "source": [
    "<img src='./images/07_dijkstras_algorithm/073_implementation/new_cost_a_fin.png' width=55%>"
   ]
  },
  {
   "cell_type": "markdown",
   "metadata": {},
   "source": [
    "6분이 걸린다."
   ]
  },
  {
   "cell_type": "markdown",
   "metadata": {},
   "source": [
    "<img src='./images/07_dijkstras_algorithm/073_implementation/old_vs_new_cost.png' width=50%>"
   ]
  },
  {
   "cell_type": "markdown",
   "metadata": {},
   "source": [
    "정점 A를 통해 도착점에 가는 것이 더 빠르다. 이제 가격과 부모를 갱신하자"
   ]
  },
  {
   "cell_type": "markdown",
   "metadata": {},
   "source": [
    "<img src='./images/07_dijkstras_algorithm/073_implementation/cost_and_parent_a_fin.png' width=50%>"
   ]
  },
  {
   "cell_type": "markdown",
   "metadata": {},
   "source": [
    "이제 모든 정점을 다 처리하여 알고리즘이 끝난다."
   ]
  },
  {
   "cell_type": "markdown",
   "metadata": {},
   "source": [
    "## 7장에서 배운 내용\n",
    "<hr>"
   ]
  },
  {
   "cell_type": "markdown",
   "metadata": {},
   "source": [
    "> * 너비 우선 탐색은 가중치가 없는 균일 그래프에서 최단 경로를 계산하는데 사용된다.\n",
    "> * 다익스트라 알고리즘은 가중 그래프에서 최단 거리를 계산하는데 사용된다.\n",
    "> * 다익스트라 알고리즘은 모든 가중치가 양수일 때만 정상 작동한다.\n",
    "> * 만약 가중치가 음수이면 벨만-포드 알고리즘을 사용한다."
   ]
  }
 ],
 "metadata": {
  "kernelspec": {
   "display_name": "Python 2",
   "language": "python",
   "name": "python2"
  },
  "language_info": {
   "codemirror_mode": {
    "name": "ipython",
    "version": 2
   },
   "file_extension": ".py",
   "mimetype": "text/x-python",
   "name": "python",
   "nbconvert_exporter": "python",
   "pygments_lexer": "ipython2",
   "version": "2.7.12"
  }
 },
 "nbformat": 4,
 "nbformat_minor": 2
}

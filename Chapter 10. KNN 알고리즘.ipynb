{
 "cells": [
  {
   "cell_type": "markdown",
   "metadata": {},
   "source": [
    "# Chapter 10. KNN 알고리즘"
   ]
  },
  {
   "cell_type": "markdown",
   "metadata": {},
   "source": [
    "## 01. 오렌지와 자몽 분류하기"
   ]
  },
  {
   "cell_type": "markdown",
   "metadata": {},
   "source": [
    "KNN 사용 예"
   ]
  },
  {
   "cell_type": "markdown",
   "metadata": {},
   "source": [
    "<img src='./images/10_k_nearest_neighbors/101_classifying_oranges_vs_grapefruit/recap.png'>"
   ]
  },
  {
   "cell_type": "markdown",
   "metadata": {},
   "source": [
    "## 02. 추천시스템 만들기"
   ]
  },
  {
   "cell_type": "markdown",
   "metadata": {},
   "source": [
    "프리얀카라는 고객을 위해 영화를 추천해야 한다. 우선 그녀와 취향이 가장 비슷한 다섯 명의 고객을 찾는다."
   ]
  },
  {
   "cell_type": "markdown",
   "metadata": {},
   "source": [
    "저스틴, 제이씨, 조이, 랜스, 그리고 크리스라는 고객들이 프리얀카와 비슷한 영화 취향을 갖고 있다. 따라서 이 고객들이 좋아하는 영화는 프리얀카도 좋아할 것이라고 추측할 수 있다."
   ]
  },
  {
   "cell_type": "markdown",
   "metadata": {},
   "source": [
    "<img src='./images/10_k_nearest_neighbors/102_building_a_recommendations_system/justin_likes_a_movie.png', width=80%>"
   ]
  },
  {
   "cell_type": "markdown",
   "metadata": {},
   "source": [
    "하지만 고객 사이의 유사도는 어떻게 구할까?"
   ]
  },
  {
   "cell_type": "markdown",
   "metadata": {},
   "source": [
    "### 특징 추출\n",
    "<hr>"
   ]
  },
  {
   "cell_type": "markdown",
   "metadata": {},
   "source": [
    "세 개의 과일의 특징을 숫자로 추출하면 아래와 같다."
   ]
  },
  {
   "cell_type": "markdown",
   "metadata": {},
   "source": [
    "<img src='./images/10_k_nearest_neighbors/102_building_a_recommendations_system/distances_graphed.png', width=30%>"
   ]
  },
  {
   "cell_type": "markdown",
   "metadata": {},
   "source": [
    "과일 A과 과일 B가 매우 가깝다는 것을 알 수 있다. 네플릭스의 고객을 비교하려면, 과일로 했던 것처럼 고객을 그래프에 나타낼 수 있는 방법을 알아야 한다. 즉, 고객의 좌표를 계산할 수 있는 방법을 찾아야 한다."
   ]
  },
  {
   "cell_type": "markdown",
   "metadata": {},
   "source": [
    "<img src='./images/10_k_nearest_neighbors/102_building_a_recommendations_system/users_and_ratings.png', width=60%>"
   ]
  },
  {
   "cell_type": "markdown",
   "metadata": {},
   "source": [
    "프리얀카와 저스틴의 거리는 다음과 같다."
   ]
  },
  {
   "cell_type": "markdown",
   "metadata": {},
   "source": [
    "<img src='./images/10_k_nearest_neighbors/102_building_a_recommendations_system/priyanka_vs_justin.png', width=60%>"
   ]
  },
  {
   "cell_type": "markdown",
   "metadata": {},
   "source": [
    "이 숫자가 프리얀카와 저스틴 사이의 거리이다."
   ]
  },
  {
   "cell_type": "markdown",
   "metadata": {},
   "source": [
    "반면 모피어스는 24만큼 떨어져 있다. 이제 저스틴이 어떤 영화를 좋아하면 그것을 프리얀카에게 추천하고, 반대로 프리얀카가 어떤 영화를 좋아하면 저스틴에게 추천하면 된다."
   ]
  },
  {
   "cell_type": "markdown",
   "metadata": {},
   "source": [
    "이토록 내가 더 많은 영화를 평가할수록 네플릭스는 더 정확하게 영화 추천을 해 줄 수 있다."
   ]
  },
  {
   "cell_type": "markdown",
   "metadata": {},
   "source": [
    "### 회귀 분석\n",
    "<hr>"
   ]
  },
  {
   "cell_type": "markdown",
   "metadata": {},
   "source": [
    "어떤 영화에 대해 프리얀카가 어떤 점수를 줄지 예측하고 싶다면 어떻게 할까? 유사도가 5명이라면(5NN, five-nearest neighbors) 5명의 데이터를 모아야 된다. 프리얀카와 가까운 5명. 저스틴, 제이씨, 조시, 랜스, 크리스가 각각 아래의 점수를 줬다면 평균인 4.2가 예측 점수가 된다."
   ]
  },
  {
   "cell_type": "markdown",
   "metadata": {},
   "source": [
    "<img src='./images/10_k_nearest_neighbors/102_building_a_recommendations_system/ratings.png', width=30%>"
   ]
  },
  {
   "cell_type": "markdown",
   "metadata": {},
   "source": [
    "** TIP 코사인 유사도 **\n",
    "> 코사인 유사도는 두 벡터의 거리를 측정하는 것이 아니라 두 벡터 사이의 각도를 측정한다. 이런 경우에는 코사인 유사도가 더 적합한 방법이다."
   ]
  },
  {
   "cell_type": "markdown",
   "metadata": {},
   "source": [
    "### 좋은 특징 고르기\n",
    "<hr>"
   ]
  },
  {
   "cell_type": "markdown",
   "metadata": {},
   "source": [
    "- 추천하고자 하는 영화와 직접 관련이 있는 특징\n",
    "- 편향되지 않은(예를 들어, 코미디 영화에 대한 평점만 있다거나 액션 영화에 대한 평점만 있는 경우) 특징"
   ]
  },
  {
   "cell_type": "markdown",
   "metadata": {},
   "source": [
    "## 03. 머신러닝의 소개"
   ]
  },
  {
   "cell_type": "markdown",
   "metadata": {},
   "source": [
    "### OCR\n",
    "<hr>"
   ]
  },
  {
   "cell_type": "markdown",
   "metadata": {},
   "source": [
    "OCR은 광학적 문자 인식(Optical Character Recognition)의 약자이다. 구글은 이를 ㅇ이용해 책을 디지털화하였다. 보통 OCR알고리즘은 직선, 점, 곡선 등을 찾아낸다."
   ]
  },
  {
   "cell_type": "markdown",
   "metadata": {},
   "source": [
    "<img src='./images/10_k_nearest_neighbors/103_introduction_to_machine_learning/points_and_curves.png' width=40%>"
   ]
  },
  {
   "cell_type": "markdown",
   "metadata": {},
   "source": [
    "## 10장에서 배운 내용\n",
    "<hr>"
   ]
  },
  {
   "cell_type": "markdown",
   "metadata": {},
   "source": [
    "* KNN은 k개의 가장 가까운 이웃 데이터를 이용하여 분류와 회귀 분석을 할 수 있다.\n",
    "* 분류 = 그룹으로 나누는 작업\n",
    "* 회귀 = 숫자로 된 반응을 예측\n",
    "* 특징 추출은 (과일이나 고객과 같은) 항목을 비교 가능한 몇 개의 숫자로 만드는 일이다.\n",
    "* 좋은 특징을 고르는 것은 성공적인 KNN알고리즘을 만드는 데 있어 중요한 부분이다."
   ]
  },
  {
   "cell_type": "markdown",
   "metadata": {},
   "source": [
    "## 연습문제"
   ]
  },
  {
   "cell_type": "markdown",
   "metadata": {},
   "source": [
    "### 10-1. 넷플릭스 예제에서 거리 공식을 사용해서 두 고객 사이의 거리를 계산했다. 그런데 모든 고객이 같은 방법으로 영화 평점을 주지는 않는다. 예를 들어, 요기와 핑키라는 두 고객이 있다고 생각해 보자.\n",
    "\n",
    "### 요기는 좋아하는 영화에는 대부분 5점을 주지만, 핑키는 훨씬 더 까다로워서 5점은 인생 최고의 영화를 위해서 아껴둔다. 두 명은 취향이 비슷하지만, 거리 알고리즘으로 유사도를 측정하면 가까이 있지 않다. 이런 경우에는 어떻게 해야 할까?"
   ]
  },
  {
   "cell_type": "markdown",
   "metadata": {},
   "source": [
    "> 정규화(normalization)을 사용한다. 먼저 평균값을 구한 다음 이 값으로 전체 평점을 나눈다. 이를 스케일링(Scaling)이라 한다. 예를 들어 핑키의 평균 평점은 3이고, 요기의 평균 평점은 3.5일수 있다. 따라서 핑키의 평균 평점이 3.5가 될 때까지 전체 평점을 높이면 같은 스케일에서 평점들을 비교할 수 있다."
   ]
  },
  {
   "cell_type": "markdown",
   "metadata": {},
   "source": [
    "### 10-2. 넷플릭스가 중요 고객을 따로 관리하여 가중치를 다르게 준다고 생각해 보자. 가령 쿠엔틴 타란티노와 웨스 앤더슨은 넷플릭스에서 영향력을 행사하고 있고, 시청 빈도수 또한 높다. 이러한 중요한 고객의 평점은 다른 일반 고객의 평점보다 더 중요하다고 할 수 있다. 추천 시스템에서 이러한 중요 고객의 취향을 다른 고객의 취향보다 더 중요하게 하려면 어떻게 해야 할까?"
   ]
  },
  {
   "cell_type": "markdown",
   "metadata": {},
   "source": [
    "> KNN으로 예를 들자면 중요 고객의 평점에 가중치를 더 많이 줄 수 있다. 가령 조셉, 데이브, 그리고 쿠엔틴 타란티노(중요 고객)이 메트릭스라는 영화에 각각 3점, 4점, 5점을 주었다면 이때 평점을 (3 + 4 + 5) / 3 = 4 로 단순 평균하기 보다는 쿠엔틴 타란티노의 점수에 세 배의 가중치를 주어 (3 + 4 + 5 + 5 + 5) / 5 = 4.4 로 평균을 구할 수도 있다."
   ]
  },
  {
   "cell_type": "markdown",
   "metadata": {},
   "source": [
    "### 10-3. 넷플릭스 고객은 수백만 명에 달한다. 예제에서는 5명의 가까운 고객만 골랐는데, 이 숫자는 너무 작은 숫자일까 아니면 너무 큰 숫자일까?"
   ]
  },
  {
   "cell_type": "markdown",
   "metadata": {},
   "source": [
    "> 너무 작다. 이웃이 적으면 적을수록 결과가 왜곡될 수 있다. 보통 N명의 고객이 있을 때, sqrt(N)명의 이웃을 설정한다."
   ]
  },
  {
   "cell_type": "code",
   "execution_count": null,
   "metadata": {},
   "outputs": [],
   "source": []
  },
  {
   "cell_type": "code",
   "execution_count": null,
   "metadata": {},
   "outputs": [],
   "source": []
  }
 ],
 "metadata": {
  "kernelspec": {
   "display_name": "Python 2",
   "language": "python",
   "name": "python2"
  },
  "language_info": {
   "codemirror_mode": {
    "name": "ipython",
    "version": 2
   },
   "file_extension": ".py",
   "mimetype": "text/x-python",
   "name": "python",
   "nbconvert_exporter": "python",
   "pygments_lexer": "ipython2",
   "version": "2.7.12"
  }
 },
 "nbformat": 4,
 "nbformat_minor": 2
}

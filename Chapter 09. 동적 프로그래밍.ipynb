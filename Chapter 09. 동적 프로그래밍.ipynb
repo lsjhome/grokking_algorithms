{
 "cells": [
  {
   "cell_type": "markdown",
   "metadata": {},
   "source": [
    "# Chapter 09. 동적 프로그래밍"
   ]
  },
  {
   "cell_type": "markdown",
   "metadata": {},
   "source": [
    "## 01. 배낭 채우기 문제"
   ]
  },
  {
   "cell_type": "markdown",
   "metadata": {},
   "source": [
    "스스로를 4파운드의 짐을 넣을 수 있는 배낭을 가진 도둑이라고 가정하자. 훔칠 수 있는 물건이 3가지가 있다."
   ]
  },
  {
   "cell_type": "markdown",
   "metadata": {},
   "source": [
    "<img src='./images/09_dynamic_programming/091_the_knapsack_problem/items_and_prices.png' width=70%>"
   ]
  },
  {
   "cell_type": "markdown",
   "metadata": {},
   "source": [
    "훔칠 물건의 가치를 최대치로 올리려먼 어떻게 해야 할까?"
   ]
  },
  {
   "cell_type": "markdown",
   "metadata": {},
   "source": [
    "### 단순한 방법\n",
    "<hr>"
   ]
  },
  {
   "cell_type": "markdown",
   "metadata": {},
   "source": [
    "가장 단순한 방법은 모든 물건의 조합을 시도해서 각 경우의 총 가치를 모두 구해본 다음 가장 가치가 높은 경우를 선택하는 것이다."
   ]
  },
  {
   "cell_type": "markdown",
   "metadata": {},
   "source": [
    "<img src='./images/09_dynamic_programming/091_the_knapsack_problem/list.png' width=70%>"
   ]
  },
  {
   "cell_type": "markdown",
   "metadata": {},
   "source": [
    "이 방법은 가능하긴 하지만 너무 느리다. 물건을 추가할 때마다 경우의 수가 두배가 된다. 이 알고리즘의 실행 시간은 O(2$^{n}$)이 되는데 이건 너무 느리다."
   ]
  },
  {
   "cell_type": "markdown",
   "metadata": {},
   "source": [
    "<img src='./images/09_dynamic_programming/091_the_knapsack_problem/increase.png' width=60%>"
   ]
  },
  {
   "cell_type": "markdown",
   "metadata": {},
   "source": [
    "8장에서 근사해를 어떻게 구하는지에 대해 알아보았지만, 이는 최적해 자체는 아닐 수도 있다. 그렇다면 최적해는 어떻게 계산할 수 있을까?"
   ]
  },
  {
   "cell_type": "markdown",
   "metadata": {},
   "source": [
    "### 동적 프로그래밍\n",
    "<hr>"
   ]
  },
  {
   "cell_type": "markdown",
   "metadata": {},
   "source": [
    "동적 프로그래밍(dynamic programming)은 하위의 작은 문제들을 풀고, 이를 이용해서 더 큰 문제를 풀어나가는 방법이다."
   ]
  },
  {
   "cell_type": "markdown",
   "metadata": {},
   "source": [
    "배낭 채우기 문제에서는 더 작은 배낭, 즉 하위 배낭(sub-knapsack)에 대한 문제를 풀고 이를 이용해서 원래의 문제를 풀어나간다."
   ]
  },
  {
   "cell_type": "markdown",
   "metadata": {},
   "source": [
    "<img src='./images/09_dynamic_programming/091_the_knapsack_problem/subproblems.png' width=40%>"
   ]
  },
  {
   "cell_type": "markdown",
   "metadata": {},
   "source": [
    "모든 동적 프로그래밍 알고리즘은 격자(grid)로부터 시작한다. 다음은 배낭 채우기 문제에 대한 격자이다."
   ]
  },
  {
   "cell_type": "markdown",
   "metadata": {},
   "source": [
    "<img src='./images/09_dynamic_programming/091_the_knapsack_problem/empty_grid.png' width=60%>"
   ]
  },
  {
   "cell_type": "markdown",
   "metadata": {},
   "source": [
    "격자의 각 행은 물건을 나타내고, 각 열은 1파운드부터 4파운드까지 물건을 담을 수 있는 다른 크기의 배낭을 뜻한다."
   ]
  },
  {
   "cell_type": "markdown",
   "metadata": {},
   "source": [
    "### 기타를 표시하는 행"
   ]
  },
  {
   "cell_type": "markdown",
   "metadata": {},
   "source": [
    "<img src='./images/09_dynamic_programming/091_the_knapsack_problem/first_row.png' width=40%>"
   ]
  },
  {
   "cell_type": "markdown",
   "metadata": {},
   "source": [
    "이 행은 기타를 표시하는 행이다. 즉, 이 행에서는 기타만 배낭에 넣을 수 있다. 결정할 것은 기타를 넣을지 넣지 않을지를 선택하는 것 뿐이다. "
   ]
  },
  {
   "cell_type": "markdown",
   "metadata": {},
   "source": [
    "첫 번째 칸은 1파운드까지 들어갈 수 있는 배낭을 뜻한다. 기타도 1파운드이므로 배낭에 들어갈 수 있다. 결과적으로 이 칸에는 기타를 넣을 수 있으며 전체 갗는 1,500달러가 된다."
   ]
  },
  {
   "cell_type": "markdown",
   "metadata": {},
   "source": [
    "<img src='./images/09_dynamic_programming/091_the_knapsack_problem/cell_1_1.png' width=50%>"
   ]
  },
  {
   "cell_type": "markdown",
   "metadata": {},
   "source": [
    "다음 칸에는 2파운드까지 담을 수 있는 배낭이 있다. 그러니까 당연히 기타가 들어갈 수 있다. "
   ]
  },
  {
   "cell_type": "markdown",
   "metadata": {},
   "source": [
    "<img src='./images/09_dynamic_programming/091_the_knapsack_problem/cell_1_2.png' width=50%>"
   ]
  },
  {
   "cell_type": "markdown",
   "metadata": {},
   "source": [
    "나머지 칸에 대해서도 똑같이 진행한다. 첫 번째 행에서는 고를 수 있는 물건이 기타밖에 없다. 아직은 훔칠 수 있는 물건이 기타밖에 없는 것처럼 행동해야 한다."
   ]
  },
  {
   "cell_type": "markdown",
   "metadata": {},
   "source": [
    "<img src='./images/09_dynamic_programming/091_the_knapsack_problem/cell_1_4.png' width=50%>"
   ]
  },
  {
   "cell_type": "markdown",
   "metadata": {},
   "source": [
    "도둑은 배낭 안에 있는 물건의 총 가치를 최대화하려고 하고 있다. 이 행은 현재 시점에서 가치를 최대화하기 위한 최선의 선택을 나타낸다. 이 행의 결과를 보면, 4파운드 배낭에서 가질 수 있는 최대값은 1,500달러이다."
   ]
  },
  {
   "cell_type": "markdown",
   "metadata": {},
   "source": [
    "<img src='./images/09_dynamic_programming/091_the_knapsack_problem/cell_1_4_max_value.png' width=70%>"
   ]
  },
  {
   "cell_type": "markdown",
   "metadata": {},
   "source": [
    "### 스테레오를 표시하는 행\n",
    "<hr>"
   ]
  },
  {
   "cell_type": "markdown",
   "metadata": {},
   "source": [
    "이번 행은 스테레오를 나타나는 행이다. 두 번째 행에서는 스테레오나 기타 중에서 선택해서 훔칠 수 있다. 아직 노트북은 훔칠 수 없고 스테레오와 기타 중에서 선택해야 한다."
   ]
  },
  {
   "cell_type": "markdown",
   "metadata": {},
   "source": [
    "<img src='./images/09_dynamic_programming/091_the_knapsack_problem/cell_1_1_max_value.png' width=50%>"
   ]
  },
  {
   "cell_type": "markdown",
   "metadata": {},
   "source": [
    "배낭이 1파운드 짜리라서 스테레오를 넣을 수 없으니 배낭의 최대 가치는 여전히 1,500달러이다."
   ]
  },
  {
   "cell_type": "markdown",
   "metadata": {},
   "source": [
    "<img src='./images/09_dynamic_programming/091_the_knapsack_problem/cell_2_1.png' width=50%>"
   ]
  },
  {
   "cell_type": "markdown",
   "metadata": {},
   "source": [
    "다음 두번째(2파운드), 세번째 칸(3파운드) 또한 스테레오(4파운드)가 들어가지 않기 때문에 답은 그대로이다."
   ]
  },
  {
   "cell_type": "markdown",
   "metadata": {},
   "source": [
    "<img src='./images/09_dynamic_programming/091_the_knapsack_problem/cell_2_3.png' width=50%>"
   ]
  },
  {
   "cell_type": "markdown",
   "metadata": {},
   "source": [
    "4파운드까지 들어가는 배낭의 경우 스테레오가 들어간다. 지금까지의 최대 가치는 1,500달러였지만 기타 대신 스테레오를 넣으면 최대 가치가 3,000달러가 된다."
   ]
  },
  {
   "cell_type": "markdown",
   "metadata": {},
   "source": [
    "<img src='./images/09_dynamic_programming/091_the_knapsack_problem/cell_2_4.png' width=50%>"
   ]
  },
  {
   "cell_type": "markdown",
   "metadata": {},
   "source": [
    "### 노트북을 표시하는 행\n",
    "<hr>"
   ]
  },
  {
   "cell_type": "markdown",
   "metadata": {},
   "source": [
    "이제 노트북을 표시하는 행에도 같은 일을 해 보자. 노트북은 3파운드니까 1, 2 파운드짜리 배낭에는 들어가지 않는다. 처음 두 칸의 값은 그대로 1,500달러이다."
   ]
  },
  {
   "cell_type": "markdown",
   "metadata": {},
   "source": [
    "<img src='./images/09_dynamic_programming/091_the_knapsack_problem/cell_3_2.png' width=50%>"
   ]
  },
  {
   "cell_type": "markdown",
   "metadata": {},
   "source": [
    "3파운드 배낭에서 기타 대신 노트북을 고르면 2,000달러 가치가 되므로 새로운 최대 가치는 2,000 달러이다."
   ]
  },
  {
   "cell_type": "markdown",
   "metadata": {},
   "source": [
    "<img src='./images/09_dynamic_programming/091_the_knapsack_problem/cell_3_3.png' width=50%>"
   ]
  },
  {
   "cell_type": "markdown",
   "metadata": {},
   "source": [
    "마지막 칸에 노트북을 넣을 경우 노트북은 3파운드 밖에 나가지 않기 때문에 1파운드의 공간이 남아 있다. 여기에 1파운드의 무언가를 넣을 수 있다."
   ]
  },
  {
   "cell_type": "markdown",
   "metadata": {},
   "source": [
    "<img src='./images/09_dynamic_programming/091_the_knapsack_problem/3k_vs_2k_1lb.png' width=60%>"
   ]
  },
  {
   "cell_type": "markdown",
   "metadata": {},
   "source": [
    "여기서 1파운드짜리 공간에 넣을 수 있는 최대 가치를 생각해 보자. 지금까지의 답을 보면, 1파운드의 공간에는 기타를 넣고 최대 가치가 1,500달러가 되도록 하는 것이 최선이다."
   ]
  },
  {
   "cell_type": "markdown",
   "metadata": {},
   "source": [
    "<img src='./images/09_dynamic_programming/091_the_knapsack_problem/last_best_estimate_1lb.png' width=50%>"
   ]
  },
  {
   "cell_type": "markdown",
   "metadata": {},
   "source": [
    "따라서 실제 비교는 다음과 같이 한다."
   ]
  },
  {
   "cell_type": "markdown",
   "metadata": {},
   "source": [
    "<img src='./images/09_dynamic_programming/091_the_knapsack_problem/3k_vs_35k.png' width=50%>"
   ]
  },
  {
   "cell_type": "markdown",
   "metadata": {},
   "source": [
    "이렇듯 배낭에 공간이 남게 되었을 때, 그 하위 문제에 대한 답을 사용하여 빈 공간의 가치가 최대가 되는 값을 찾아낼 수 있다. 이 경우에는 노트북과 기타를 합쳐서 3,500달러가 되는 쪽을 선택하면 좋다."
   ]
  },
  {
   "cell_type": "markdown",
   "metadata": {},
   "source": [
    "최종적으로 격자는 아래와 같이 된다."
   ]
  },
  {
   "cell_type": "markdown",
   "metadata": {},
   "source": [
    "<img src='./images/09_dynamic_programming/091_the_knapsack_problem/cell_3_4.png' width=60%>"
   ]
  },
  {
   "cell_type": "markdown",
   "metadata": {},
   "source": [
    "각 칸의 공식은 다음과 같다."
   ]
  },
  {
   "cell_type": "markdown",
   "metadata": {},
   "source": [
    "<img src='./images/09_dynamic_programming/091_the_knapsack_problem/formula.png'>"
   ]
  },
  {
   "cell_type": "markdown",
   "metadata": {},
   "source": [
    "## 02. 배낭 채우기 문제에서 자주 하는 질문\n",
    "<hr>"
   ]
  },
  {
   "cell_type": "markdown",
   "metadata": {},
   "source": [
    "### 만약 물건이 추가되었다면 어떻게 해야 할까?\n",
    "<hr>"
   ]
  },
  {
   "cell_type": "markdown",
   "metadata": {},
   "source": [
    "<img src='./images/09_dynamic_programming/092_knapsack_problem_faq/iphone.png' width=20%>"
   ]
  },
  {
   "cell_type": "markdown",
   "metadata": {},
   "source": [
    "<img src='./images/09_dynamic_programming/092_knapsack_problem_faq/cell_4_1.png' width=60%>"
   ]
  },
  {
   "cell_type": "markdown",
   "metadata": {},
   "source": [
    "두번째, 세번째 칸에는 아이폰과 기타를 넣는 것이 최대이다. "
   ]
  },
  {
   "cell_type": "markdown",
   "metadata": {},
   "source": [
    "<img src='./images/09_dynamic_programming/092_knapsack_problem_faq/iphone_and_guitar.png' width=40%>"
   ]
  },
  {
   "cell_type": "markdown",
   "metadata": {},
   "source": [
    "마지막 칸의 경우는 다음과 같다."
   ]
  },
  {
   "cell_type": "markdown",
   "metadata": {},
   "source": [
    "<img src='./images/09_dynamic_programming/092_knapsack_problem_faq/35k_vs_2k_3lb.png' width=70%>"
   ]
  },
  {
   "cell_type": "markdown",
   "metadata": {},
   "source": [
    "3파운드의 공간은 2,000달러의 최대 가치를 가진다. 이전에 풀었던 하위 문제에 의하면 3파운드의 공간이 2,000달러이고, 아이폰도 2,000달러이므로 총 가치는 4,000달러이다. 새로운 최대 가치가 나왔다."
   ]
  },
  {
   "cell_type": "markdown",
   "metadata": {},
   "source": [
    "<img src='./images/09_dynamic_programming/092_knapsack_problem_faq/final_grid_with_iphone.png' width=40%>"
   ]
  },
  {
   "cell_type": "markdown",
   "metadata": {},
   "source": [
    "매번 현재의 가치를 저장해 놓고 비교해 보기 때문에, 답이 이전의 값보다 나빠지는 경우는 없다. 즉 열의 최대값이 작아지는 경우는 있을 수 없다."
   ]
  },
  {
   "cell_type": "markdown",
   "metadata": {},
   "source": [
    "### 만약 행의 순서가 바뀌면 어떻게 할까?\n",
    "<hr>"
   ]
  },
  {
   "cell_type": "markdown",
   "metadata": {},
   "source": [
    "<img src='./images/09_dynamic_programming/092_knapsack_problem_faq/reordered_rows.png' width=60%>"
   ]
  },
  {
   "cell_type": "markdown",
   "metadata": {},
   "source": [
    "행의 순서에는 영향을 미치지 않는다."
   ]
  },
  {
   "cell_type": "markdown",
   "metadata": {},
   "source": [
    "### 격자를 행 방향이 아니라 열 방향으로 채우면 어떨까?\n",
    "<hr>\n",
    "별 상관없다."
   ]
  },
  {
   "cell_type": "markdown",
   "metadata": {},
   "source": [
    "### 만약 더 작은 물건을 추가하면 어떻게 될까?\n",
    "<hr>"
   ]
  },
  {
   "cell_type": "markdown",
   "metadata": {},
   "source": [
    "배낭의 종류를 세분화해야 한다."
   ]
  },
  {
   "cell_type": "markdown",
   "metadata": {},
   "source": [
    "<img src='./images/09_dynamic_programming/092_knapsack_problem_faq/half_lb_increments.png' width=60%>"
   ]
  },
  {
   "cell_type": "markdown",
   "metadata": {},
   "source": [
    "### 물건의 일부만 훔칠 수도 있을까?\n",
    "<hr>"
   ]
  },
  {
   "cell_type": "markdown",
   "metadata": {},
   "source": [
    "식료품 가계를 침입한 도둑이라 가정하자. 가게에는 콩 주머니와 쌀 주머니가 있따. 만약 주머니가 배낭에 다 들어가지 않는다면 주머니에서 콩이나 쌀을 필요한 만큼 꺼내서 담을 수 있다. 즉 전체를 훔치는 것이 아니라 일부만 훔칠 수도 있다. 이런 상황을 동적 프로그래밍으로 어떻게 다룰까?"
   ]
  },
  {
   "cell_type": "markdown",
   "metadata": {},
   "source": [
    "** 답: ** 불가능하다. 동적 프로그래밍으로 풀 수 있는 것은 물건 하나를 통으로 훔치든가, 아예 훔치지 않는가이다. 물건을 반으로 나눈다거나 하는 경우는 풀 수 없다.\n",
    "\n",
    "하지만 이 경우 탐욕 알고리즘으로 쉽게 풀 수 있다. 우선 가장 많이 나가는 것을 담을 수 있는 만큼 담고, 배낭에 공간이 남는다면 그 다음으로 값진 물건을 담는 것을 반복한다."
   ]
  },
  {
   "cell_type": "markdown",
   "metadata": {},
   "source": [
    "<img src='./images/09_dynamic_programming/092_knapsack_problem_faq/grains.png' width=40%>"
   ]
  },
  {
   "cell_type": "markdown",
   "metadata": {},
   "source": [
    "퀴노아의 파운드당 가격이 가장 비싸므로 퀴노아를 담을 수 있는 만큼 많이 담는다. 하지만 퀴노아로만 배낭을 다 채울 수 없다면 남은 공간을 그 다음으로 비싼 곡물인 달콩으로 채운다."
   ]
  },
  {
   "cell_type": "markdown",
   "metadata": {},
   "source": [
    "### 여행 일정 최적화 문제\n",
    "<hr>"
   ]
  },
  {
   "cell_type": "markdown",
   "metadata": {},
   "source": [
    "런던에서 이틀 동안 머물면서 하고 싶은 것을 가능한 한 많이 해보고 싶다."
   ]
  },
  {
   "cell_type": "markdown",
   "metadata": {},
   "source": [
    "<img src='./images/09_dynamic_programming/092_knapsack_problem_faq/london_list.png' width=50%>"
   ]
  },
  {
   "cell_type": "markdown",
   "metadata": {},
   "source": [
    "이는 배낭 채우기 문제와 같다. 배낭이라는 공간 대신 시간이 한정되어 있고, 스테레오나 노트북 대신 가고 싶은 곳이 있는 것이다. 먼저 동적 프로그래밍을 위한 격자를 그린다."
   ]
  },
  {
   "cell_type": "markdown",
   "metadata": {},
   "source": [
    "격자는 다음과 같다."
   ]
  },
  {
   "cell_type": "markdown",
   "metadata": {},
   "source": [
    "<img src='./images/09_dynamic_programming/092_knapsack_problem_faq/london_grid.png' width=50%>"
   ]
  },
  {
   "cell_type": "markdown",
   "metadata": {},
   "source": [
    "이를 채우면 다음과 같다."
   ]
  },
  {
   "cell_type": "markdown",
   "metadata": {},
   "source": [
    "<img src='./images/09_dynamic_programming/092_knapsack_problem_faq/london_grid_done.png' width=50%>"
   ]
  },
  {
   "cell_type": "markdown",
   "metadata": {},
   "source": [
    "### 서로 의존적인 물건을 다루는 방법\n",
    "<hr>"
   ]
  },
  {
   "cell_type": "markdown",
   "metadata": {},
   "source": [
    "런던에서 파리까지 반나절이 걸린다고 하자. 그렇게 되면 표는 다음과 같다."
   ]
  },
  {
   "cell_type": "markdown",
   "metadata": {},
   "source": [
    "<img src='./images/09_dynamic_programming/092_knapsack_problem_faq/paris_list.png' width=50%>"
   ]
  },
  {
   "cell_type": "markdown",
   "metadata": {},
   "source": [
    "총 1.5 x 3 = 4.5일이 걸릴 것 같지만 그렇지 않다. 왜냐하면 일단 파리로 가면 가는데 반나절(0.5) + 3장소(3 X 1)가 되어서 총 3.5일이 걸릴 것이기 때문이다. 만약 배낭에 에펠탑을 넣으면 루브르 박물관은 1.5일이 아니라 1일로 더 줄어든다. 이런 경우는 동적 프로그래밍으로 어떻게 풀 수 있을까?"
   ]
  },
  {
   "cell_type": "markdown",
   "metadata": {},
   "source": [
    "<u>풀 수 없다.</u> 동적 프로그래밍은 문제를 더 작은 하위 문제로 풀고, 이 하위 문제를 푼 결과를 이용해서 더 큰 문제를 푸는 방법이다. 그래서 강력하다. 하지만 **동적 프로그래밍은 각 하위 문서들이 서로 관계가 없을 때, 서로 의존하지 않는 경우에만 쓸 수 있다.**"
   ]
  },
  {
   "cell_type": "markdown",
   "metadata": {},
   "source": [
    "### 하위 배낭이 두 개인 경우도 있을까?\n",
    "<hr>"
   ]
  },
  {
   "cell_type": "markdown",
   "metadata": {},
   "source": [
    "기본적으로 도둑은 최대 두 개의 배낭을 합칠 수 있다. 하지만 그 배낭 중 하나가 두개의 더 작은 배낭으로 이루어져 있을 수도 있다."
   ]
  },
  {
   "cell_type": "markdown",
   "metadata": {},
   "source": [
    "<img src='./images/09_dynamic_programming/092_knapsack_problem_faq/sub_knapsacks.png' width=50%>"
   ]
  },
  {
   "cell_type": "markdown",
   "metadata": {},
   "source": [
    "### 배낭을 완전히 채우지 못하는 경우?\n",
    "<hr>"
   ]
  },
  {
   "cell_type": "markdown",
   "metadata": {},
   "source": [
    "<img src='./images/09_dynamic_programming/092_knapsack_problem_faq/diamond.png' width=20%>"
   ]
  },
  {
   "cell_type": "markdown",
   "metadata": {},
   "source": [
    "3.5 파운드가 나가는 비싼 다이아몬드가 있다. 이를 훔칠 경우 0.5파운드가 남게 되지만, 여기에 맞는 다른 물건이 없으면 배당을 완전히 채울 수 없다."
   ]
  },
  {
   "cell_type": "markdown",
   "metadata": {},
   "source": [
    "## 03. 최장 공통 부분 문자열"
   ]
  },
  {
   "cell_type": "markdown",
   "metadata": {},
   "source": [
    "* 동적 프로그래밍은 어떤 제한 조건이 주어졌을 때 무언가를 최적화하는 경우에 유용하다. 배낭 채우기 문제에서는 배낭의 크기가 제한 조건이었고, 이때 훔칠 물건의 총 가치를 최대화하는 것이 목표였다.\n",
    "\n",
    "\n",
    "* 동적 프로그래밍은 하위 문제가 서로 의존하지 않는 경우에만 사용할 수 있다."
   ]
  },
  {
   "cell_type": "markdown",
   "metadata": {},
   "source": [
    "* 모든 동적 프로그래밍의 답안에는 격자가 있다.\n",
    "* 격자의 각 칸에는 최적화하고자 하는 값을 적는다. 배낭 문제의 경우에는 모든 물건의 총 가치였다.\n",
    "* 각 칸은 원래 문제에 대한 하위 문제이고, 다른 문제를 하위 문제로 가질 수 있다. 즉 원래의 문자를 어떻게 하위 문제로 나눌 수 있을지 생각해야 한다. 그러면 각각의 축이 어떻게 되어야 하는지 알아내는데 도움이 된다."
   ]
  },
  {
   "cell_type": "markdown",
   "metadata": {},
   "source": [
    "알렉스는 \"fish\"라는 단어를 찾아보고 싶었는데 실수로 \"hish\"라고 입력했다. 이 단어는 사전에는 없고 대신 비슷한 단어들이 있는데, 이는 다음과 같다."
   ]
  },
  {
   "cell_type": "markdown",
   "metadata": {},
   "source": [
    "<img src='./images/09_dynamic_programming/093_longest_common_substring/similar_to_hish.png' width=40%>"
   ]
  },
  {
   "cell_type": "markdown",
   "metadata": {},
   "source": [
    "알렉스가 입력한 hish라는 단어는 fish를 뜻하는 것일까 아니면 vista를 뜻하는 것일까?"
   ]
  },
  {
   "cell_type": "markdown",
   "metadata": {},
   "source": [
    "### 격자 만들기\n",
    "<hr>"
   ]
  },
  {
   "cell_type": "markdown",
   "metadata": {},
   "source": [
    "* 각 칸에 넣을 숫자는 무엇일까?\n",
    "* 이 문제를 어떻게 하위 문제로 나눌 수 있을까?\n",
    "* 격자의 축은 무엇일까?"
   ]
  },
  {
   "cell_type": "markdown",
   "metadata": {},
   "source": [
    "**동적 프로그래밍에서는 무언가를 최대화하는 것이 목표이다.** 이 경우에는 두 단어에서 공통적으로 가지는 가장 긴 문자열, 즉 **최장 공통 부분 문자열(LCS, Longest Common Substring)**을 찾는 것이다."
   ]
  },
  {
   "cell_type": "markdown",
   "metadata": {},
   "source": [
    "최대화하고자 하는 값을 칸에 써야 한다. 이 경우에는 두 문자열이 공통으로 가지는 가장 긴 부분 문자열의 길이를 나타내는 숫자를 써야 한다."
   ]
  },
  {
   "cell_type": "markdown",
   "metadata": {},
   "source": [
    "이 문제를 어떻게 하위 문제로 나눌 수 있을까? 부분 문자열을 비교하는 문제를 풀면 된다. hish와 fish라는 단어를 직접 비교하는 대신에 his와 fis라는 단어를 먼저 비교하는 것이다. 각 칸에는 이 두 단어의 최장 공통 부분 문자열의 길이를 쓴다. 그러면 가갂의 축이 그 두 단어를 의미한다는 것도 알 수 있다."
   ]
  },
  {
   "cell_type": "markdown",
   "metadata": {},
   "source": [
    "<img src='./images/09_dynamic_programming/093_longest_common_substring/empty_grid.png' width=30%>"
   ]
  },
  {
   "cell_type": "markdown",
   "metadata": {},
   "source": [
    "### 격자 채우기<hr>"
   ]
  },
  {
   "cell_type": "markdown",
   "metadata": {},
   "source": [
    "알고리즘이라는 것은 그대로 따라 하기만 하면 되는 요리법 같은 것이 아니다. 알고리즘은 단지 아이디어를 쌓아 올릴 수 있는 토대에 지나지 않는다."
   ]
  },
  {
   "cell_type": "markdown",
   "metadata": {},
   "source": [
    "### 해답\n",
    "<hr>"
   ]
  },
  {
   "cell_type": "markdown",
   "metadata": {},
   "source": [
    "<img src='./images/09_dynamic_programming/093_longest_common_substring/final_grid_hish_fish.png' width=30%>"
   ]
  },
  {
   "cell_type": "markdown",
   "metadata": {},
   "source": [
    "각 칸들을 채우기 위한 공식은 다음과 같다."
   ]
  },
  {
   "cell_type": "markdown",
   "metadata": {},
   "source": [
    "<img src='./images/09_dynamic_programming/093_longest_common_substring/substring_formula.png' width=40%>"
   ]
  },
  {
   "cell_type": "markdown",
   "metadata": {},
   "source": [
    "의사코드로 나타내면 다음과 같다."
   ]
  },
  {
   "cell_type": "markdown",
   "metadata": {},
   "source": [
    "```\n",
    "if word_a[i] == word_b[j]: 글자가 같다.\n",
    "    cell[i][j] = cell[i-1][j-1] + 1\n",
    "else: 글자가 다르다\n",
    "    cell[i][j] = 0\n",
    "```"
   ]
  },
  {
   "cell_type": "markdown",
   "metadata": {},
   "source": [
    "hish와 vist의 경우는 다음과 같다."
   ]
  },
  {
   "cell_type": "markdown",
   "metadata": {},
   "source": [
    "<img src='./images/09_dynamic_programming/093_longest_common_substring/final_grid_hish_vista.png' width=40%>"
   ]
  },
  {
   "cell_type": "markdown",
   "metadata": {},
   "source": [
    "배낭 채우기 문제에서는 마지막 칸이 최종 답이었지만, 최장 공통 부분 문자열 문제에서의 답은 격자 전체에서 가장 큰 숫자가 답이다."
   ]
  },
  {
   "cell_type": "markdown",
   "metadata": {},
   "source": [
    "결과적으로 hish와 fish는 세 글자가 공통이고, hish와 vista는 두 글자가 공통이다. 그러니까 결과적으로 알렉스는 fish를 입력하고자 했던 것이 된다."
   ]
  },
  {
   "cell_type": "markdown",
   "metadata": {},
   "source": [
    "### 최장 공통 부분열\n",
    "<hr>"
   ]
  },
  {
   "cell_type": "markdown",
   "metadata": {},
   "source": [
    "알렉스가 실수로 fish를 fosh라고 입력했다고 하자. 원래 어떤 단어를 입력하려고 했던 것일까? Fish일까 아니면 Fort일까?"
   ]
  },
  {
   "cell_type": "markdown",
   "metadata": {},
   "source": [
    "<img src='./images/09_dynamic_programming/093_longest_common_substring/fosh_substring_grids.png' width=60%>"
   ]
  },
  {
   "cell_type": "markdown",
   "metadata": {},
   "source": [
    "답은 두 글자로 같지만 fish가 더 가까운 단어이다."
   ]
  },
  {
   "cell_type": "markdown",
   "metadata": {},
   "source": [
    "<img src='./images/09_dynamic_programming/093_longest_common_substring/letter_comparison.png' width=30%>"
   ]
  },
  {
   "cell_type": "markdown",
   "metadata": {},
   "source": [
    "여기서는 최장 공통 부분 문자열(Longest Common Substring)이 아니라 최장 공통 부분열(Longest Common Subsequence)을 최대화 하는 것이 옳다. 즉 두 단어에서 단어의 순서가 바뀌지 않고 공통으로 들어간 글자의 개수를 최대화하는 것이다. 이를 어떻게 계산할까? 여기서는 최장 공통 부분 문자열과 비슷하지만 다른 공식을 적용해야 한다."
   ]
  },
  {
   "cell_type": "markdown",
   "metadata": {},
   "source": [
    "### 최장 공통 부분열 문제의 해답"
   ]
  },
  {
   "cell_type": "markdown",
   "metadata": {},
   "source": [
    "<img src='./images/09_dynamic_programming/093_longest_common_substring/full_grids_subsequence.png' width=60%>"
   ]
  },
  {
   "cell_type": "markdown",
   "metadata": {},
   "source": [
    "<img src='./images/09_dynamic_programming/093_longest_common_substring/subsequence_formula.png' width=40%>"
   ]
  },
  {
   "cell_type": "markdown",
   "metadata": {},
   "source": [
    "의사코드는 다음과 같다."
   ]
  },
  {
   "cell_type": "markdown",
   "metadata": {},
   "source": [
    "```\n",
    "if word_a[i] == word_b[j]: 글자가 같다.\n",
    "    cell[i][j] = cell[i-1][j-1] + 1\n",
    "else: 글자가 다르다\n",
    "    cell[i][j] = max(cell[i=1][j], cell[i][j-1])\n",
    "```"
   ]
  },
  {
   "cell_type": "markdown",
   "metadata": {},
   "source": [
    "동적 프로그래밍이 현실에서 사용되는 예"
   ]
  },
  {
   "cell_type": "markdown",
   "metadata": {},
   "source": [
    "* 생물학자는 DNA가닥의 유사점을 찾기 위해 최장 공통 부분열 방법을 사용한다. 그러면 두 종류의 동물이나 질병이 얼마나 비슷한지 알 수 있다. 최장 공통 부분열 방법은 다발성 경화증이라는 병의 치료법을 찾는데도 쓰인다.\n",
    "\n",
    "* get diff와 같은 diff 명령에서 사용된다. diff 명령은 두 파일의 차이점을 찾아준다. 그렇게 하기 위해 동적 프로그래밍을 사용한다.\n",
    "\n",
    "* 문자열의 유사성을 따질 때 사용된다. 레벤슈타인 거리(Levenshtein distance)는 두 문자열의 유사성을 측정한다. 레벤슈타인 거리는 철자법 확인이나 누군가가 지적 재산권이 있는 데이터를 인터넷에 업로드했느닞 확인하는데도 쓰인다.\n",
    "\n",
    "* 마이크로소프트 워드와 같은 프로그램에서 줄 맞추기 기능을 사용할때 사용된다. 줄의 길이를 일관성 있게 맞추는데 동적 프로그래밍이 사용된다."
   ]
  },
  {
   "cell_type": "markdown",
   "metadata": {},
   "source": [
    "## 9장에서 배운 내용\n",
    "<hr>"
   ]
  },
  {
   "cell_type": "markdown",
   "metadata": {},
   "source": [
    "* 동적 프로그래밍은 제한 조건이 있는 경우에 무언가를 최적화할때 유용하다.\n",
    "* 동적 프로그래밍은 큰 문제를 작은 하위 문제로 나누어 푸는 방법이다.\n",
    "* 동적 프로그래밍을 풀 때는 격자를 사용한다.\n",
    "* 보통 격자의 각 칸에는 최적화하려는 값을 쓴다.\n",
    "* 격자의 각 칸은 하위 문제를 뜻한다. 그러므로 원래의 문제를 어떻게 하위 문제로 나눌 수 있는지 생각해야 한다.\n",
    "* 동적 프로그래밍의 해답을 계산해 주는 쉬운 공식 같은 것은 없다."
   ]
  },
  {
   "cell_type": "markdown",
   "metadata": {},
   "source": [
    "## 연습문제"
   ]
  },
  {
   "cell_type": "markdown",
   "metadata": {},
   "source": [
    "### 9-1. 앞서 살펴본 도둑의 배낭 채우기 문제에서 만약 다음과 같은 물건이 추가되었더라면 어떻게 될까? 1파운드 무게가 나가고, 1000달러 가치가 있는 MP3 플레이어가 추가가 되었다. 훔쳐야 할까?"
   ]
  },
  {
   "cell_type": "markdown",
   "metadata": {},
   "source": [
    "> 훔쳐야 한다. 그러면 MP3플레이어, 아이폰, 기타를 합쳐서 총 4,500달러의 가치가 된다."
   ]
  },
  {
   "cell_type": "markdown",
   "metadata": {},
   "source": [
    "### 9-2. 캠핑을 간다. 배낭에는 6파운드까지 들어갈 수 있고 다음과 같은 물건 중에서 선택할 수 있다. 각각에는 역시 가치가 매겨져 있고 가치가 높을수록 중요한 물건이다. 캠핑할때 가져가야 할 최적의 물건은?"
   ]
  },
  {
   "cell_type": "markdown",
   "metadata": {},
   "source": [
    "> 물, 음식, 카메라"
   ]
  },
  {
   "cell_type": "markdown",
   "metadata": {},
   "source": [
    "### 9-3. blue와 clues라는 두 단어의 최장 공통 부분 문자열을 계산하기 위한 격자를 그리고 모든 칸을 채우시오"
   ]
  },
  {
   "cell_type": "markdown",
   "metadata": {},
   "source": [
    "<img src='./images/09_dynamic_programming/093_longest_common_substring/blues_clues.png' width=40%>"
   ]
  }
 ],
 "metadata": {
  "kernelspec": {
   "display_name": "Python 2",
   "language": "python",
   "name": "python2"
  },
  "language_info": {
   "codemirror_mode": {
    "name": "ipython",
    "version": 2
   },
   "file_extension": ".py",
   "mimetype": "text/x-python",
   "name": "python",
   "nbconvert_exporter": "python",
   "pygments_lexer": "ipython2",
   "version": "2.7.12"
  }
 },
 "nbformat": 4,
 "nbformat_minor": 2
}

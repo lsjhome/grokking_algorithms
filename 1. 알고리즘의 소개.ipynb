{
 "cells": [
  {
   "cell_type": "markdown",
   "metadata": {},
   "source": [
    "# 1. 알고리즘의 소개"
   ]
  },
  {
   "cell_type": "markdown",
   "metadata": {},
   "source": [
    "## 1. 들어가는 글"
   ]
  },
  {
   "cell_type": "markdown",
   "metadata": {},
   "source": [
    "## 2. 이진 탐색"
   ]
  },
  {
   "cell_type": "markdown",
   "metadata": {},
   "source": [
    "log$_{10}{100}$ 은 10을 몇번 곱해야 100이 될까 라는 묻는 것이다.  "
   ]
  },
  {
   "cell_type": "code",
   "execution_count": 1,
   "metadata": {
    "collapsed": true
   },
   "outputs": [],
   "source": [
    "import math"
   ]
  },
  {
   "cell_type": "code",
   "execution_count": 6,
   "metadata": {
    "collapsed": false
   },
   "outputs": [
    {
     "data": {
      "text/plain": [
       "17.872674880270605"
      ]
     },
     "execution_count": 6,
     "metadata": {},
     "output_type": "execute_result"
    }
   ],
   "source": [
    "math.log2(240000)"
   ]
  },
  {
   "cell_type": "code",
   "execution_count": 26,
   "metadata": {
    "collapsed": true
   },
   "outputs": [],
   "source": [
    "def binary_search(list, item):\n",
    "    low = 0\n",
    "    high = len(list) - 1\n",
    "    \n",
    "    while low <= high:\n",
    "        mid = (low + high) // 2\n",
    "        guess = list[mid]\n",
    "        \n",
    "        if guess == item:\n",
    "            return mid\n",
    "        \n",
    "        if guess > item:\n",
    "            high = mid - 1\n",
    "            \n",
    "        else:\n",
    "            low = mid + 1\n",
    "            \n",
    "    return None\n",
    "    "
   ]
  },
  {
   "cell_type": "code",
   "execution_count": 27,
   "metadata": {
    "collapsed": true
   },
   "outputs": [],
   "source": [
    "my_list = [1, 3, 5, 7, 9]    "
   ]
  },
  {
   "cell_type": "code",
   "execution_count": 28,
   "metadata": {
    "collapsed": false
   },
   "outputs": [
    {
     "name": "stdout",
     "output_type": "stream",
     "text": [
      "1\n"
     ]
    }
   ],
   "source": [
    "print (binary_search(my_list, 3))"
   ]
  },
  {
   "cell_type": "markdown",
   "metadata": {},
   "source": [
    "## 실행 시간"
   ]
  },
  {
   "cell_type": "markdown",
   "metadata": {},
   "source": [
    "리스트에 100개의 원소가 있는 경우 100번 추측해야 한다. 만약 원소가 40억개가 있다면 40억번 추측해야 한다. 이런 것을 선형 시간(linear time)이라고 한다. 이진 탐색의 경우 로그 시간(logarithmic time)이라 한다."
   ]
  },
  {
   "cell_type": "markdown",
   "metadata": {},
   "source": [
    "## 3. 빅오 표기법"
   ]
  },
  {
   "cell_type": "markdown",
   "metadata": {},
   "source": [
    "빅오 표기법은 알고리즘이 얼마나 빠른지를 말해준다. 빅오 표기법은 속도를 시간 단위가 아니라 연산 횟수를 비교하기 위한 것이다. 이진 탐색은 크기가 n인 리스트를 확인하기 위해 log n번의 연산이 필요하다. 이를 O(log n)이라 표기한다. \n",
    "\n",
    "일반적으로 O(n)  \"Big O\"(연산횟수) 로 표기한다.<br>\n",
    "빅오는 최악의 실행 시간을 나타낸다."
   ]
  },
  {
   "cell_type": "markdown",
   "metadata": {},
   "source": [
    "### 많이 사용하는 빅오 실행 시간의 예"
   ]
  },
  {
   "cell_type": "markdown",
   "metadata": {},
   "source": [
    "- **O(log n), 로그 시간** : 예) 이진 탐색\n",
    "- **O(n), 선형 시간** : 예) 단순 탐색\n",
    "- **O(n * log n)** : 예) 퀵 정렬과 같이 빠른 정렬 알고리즘\n",
    "- **O(n$^{2}$)** : 예) 선택 정렬과 같이 느린 정렬 알고리즘\n",
    "- **O(n!)** : 예) 외판원 문제(traveling salesperson problem)와 같이 정말 느린 알고리즘"
   ]
  },
  {
   "cell_type": "markdown",
   "metadata": {},
   "source": [
    "### 외판원 문제"
   ]
  },
  {
   "cell_type": "markdown",
   "metadata": {},
   "source": [
    "다섯 개의 도시 있는 경우, 이 문제를 푸는 한 가지 방법은 도시를 방문하는 모든 경로를 살펴보는 것이다.\n",
    "\n",
    "5개 -> 120개\n",
    "\n",
    "6개 -> 720개\n",
    "\n",
    "7개 -> 5040개"
   ]
  },
  {
   "cell_type": "markdown",
   "metadata": {},
   "source": [
    "# 연습 문제"
   ]
  },
  {
   "cell_type": "markdown",
   "metadata": {},
   "source": [
    "### 1-1 128개의 이름이 정렬되어 있는 리스트가 있다. 이진 탐색으로 이름을 찾을 때 필요한 최대의 추측 횟수는 얼마인가?"
   ]
  },
  {
   "cell_type": "code",
   "execution_count": 32,
   "metadata": {
    "collapsed": false
   },
   "outputs": [
    {
     "data": {
      "text/plain": [
       "7.0"
      ]
     },
     "execution_count": 32,
     "metadata": {},
     "output_type": "execute_result"
    }
   ],
   "source": [
    "math.log2(128)"
   ]
  },
  {
   "cell_type": "markdown",
   "metadata": {},
   "source": [
    "### 빅오 표기법으로 표시하기"
   ]
  },
  {
   "cell_type": "markdown",
   "metadata": {},
   "source": [
    "### 1-2 만약 리스트의 크기가 두 배가 된다면 최대 추측 횟수는 어떻게 될까?"
   ]
  },
  {
   "cell_type": "code",
   "execution_count": 33,
   "metadata": {
    "collapsed": false
   },
   "outputs": [
    {
     "data": {
      "text/plain": [
       "8.0"
      ]
     },
     "execution_count": 33,
     "metadata": {},
     "output_type": "execute_result"
    }
   ],
   "source": [
    "math.log2(256)"
   ]
  },
  {
   "cell_type": "markdown",
   "metadata": {},
   "source": [
    "### 1-3 어떤 사람의 이름을 알고 있다.  전화번호부에서 이 사람의 전화번호를 찾고 싶다."
   ]
  },
  {
   "cell_type": "markdown",
   "metadata": {},
   "source": [
    "O(log n)"
   ]
  },
  {
   "cell_type": "markdown",
   "metadata": {},
   "source": [
    "### 1-4 전화번호가 있다. 전화번호부에서 이 전화번호를 가진 사람의 이름을 찾고 싶다."
   ]
  },
  {
   "cell_type": "markdown",
   "metadata": {},
   "source": [
    "O(n)"
   ]
  },
  {
   "cell_type": "markdown",
   "metadata": {},
   "source": [
    "### 1-5 전화번호부에 있는 모든 사람의 전화번호를 알고 싶다."
   ]
  },
  {
   "cell_type": "markdown",
   "metadata": {},
   "source": [
    "O(n)"
   ]
  },
  {
   "cell_type": "markdown",
   "metadata": {},
   "source": [
    "### 1-6 알파벳 A로 시작하는 사람들의 전화번호를 알고 싶다."
   ]
  },
  {
   "cell_type": "markdown",
   "metadata": {},
   "source": [
    "O(n)"
   ]
  },
  {
   "cell_type": "code",
   "execution_count": null,
   "metadata": {
    "collapsed": true
   },
   "outputs": [],
   "source": []
  },
  {
   "cell_type": "code",
   "execution_count": null,
   "metadata": {
    "collapsed": true
   },
   "outputs": [],
   "source": []
  }
 ],
 "metadata": {
  "anaconda-cloud": {},
  "kernelspec": {
   "display_name": "Python [py35]",
   "language": "python",
   "name": "Python [py35]"
  },
  "language_info": {
   "codemirror_mode": {
    "name": "ipython",
    "version": 3
   },
   "file_extension": ".py",
   "mimetype": "text/x-python",
   "name": "python",
   "nbconvert_exporter": "python",
   "pygments_lexer": "ipython3",
   "version": "3.5.2"
  }
 },
 "nbformat": 4,
 "nbformat_minor": 0
}

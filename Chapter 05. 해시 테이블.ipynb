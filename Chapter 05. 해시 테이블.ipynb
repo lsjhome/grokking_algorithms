{
 "cells": [
  {
   "cell_type": "markdown",
   "metadata": {},
   "source": [
    "# Chapter 05. 해시 테이블"
   ]
  },
  {
   "cell_type": "markdown",
   "metadata": {},
   "source": [
    "## 01. 해시 함수의 소개"
   ]
  },
  {
   "cell_type": "markdown",
   "metadata": {},
   "source": [
    "배열을 이름순으로 정렬한다면 이진 탐색을 돌려서 물건의 가격을 찾아낼 수도 있다. 하지만 모든 것을 다 외우고 있는 매기 같은 사람이 필요하다. 이것이 해시 함수이다."
   ]
  },
  {
   "cell_type": "markdown",
   "metadata": {},
   "source": [
    "<img src=\"./images/05_hash_tables/051_hash_functions/speed_comparison_with_hash_table.png\" width=70% height=70%>"
   ]
  },
  {
   "cell_type": "markdown",
   "metadata": {},
   "source": [
    "## 02. 해시 함수"
   ]
  },
  {
   "cell_type": "markdown",
   "metadata": {},
   "source": [
    "해시 함수는 문자열(String)을 받아서 숫자를 반환하는 함수이다."
   ]
  },
  {
   "cell_type": "markdown",
   "metadata": {},
   "source": [
    "<img src=\"./images/05_hash_tables/051_hash_functions/hash_functions.png\" width=50%>"
   ]
  },
  {
   "cell_type": "markdown",
   "metadata": {},
   "source": [
    "해시 함수는 문자열에 대해 숫자를 할당(mapping)한다. "
   ]
  },
  {
   "cell_type": "markdown",
   "metadata": {},
   "source": [
    "* 해시 함수에는 일관성이 있어야 한다. 예를 들어, 만약 \"apple\"을 넣었을 때, \"4\"를 반환한다면 \"apple\"을 넣을 때마다 반환되는 값이 4이어야 한다. 그렇지 않으면 해시 함수로서의 역할을 할 수 없다.\n",
    "\n",
    "* 다른 단어가 들어간다면 다른 숫자가 나와야 한다. 가장 좋은 경우는 서로 다른 단어에 대해 모두 서로 다른 숫자가 나와야 한다."
   ]
  },
  {
   "cell_type": "markdown",
   "metadata": {},
   "source": [
    "가령 avocado 가격을 물어본다면 이를 해시 함수에 넣기만 하면 된다."
   ]
  },
  {
   "cell_type": "markdown",
   "metadata": {},
   "source": [
    "<img src=\"./images/05_hash_tables/051_hash_functions/avocado_hash_function.png\" width=50%>"
   ]
  },
  {
   "cell_type": "markdown",
   "metadata": {},
   "source": [
    "실제로 인덱스 4 위치에 저장되어 있다는 것을 알 수 있다."
   ]
  },
  {
   "cell_type": "markdown",
   "metadata": {},
   "source": [
    "<img src='./images/05_hash_tables/051_hash_functions/avocado_in_array.png' width=50%>"
   ]
  },
  {
   "cell_type": "markdown",
   "metadata": {},
   "source": [
    "* 해시 함수는 배열이 얼마나 큰지 알고 있어야 하며, 유효한 인덱스만 반환해야 한다. 만약 배열이 5개의 원소만 가질 수 있다면 100을 반환해서는 안 된다. 이 배열에서는 유효한 인덱스가 아니기 때문이다."
   ]
  },
  {
   "cell_type": "markdown",
   "metadata": {},
   "source": [
    "**해시 함수와 배열을 합치면 해시 테이블(hash table) 이라고 하는 자료구조를 얻을 수 있다.**<br>\n",
    "**자료구조 그 자체 외에도 해시 함수라는 추가적인 논리주조를 지닌다. **"
   ]
  },
  {
   "cell_type": "markdown",
   "metadata": {},
   "source": [
    "**배열과 리스트는 직접 메모리를 할당하지만, 해시 테이블은 해시 함수를 사용해서 더 총명하게 어디에 원소를 저장할지 결정한다.**"
   ]
  },
  {
   "cell_type": "markdown",
   "metadata": {},
   "source": [
    "해시 테이블은 딕셔너리(dictionary)를 통해 만든다."
   ]
  },
  {
   "cell_type": "code",
   "execution_count": 5,
   "metadata": {},
   "outputs": [],
   "source": [
    "book = dict()"
   ]
  },
  {
   "cell_type": "code",
   "execution_count": 10,
   "metadata": {},
   "outputs": [
    {
     "name": "stdout",
     "output_type": "stream",
     "text": [
      "{'avocado': 1.49, 'apple': 0.67, 'milk': 1.49}\n"
     ]
    }
   ],
   "source": [
    "book[\"apple\"] = 0.67\n",
    "book[\"milk\"] = 1.49\n",
    "book['avocado'] = 1.49\n",
    "print (book)"
   ]
  },
  {
   "cell_type": "markdown",
   "metadata": {},
   "source": [
    "**avocado의 가격**"
   ]
  },
  {
   "cell_type": "code",
   "execution_count": 11,
   "metadata": {},
   "outputs": [
    {
     "name": "stdout",
     "output_type": "stream",
     "text": [
      "1.49\n"
     ]
    }
   ],
   "source": [
    "print (book['avocado'])"
   ]
  },
  {
   "cell_type": "markdown",
   "metadata": {},
   "source": [
    "## 03. 해시 테이블을 사용하는 예"
   ]
  },
  {
   "cell_type": "markdown",
   "metadata": {},
   "source": [
    "해시 테이블을 사용하는 몇 가지 예를 살펴보자."
   ]
  },
  {
   "cell_type": "markdown",
   "metadata": {},
   "source": [
    "### 헤시 테이블로 조회하기\n",
    "<hr>"
   ]
  },
  {
   "cell_type": "markdown",
   "metadata": {},
   "source": [
    "전화번호부 프로그램\n",
    "\n",
    "* 사람의 이름과 그 사람에 관련된 전화번호를 추가한다.\n",
    "* 사람 이름을 입력하면 그 이름과 관련된 전화번호를 알려준다."
   ]
  },
  {
   "cell_type": "markdown",
   "metadata": {},
   "source": [
    "해시 테이블은 다음과 같을때 주로 사용한다.\n",
    "* 어떤 것을 다른 것과 연관시키고자 할 때\n",
    "* 무언가를 찾아보고자 할 때"
   ]
  },
  {
   "cell_type": "code",
   "execution_count": 12,
   "metadata": {},
   "outputs": [],
   "source": [
    "phone_book = {}"
   ]
  },
  {
   "cell_type": "code",
   "execution_count": 13,
   "metadata": {},
   "outputs": [],
   "source": [
    "phone_book['jenny'] = 8675309\n",
    "phone_book['emergency'] = 911"
   ]
  },
  {
   "cell_type": "code",
   "execution_count": 14,
   "metadata": {},
   "outputs": [
    {
     "name": "stdout",
     "output_type": "stream",
     "text": [
      "8675309\n"
     ]
    }
   ],
   "source": [
    "print (phone_book['jenny'])"
   ]
  },
  {
   "cell_type": "markdown",
   "metadata": {},
   "source": [
    "해시 테이블은 더 큰 규모의 조회에서도 사용된다. 가령 컴퓨터는 주소를 IP 주소로 번역시켜 준다. 웹 주소에 대해 IP 주소를 할당하는 작업인 것이다. 이런 과정을 DNS 확인 작업이라고 한다."
   ]
  },
  {
   "cell_type": "markdown",
   "metadata": {},
   "source": [
    "### 중복된 항목을 방지하기\n",
    "<hr>"
   ]
  },
  {
   "cell_type": "markdown",
   "metadata": {},
   "source": [
    "투표소를 관리하고 있다고 생각하자.\n",
    "\n",
    "먼저 이미 투표한 사람을 추적하기 위한 해시 테이블을 만든다."
   ]
  },
  {
   "cell_type": "code",
   "execution_count": 15,
   "metadata": {},
   "outputs": [],
   "source": [
    "voted = {}"
   ]
  },
  {
   "cell_type": "markdown",
   "metadata": {},
   "source": [
    "누군가 새로 투표를 하러 오면 해시 테이블 안에 이름이 있는지 확인한다."
   ]
  },
  {
   "cell_type": "code",
   "execution_count": 16,
   "metadata": {},
   "outputs": [],
   "source": [
    "value = voted.get(\"tom\")"
   ]
  },
  {
   "cell_type": "markdown",
   "metadata": {},
   "source": [
    "```\n",
    "get 함수는 해시 테이블 안에 \"tom\"이라는 키가 있으면 그 키에 해당하는 값을 반환한다. 만약 키가 없다면 None을 반환한다. \n",
    "이 방법으로 그 사람이 이미 투표했는지 확인할 수 있다.\n",
    "```"
   ]
  },
  {
   "cell_type": "markdown",
   "metadata": {},
   "source": [
    "<img src='./images/05_hash_tables/052_use_cases/vote_flowchart.png' width=40%>"
   ]
  },
  {
   "cell_type": "code",
   "execution_count": 18,
   "metadata": {},
   "outputs": [],
   "source": [
    "voted = {}\n",
    "\n",
    "def check_voter(name):\n",
    "    if voted.get(name):\n",
    "        print (\"돌려 보내세요!\")\n",
    "    else:\n",
    "        voted[name] = True\n",
    "        print (\"투표하게 하세요.\")"
   ]
  },
  {
   "cell_type": "code",
   "execution_count": 19,
   "metadata": {},
   "outputs": [
    {
     "name": "stdout",
     "output_type": "stream",
     "text": [
      "투표하게 하세요.\n"
     ]
    }
   ],
   "source": [
    "check_voter(\"tom\")"
   ]
  },
  {
   "cell_type": "code",
   "execution_count": 20,
   "metadata": {},
   "outputs": [
    {
     "name": "stdout",
     "output_type": "stream",
     "text": [
      "투표하게 하세요.\n"
     ]
    }
   ],
   "source": [
    "check_voter(\"mike\")"
   ]
  },
  {
   "cell_type": "code",
   "execution_count": 21,
   "metadata": {},
   "outputs": [
    {
     "name": "stdout",
     "output_type": "stream",
     "text": [
      "돌려 보내세요!\n"
     ]
    }
   ],
   "source": [
    "check_voter(\"mike\")"
   ]
  },
  {
   "cell_type": "markdown",
   "metadata": {},
   "source": [
    "### 해시 테이블을 캐시로 사용하기\n",
    "<hr>"
   ]
  },
  {
   "cell_type": "markdown",
   "metadata": {},
   "source": [
    "웹 사이트를 개발한다면 캐싱(caching)이 적합하다. 만약 페이스북에 로그인한다면 우리가 보는 모든 내용은 우리에게 맞추어져 있다. 하지만 페이스북에 로그인 하지 않았다면 로그인 페이지밖에 보이질 않을 것이다. 모든 사람이 똑같은 로그인 페이지를 보고 페이스북은 똑같은 내용을 반복하도록 요청 받을 수 있다. 여기서 서버는 홈페이지에 어떤 정보를 제공할지 고민할 필요 없이 홈페이지의 내용을 그냥 외워서 보여준다. 이것이 캐싱이다."
   ]
  },
  {
   "cell_type": "markdown",
   "metadata": {},
   "source": [
    "<img src='./images/05_hash_tables/052_use_cases/caching.png' width=80%>"
   ]
  },
  {
   "cell_type": "markdown",
   "metadata": {},
   "source": [
    "이는 두 가지 장점을 가지고 있다.\n",
    "\n",
    "* 웹 페이지를 더 빨리 보여줄 수 있다. 이는 달까지의 거리를 외우고 있으면 바로 조카에게 답을 해 줄수 있는 원리와 같다.\n",
    "* 페이스북이 일을 덜 할 수 있다."
   ]
  },
  {
   "cell_type": "markdown",
   "metadata": {},
   "source": [
    "캐싱은 작업속도를 올리는 일반적인 방법이기에, 모든 대형 웹 사이트는 캐싱을 이용한다. 그리고 그 자료는 바로 해시 테이블에 저장된다. \n",
    "\n",
    "페이스북은 홈페이지만 캐싱하는 것이 아니라, 회사 소개, 회사 연락처, 사용 약관 등 많은 것을 캐싱한다. 그래서 페이지 url에 해당 페이지의 자료를 할당한다."
   ]
  },
  {
   "cell_type": "markdown",
   "metadata": {},
   "source": [
    "<img src='./images/05_hash_tables/052_use_cases/facebook_mapping.png' width=70%>"
   ]
  },
  {
   "cell_type": "markdown",
   "metadata": {},
   "source": [
    "페이스북을 방문할 때마다 서버는 먼저 해시 테이블에 저장된 페이지가 있는지 확인한다."
   ]
  },
  {
   "cell_type": "markdown",
   "metadata": {},
   "source": [
    "<img src='./images/05_hash_tables/052_use_cases/facebook_workflow.png' width=60%>"
   ]
  },
  {
   "cell_type": "markdown",
   "metadata": {},
   "source": [
    "코드는 아래와 같다."
   ]
  },
  {
   "cell_type": "code",
   "execution_count": 21,
   "metadata": {},
   "outputs": [],
   "source": [
    "cache = {}\n",
    "\n",
    "def get_page(url):\n",
    "    if cache.get(url):\n",
    "        return cache[url] # 캐싱된 자료를 전성\n",
    "    \n",
    "    else:\n",
    "        data = get_data_from_server(url)\n",
    "        cache[url] = data # 캐시에 처음으로 자료를 저장\n",
    "        return data"
   ]
  },
  {
   "cell_type": "markdown",
   "metadata": {},
   "source": [
    "캐시에 URL이 없을 때에만 서버가 작업을 한다. 또 자료를 반환하기 전에는 캐시에 저장한다. 다음 번에 누군가가 이 URL을 요청하면 서버에 작업을 시키는 대신에 캐싱한 자료를 꺼내서 보여줄 수 있다."
   ]
  },
  {
   "cell_type": "markdown",
   "metadata": {},
   "source": [
    "### 해시 테이블의 장점\n",
    "<hr>"
   ]
  },
  {
   "cell_type": "markdown",
   "metadata": {},
   "source": [
    "* 어떤 것과 다른 것 사이의 관계를 모형화 할 수 있다.\n",
    "* 중복을 막을 수 있다.\n",
    "* 서버에게 작업을 시키지 않고 자료를 캐싱할 수 있다."
   ]
  },
  {
   "cell_type": "markdown",
   "metadata": {},
   "source": [
    "## 04. 충돌"
   ]
  },
  {
   "cell_type": "markdown",
   "metadata": {},
   "source": [
    "두 개의 키가 같은 공간에 할당되게 되는 것을 충돌(collision)이라고 한다. 충돌을 해결하는 방법은 여러가지가 있지만, 가장 간단한 방법은 같은 공간에 여러 개의 키를 연결 리스트로 만들어 넣는 것이다. 하지만 전체 해시 테이블이 한 공간만 빼고 모두 비게 된다면, 이는 모든 항목을 그냥 연결 리스트에 넣은 것이나 다름없다.\n",
    "\n",
    "결국 해시 테이블이 느려진다."
   ]
  },
  {
   "cell_type": "markdown",
   "metadata": {},
   "source": [
    "<img src='./images/05_hash_tables/053_collisions/mostly_empty_hash.png'>"
   ]
  },
  {
   "cell_type": "markdown",
   "metadata": {},
   "source": [
    "* 해시 함수는 정말 중요하다. 방금 전의 해시 함수는 모든 키를 하나의 공간에 할당했다. 이상적으로는 해시 함수는 키를 해시 테이블 전체에 고르게 할당해야 한다.\n",
    "\n",
    "* 만약 연결 리스트가 길어지면 해시 테이블의 속도도 느려진다. 하지만 좋은 해시 함수가 있다면 그런 일은 발생하지 않는다."
   ]
  },
  {
   "cell_type": "markdown",
   "metadata": {},
   "source": [
    "## 05. 성능"
   ]
  },
  {
   "cell_type": "markdown",
   "metadata": {},
   "source": [
    "해시 테이블에서 무엇을 찾을 때에는 일정한 (상수)시간이 걸린다."
   ]
  },
  {
   "cell_type": "markdown",
   "metadata": {},
   "source": [
    "<img src='./images/05_hash_tables/054_performance/constant_time.png' width=30%>"
   ]
  },
  {
   "cell_type": "markdown",
   "metadata": {},
   "source": [
    "해시 테이블이 하나의 항목을 가지든 10억개의 항목을 가지든 해시 테이블에서 무언가를 찾는 데 걸리는 시간은 항상 똑같다. \n",
    "\n",
    "배열에서도 원소를 꺼내는데는 상수 시간이 걸린다. 배열이 아무리 크든 작든 원소 하나를 꺼내는데 걸리는 시간은 동일하다. 평균적인 경우에 해시 테이블은 매우 빠르다.\n",
    "\n",
    "하지만 최악의 경우에 해시 테이블은 모든 항목에 대해 O(n)시간, 즉 선형 시간이 걸린다."
   ]
  },
  {
   "cell_type": "markdown",
   "metadata": {},
   "source": [
    "<img src='./images/05_hash_tables/054_performance/performance_comparison.png' width=60%>"
   ]
  },
  {
   "cell_type": "markdown",
   "metadata": {},
   "source": [
    "해시 테이블에서는 최악의 상황이 발생하지 않도록 하는 것이 중요하다. 그리고 그렇게 하려면 충돌을 피해야 한다. 충돌을 피하려면 다음과 같은 것이 필요하다.\n",
    "\n",
    "* 낮은 사용률\n",
    "* 좋은 해시 함수"
   ]
  },
  {
   "cell_type": "markdown",
   "metadata": {},
   "source": [
    "### 사용률\n",
    "<hr>"
   ]
  },
  {
   "cell_type": "markdown",
   "metadata": {},
   "source": [
    "해시 테이블의 사용률(load factor)를 계산하는 것은 쉽다."
   ]
  },
  {
   "cell_type": "markdown",
   "metadata": {},
   "source": [
    "<img src='./images/05_hash_tables/054_performance/load_factor.png' width=25%>"
   ]
  },
  {
   "cell_type": "markdown",
   "metadata": {},
   "source": [
    "해시 테이블은 저장을 하기 위해 배열을 사용한다. 배열에서 이미 값을 차지하고 있는 공간의 수를 세어보자. 예를 들어 다음 해시 테이블의 사용률은 2/5, 즉 0.4이다."
   ]
  },
  {
   "cell_type": "markdown",
   "metadata": {},
   "source": [
    "<img src='./images/05_hash_tables/054_performance/load_factor_example.png' width=30%>"
   ]
  },
  {
   "cell_type": "markdown",
   "metadata": {},
   "source": [
    "만약 100개의 물건 가격을 헤시 테이블에 저장해야 한다면 해시 테이블에는 100개의 공간이 있어야 한다. 이상적으로는 모든 항목이 자기 공간을 따로 가진다. 이 경우 해시 테이블의 사용률(load factor)는 1이다. 만약 해시 테이블에 공간이 50개 밖에 없다면 사용률은 2가 된다.\n",
    "\n",
    "사용률이 1보다 크다는 것은 배열에 공간의 수보다 항목의 수가 더 많다는 뜻이다. 사용률이 커지기 시작하면 해시 테이블의 공간을 추가해야 하는데, 이를 리사이징(resizing) 이라고 한다.\n",
    "\n",
    "사용률이 낮을 수록 충돌이 적게 일어나고 해시 테이블의 성능도 좋아진다. 보통 사용률이 0.7보다 커지면 리사이징한다.\n",
    "\n",
    "리사이징은 비싼 작업이기에 자주 하는 것은 좋지 않다. 하지만 해시 테이블은 리사이징을 해도 평균 O(1)시간이 걸린다."
   ]
  },
  {
   "cell_type": "markdown",
   "metadata": {},
   "source": [
    "### 좋은 해시 함수란\n",
    "<hr>"
   ]
  },
  {
   "cell_type": "markdown",
   "metadata": {},
   "source": [
    "좋은 해시 함수란 배열에 갑승 고루 분포시키는 함수이다."
   ]
  },
  {
   "cell_type": "markdown",
   "metadata": {},
   "source": [
    "<img src='./images/05_hash_tables/054_performance/good_hash_function.png' width=40%>"
   ]
  },
  {
   "cell_type": "markdown",
   "metadata": {},
   "source": [
    "나쁜 해시 함수는 값들이 뭉쳐져 있어서 충돌이 자주 발생한다."
   ]
  },
  {
   "cell_type": "markdown",
   "metadata": {},
   "source": [
    "<img src='./images/05_hash_tables/054_performance/bad_hash_function.png' width=40%>"
   ]
  },
  {
   "cell_type": "markdown",
   "metadata": {},
   "source": [
    "좋은 해시 함수에 대해서는 많은 사람들이 이미 고민중에 있다."
   ]
  },
  {
   "cell_type": "markdown",
   "metadata": {},
   "source": [
    "## 5장에서 배운 내용\n",
    "<hr>"
   ]
  },
  {
   "cell_type": "markdown",
   "metadata": {},
   "source": [
    "> 해시 테이블을 구현할 일은 거의 없다. 이미 구현이 대부분 되어 있기 때문이다. 평균적인 경우에 해시 테이블의 성능은 상수 시간이다. \n",
    "\n",
    "> 해시 테이블은 속도가 빠르고 자료를 여러 가지로 모형화 할 수 있기 때문에 아주 강력한 자료구조이다. \n",
    "\n",
    "> * 해시 테이블은 해시 함수와 배열을 결합시켜 만든다.\n",
    "\n",
    "> * 충돌은 나쁘다. 충돌을 줄이는 해시 함수가 필요하다.\n",
    "\n",
    "> * 해시 테이블은 정말 빠른 탐색, 삽입, 삭제 속도를 가진다.\n",
    "\n",
    "> * 해시 테이블은 어떤 항목과 다른 항목의 관계를 모형화하는데 좋다.\n",
    "\n",
    "> * 사용률이 0.7보다 커지면 해시 테이블을 리사이징 해야 할 때이다.\n",
    "\n",
    "> * 해시 테이블은 (웹 서버 등에서) 데이터를 캐싱하는 데도 사용된다.\n",
    "\n",
    "> * 해시 테이블은 중복을 잡아내는 데도 뛰어나다."
   ]
  },
  {
   "cell_type": "markdown",
   "metadata": {},
   "source": [
    "## 연습문제"
   ]
  },
  {
   "cell_type": "markdown",
   "metadata": {},
   "source": [
    "### 해시 함수에 있어 중요한 점은 같은 입력에 대해 같은 출력을 일관성 있게 돌려준다는 점이다. \n",
    "### 만약 그렇지 않다면 해시 테이블에 넣은 항목을 나중에 찾을 수 없을 것이다. 다음 해시 함수 중 어느 것이 더 일관성 있는 것일까?"
   ]
  },
  {
   "cell_type": "markdown",
   "metadata": {},
   "source": [
    "### 5-1. f(x) = 1\n",
    "> 모든 입력에 대해 1을 반환한다. 일관성 있다."
   ]
  },
  {
   "cell_type": "markdown",
   "metadata": {},
   "source": [
    "### 5-2. f(x) = rand()\n",
    "> 항상 무작위의 값을 반환한다. 일관성 없다."
   ]
  },
  {
   "cell_type": "markdown",
   "metadata": {},
   "source": [
    "### 5-3. f(x) = next_empty_slot()\n",
    "> 해시 테이블의 다음 빈 칸의 인덱스를 반환한다. 일관성 없다."
   ]
  },
  {
   "cell_type": "markdown",
   "metadata": {},
   "source": [
    "### 5-4. f(x) = len(x)\n",
    "> 문자열의 길이를 인덱스로 사용한다. 일관성 있다."
   ]
  },
  {
   "cell_type": "markdown",
   "metadata": {},
   "source": [
    "### 해시 함수는 좋은 분포를 가지는 것이 중요하다. 그래서 가능한 한 항목들을 넓게 할당해야 한다. \n",
    "### 가장 나쁜 경우는 해시 함수가 모든 항목을 해시 테이블의 같은 공간에 할당한 경우이다.\n",
    "### 다음과 같은 4개의 해시 함수를 가지고 있다 해 보자."
   ]
  },
  {
   "cell_type": "markdown",
   "metadata": {},
   "source": [
    "### A. 모든 입력에 대해 \"1\"을 반환한다.\n",
    "### B. 문자열의 길이를 인덱스로 사용한다.\n",
    "### C. 문자열의 첫 글자를 인덱스로 사용한다. 그래서 a로 시작하는 모든 문자열은 같은 값을 가진다.\n",
    "### D. 우선 모든 글자에 소수(prime number)를 할당한다. 예를 들어 a=2, b=3, c=5, d=7, e=11 이런 식으로. 그리고 문자열이 주어지면 해시 함수는 모든 글자의 합을 해시 테이블의 크기로 나누어 나머지를 반환한다. 예를 들어 해시 테이블의 크기가 10이고 문자열이 \"bag\"이면 인덱스는(3 +2 +17) % 10 = 22 % 10 = 2가 된다."
   ]
  },
  {
   "cell_type": "markdown",
   "metadata": {},
   "source": [
    "### 다음 각각의 예에 대해 어떤 해시 함수가 좋은 분포를 가질까? 해시 테이블의 크기는 10이라고 가정한다."
   ]
  },
  {
   "cell_type": "markdown",
   "metadata": {},
   "source": [
    "### 5-5. 이름을 키로 가지고 전화번호를 값으로 가지는 전화번호부. 이름은 Esther, Ben, Bob, Dan\n",
    "> 해시 함수 C와 D가 좋은 분포를 가진다."
   ]
  },
  {
   "cell_type": "markdown",
   "metadata": {},
   "source": [
    "### 5-6. 건전지 사이즈에 건전지 파워를 할당하는 경우. 크기는 A, AA, AAA, AAAA\n",
    "> 해시 함수 B와 D가 좋은 분포를 가진다."
   ]
  },
  {
   "cell_type": "markdown",
   "metadata": {},
   "source": [
    "### 5-7. 책 제목에 대해 저자를 할당하는 경우, 책 제목은 Maus, Fun Home, Watchmen\n",
    "> 해시 함수 B, C와 D가 좋은 분포를 가진다."
   ]
  }
 ],
 "metadata": {
  "kernelspec": {
   "display_name": "Python 2",
   "language": "python",
   "name": "python2"
  },
  "language_info": {
   "codemirror_mode": {
    "name": "ipython",
    "version": 2
   },
   "file_extension": ".py",
   "mimetype": "text/x-python",
   "name": "python",
   "nbconvert_exporter": "python",
   "pygments_lexer": "ipython2",
   "version": "2.7.12"
  }
 },
 "nbformat": 4,
 "nbformat_minor": 2
}
